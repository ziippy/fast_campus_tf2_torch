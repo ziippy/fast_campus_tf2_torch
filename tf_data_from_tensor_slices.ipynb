{
 "cells": [
  {
   "cell_type": "markdown",
   "id": "6c6bb516",
   "metadata": {},
   "source": [
    "## Packages"
   ]
  },
  {
   "cell_type": "code",
   "execution_count": 26,
   "id": "a768cd55",
   "metadata": {},
   "outputs": [],
   "source": [
    "import os\n",
    "from glob import glob\n",
    "\n",
    "import numpy as np\n",
    "\n",
    "import tensorflow as tf\n",
    "import tensorflow.keras.layers as layers\n",
    "from PIL import Image\n",
    "\n",
    "import matplotlib.pyplot as plt\n",
    "%matplotlib inline"
   ]
  },
  {
   "cell_type": "markdown",
   "id": "a52ba611",
   "metadata": {},
   "source": [
    "## Data Explore"
   ]
  },
  {
   "cell_type": "code",
   "execution_count": 6,
   "id": "595cc28d",
   "metadata": {},
   "outputs": [
    {
     "data": {
      "text/plain": [
       "'dataset/cifar/train/39769_automobile.png'"
      ]
     },
     "execution_count": 6,
     "metadata": {},
     "output_type": "execute_result"
    }
   ],
   "source": [
    "data_paths = glob('dataset/cifar/train/*.png')\n",
    "data_paths[0]"
   ]
  },
  {
   "cell_type": "code",
   "execution_count": 7,
   "id": "63a01ca4",
   "metadata": {},
   "outputs": [
    {
     "data": {
      "text/plain": [
       "'dataset/cifar/train/39769_automobile.png'"
      ]
     },
     "execution_count": 7,
     "metadata": {},
     "output_type": "execute_result"
    }
   ],
   "source": [
    "path = data_paths[0]\n",
    "path"
   ]
  },
  {
   "cell_type": "code",
   "execution_count": 9,
   "id": "1a847f31",
   "metadata": {},
   "outputs": [
    {
     "name": "stderr",
     "output_type": "stream",
     "text": [
      "2021-08-11 13:25:57.277896: I tensorflow/stream_executor/cuda/cuda_gpu_executor.cc:982] successful NUMA node read from SysFS had negative value (-1), but there must be at least one NUMA node, so returning NUMA node zero\n",
      "2021-08-11 13:25:57.278321: I tensorflow/core/common_runtime/gpu/gpu_device.cc:1716] Found device 0 with properties: \n",
      "pciBusID: 0000:01:00.0 name: GeForce RTX 2080 Ti computeCapability: 7.5\n",
      "coreClock: 1.545GHz coreCount: 68 deviceMemorySize: 10.76GiB deviceMemoryBandwidth: 573.69GiB/s\n",
      "2021-08-11 13:25:57.278389: I tensorflow/stream_executor/cuda/cuda_gpu_executor.cc:982] successful NUMA node read from SysFS had negative value (-1), but there must be at least one NUMA node, so returning NUMA node zero\n",
      "2021-08-11 13:25:57.278759: I tensorflow/core/common_runtime/gpu/gpu_device.cc:1716] Found device 1 with properties: \n",
      "pciBusID: 0000:02:00.0 name: GeForce RTX 2080 Ti computeCapability: 7.5\n",
      "coreClock: 1.545GHz coreCount: 68 deviceMemorySize: 10.76GiB deviceMemoryBandwidth: 573.69GiB/s\n",
      "2021-08-11 13:25:57.278779: I tensorflow/stream_executor/platform/default/dso_loader.cc:48] Successfully opened dynamic library libcudart.so.10.1\n",
      "2021-08-11 13:25:57.278797: I tensorflow/stream_executor/platform/default/dso_loader.cc:48] Successfully opened dynamic library libcublas.so.10\n",
      "2021-08-11 13:25:57.278808: I tensorflow/stream_executor/platform/default/dso_loader.cc:48] Successfully opened dynamic library libcufft.so.10\n",
      "2021-08-11 13:25:57.278817: I tensorflow/stream_executor/platform/default/dso_loader.cc:48] Successfully opened dynamic library libcurand.so.10\n",
      "2021-08-11 13:25:57.278827: I tensorflow/stream_executor/platform/default/dso_loader.cc:48] Successfully opened dynamic library libcusolver.so.10\n",
      "2021-08-11 13:25:57.278836: I tensorflow/stream_executor/platform/default/dso_loader.cc:48] Successfully opened dynamic library libcusparse.so.10\n",
      "2021-08-11 13:25:57.278846: I tensorflow/stream_executor/platform/default/dso_loader.cc:48] Successfully opened dynamic library libcudnn.so.7\n",
      "2021-08-11 13:25:57.278879: I tensorflow/stream_executor/cuda/cuda_gpu_executor.cc:982] successful NUMA node read from SysFS had negative value (-1), but there must be at least one NUMA node, so returning NUMA node zero\n",
      "2021-08-11 13:25:57.279262: I tensorflow/stream_executor/cuda/cuda_gpu_executor.cc:982] successful NUMA node read from SysFS had negative value (-1), but there must be at least one NUMA node, so returning NUMA node zero\n",
      "2021-08-11 13:25:57.279646: I tensorflow/stream_executor/cuda/cuda_gpu_executor.cc:982] successful NUMA node read from SysFS had negative value (-1), but there must be at least one NUMA node, so returning NUMA node zero\n",
      "2021-08-11 13:25:57.280028: I tensorflow/stream_executor/cuda/cuda_gpu_executor.cc:982] successful NUMA node read from SysFS had negative value (-1), but there must be at least one NUMA node, so returning NUMA node zero\n",
      "2021-08-11 13:25:57.280386: I tensorflow/core/common_runtime/gpu/gpu_device.cc:1858] Adding visible gpu devices: 0, 1\n",
      "2021-08-11 13:25:57.829000: I tensorflow/core/common_runtime/gpu/gpu_device.cc:1257] Device interconnect StreamExecutor with strength 1 edge matrix:\n",
      "2021-08-11 13:25:57.829020: I tensorflow/core/common_runtime/gpu/gpu_device.cc:1263]      0 1 \n",
      "2021-08-11 13:25:57.829027: I tensorflow/core/common_runtime/gpu/gpu_device.cc:1276] 0:   N N \n",
      "2021-08-11 13:25:57.829030: I tensorflow/core/common_runtime/gpu/gpu_device.cc:1276] 1:   N N \n",
      "2021-08-11 13:25:57.829236: I tensorflow/stream_executor/cuda/cuda_gpu_executor.cc:982] successful NUMA node read from SysFS had negative value (-1), but there must be at least one NUMA node, so returning NUMA node zero\n",
      "2021-08-11 13:25:57.829629: I tensorflow/stream_executor/cuda/cuda_gpu_executor.cc:982] successful NUMA node read from SysFS had negative value (-1), but there must be at least one NUMA node, so returning NUMA node zero\n",
      "2021-08-11 13:25:57.829993: I tensorflow/stream_executor/cuda/cuda_gpu_executor.cc:982] successful NUMA node read from SysFS had negative value (-1), but there must be at least one NUMA node, so returning NUMA node zero\n",
      "2021-08-11 13:25:57.830341: I tensorflow/core/common_runtime/gpu/gpu_device.cc:1402] Created TensorFlow device (/job:localhost/replica:0/task:0/device:GPU:0 with 9939 MB memory) -> physical GPU (device: 0, name: GeForce RTX 2080 Ti, pci bus id: 0000:01:00.0, compute capability: 7.5)\n",
      "2021-08-11 13:25:57.830677: I tensorflow/stream_executor/cuda/cuda_gpu_executor.cc:982] successful NUMA node read from SysFS had negative value (-1), but there must be at least one NUMA node, so returning NUMA node zero\n",
      "2021-08-11 13:25:57.831029: I tensorflow/core/common_runtime/gpu/gpu_device.cc:1402] Created TensorFlow device (/job:localhost/replica:0/task:0/device:GPU:1 with 10068 MB memory) -> physical GPU (device: 1, name: GeForce RTX 2080 Ti, pci bus id: 0000:02:00.0, compute capability: 7.5)\n"
     ]
    },
    {
     "data": {
      "text/plain": [
       "TensorShape([32, 32, 3])"
      ]
     },
     "execution_count": 9,
     "metadata": {},
     "output_type": "execute_result"
    }
   ],
   "source": [
    "gfile = tf.io.read_file(path)\n",
    "image = tf.io.decode_image(gfile)\n",
    "image.shape"
   ]
  },
  {
   "cell_type": "code",
   "execution_count": 11,
   "id": "dd9b1490",
   "metadata": {},
   "outputs": [
    {
     "data": {
      "text/plain": [
       "<matplotlib.image.AxesImage at 0x7fb62947db20>"
      ]
     },
     "execution_count": 11,
     "metadata": {},
     "output_type": "execute_result"
    },
    {
     "data": {
      "image/png": "[encoded data removed]",
      "text/plain": [
       "<Figure size 432x288 with 1 Axes>"
      ]
     },
     "metadata": {
      "needs_background": "light"
     },
     "output_type": "display_data"
    }
   ],
   "source": [
    "plt.title(os.path.basename(path))\n",
    "plt.imshow(image)"
   ]
  },
  {
   "cell_type": "markdown",
   "id": "eb40d70c",
   "metadata": {},
   "source": [
    "## tf.data - from_tensor_slices"
   ]
  },
  {
   "cell_type": "code",
   "execution_count": 13,
   "id": "01002188",
   "metadata": {
    "scrolled": true
   },
   "outputs": [
    {
     "data": {
      "text/plain": [
       "['dataset/cifar/train/39769_automobile.png',\n",
       " 'dataset/cifar/train/44545_airplane.png',\n",
       " 'dataset/cifar/train/2936_bird.png',\n",
       " 'dataset/cifar/train/7063_cat.png',\n",
       " 'dataset/cifar/train/38360_cat.png',\n",
       " 'dataset/cifar/train/3461_cat.png',\n",
       " 'dataset/cifar/train/9978_frog.png',\n",
       " 'dataset/cifar/train/1910_deer.png',\n",
       " 'dataset/cifar/train/7008_bird.png',\n",
       " 'dataset/cifar/train/41144_cat.png']"
      ]
     },
     "execution_count": 13,
     "metadata": {},
     "output_type": "execute_result"
    }
   ],
   "source": [
    "data_paths[:10]"
   ]
  },
  {
   "cell_type": "code",
   "execution_count": 14,
   "id": "587ae4ab",
   "metadata": {},
   "outputs": [],
   "source": [
    "def read_image(path):\n",
    "    gfile = tf.io.read_file(path)\n",
    "    image = tf.io.decode_image(gfile)\n",
    "    return image"
   ]
  },
  {
   "cell_type": "code",
   "execution_count": 16,
   "id": "dc5c936e",
   "metadata": {},
   "outputs": [],
   "source": [
    "train_dataset = tf.data.Dataset.from_tensor_slices(data_paths)\n",
    "train_dataset = train_dataset.map(read_image)"
   ]
  },
  {
   "cell_type": "code",
   "execution_count": 17,
   "id": "0f20b730",
   "metadata": {},
   "outputs": [],
   "source": [
    "tf_image = next(iter(train_dataset))"
   ]
  },
  {
   "cell_type": "code",
   "execution_count": 18,
   "id": "c069d23c",
   "metadata": {},
   "outputs": [
    {
     "data": {
      "text/plain": [
       "TensorShape([32, 32, 3])"
      ]
     },
     "execution_count": 18,
     "metadata": {},
     "output_type": "execute_result"
    }
   ],
   "source": [
    "tf_image.shape"
   ]
  },
  {
   "cell_type": "code",
   "execution_count": 19,
   "id": "f8dc5752",
   "metadata": {},
   "outputs": [
    {
     "data": {
      "text/plain": [
       "<matplotlib.image.AxesImage at 0x7fb5cc15e520>"
      ]
     },
     "execution_count": 19,
     "metadata": {},
     "output_type": "execute_result"
    },
    {
     "data": {
      "image/png": "[encoded data removed]",
      "text/plain": [
       "<Figure size 432x288 with 1 Axes>"
      ]
     },
     "metadata": {
      "needs_background": "light"
     },
     "output_type": "display_data"
    }
   ],
   "source": [
    "plt.imshow(tf_image)"
   ]
  },
  {
   "cell_type": "markdown",
   "id": "9246b7e2",
   "metadata": {},
   "source": [
    "## using Batch"
   ]
  },
  {
   "cell_type": "code",
   "execution_count": 20,
   "id": "9cca8771",
   "metadata": {},
   "outputs": [],
   "source": [
    "batch_size = 8\n",
    "\n",
    "train_dataset = tf.data.Dataset.from_tensor_slices(data_paths)\n",
    "train_dataset = train_dataset.map(read_image)\n",
    "train_dataset = train_dataset.batch(batch_size)"
   ]
  },
  {
   "cell_type": "code",
   "execution_count": 21,
   "id": "67e09a45",
   "metadata": {},
   "outputs": [
    {
     "data": {
      "text/plain": [
       "TensorShape([8, 32, 32, 3])"
      ]
     },
     "execution_count": 21,
     "metadata": {},
     "output_type": "execute_result"
    }
   ],
   "source": [
    "tf_image = next(iter(train_dataset))\n",
    "tf_image.shape"
   ]
  },
  {
   "cell_type": "markdown",
   "id": "3a0ed9eb",
   "metadata": {},
   "source": [
    "## using Shuffle"
   ]
  },
  {
   "cell_type": "code",
   "execution_count": 23,
   "id": "6b50306c",
   "metadata": {},
   "outputs": [],
   "source": [
    "batch_size = 8\n",
    "\n",
    "train_dataset = tf.data.Dataset.from_tensor_slices(data_paths)\n",
    "train_dataset = train_dataset.map(read_image)\n",
    "train_dataset = train_dataset.batch(batch_size)\n",
    "train_dataset = train_dataset.shuffle(buffer_size=len(data_paths))"
   ]
  },
  {
   "cell_type": "code",
   "execution_count": 24,
   "id": "39364816",
   "metadata": {},
   "outputs": [],
   "source": [
    "tf_image = next(iter(train_dataset))"
   ]
  },
  {
   "cell_type": "code",
   "execution_count": 26,
   "id": "4a15a964",
   "metadata": {},
   "outputs": [
    {
     "data": {
      "text/plain": [
       "<matplotlib.image.AxesImage at 0x7fb5cc118be0>"
      ]
     },
     "execution_count": 26,
     "metadata": {},
     "output_type": "execute_result"
    },
    {
     "data": {
      "image/png": "[encoded data removed]",
      "text/plain": [
       "<Figure size 432x288 with 1 Axes>"
      ]
     },
     "metadata": {
      "needs_background": "light"
     },
     "output_type": "display_data"
    }
   ],
   "source": [
    "plt.imshow(tf_image[0])"
   ]
  },
  {
   "cell_type": "markdown",
   "id": "9deea619",
   "metadata": {},
   "source": [
    "## with Label"
   ]
  },
  {
   "cell_type": "code",
   "execution_count": 27,
   "id": "26dbd516",
   "metadata": {},
   "outputs": [
    {
     "data": {
      "text/plain": [
       "'dataset/cifar/train/39769_automobile.png'"
      ]
     },
     "execution_count": 27,
     "metadata": {},
     "output_type": "execute_result"
    }
   ],
   "source": [
    "path"
   ]
  },
  {
   "cell_type": "code",
   "execution_count": 29,
   "id": "68e9e4de",
   "metadata": {},
   "outputs": [
    {
     "data": {
      "text/plain": [
       "'automobile'"
      ]
     },
     "execution_count": 29,
     "metadata": {},
     "output_type": "execute_result"
    }
   ],
   "source": [
    "path.split('_')[-1].replace('.png', '')"
   ]
  },
  {
   "cell_type": "code",
   "execution_count": 30,
   "id": "0d55ea91",
   "metadata": {},
   "outputs": [],
   "source": [
    "def get_label(path):\n",
    "    return path.split('_')[-1].replace('.png', '')"
   ]
  },
  {
   "cell_type": "code",
   "execution_count": 31,
   "id": "f51b0069",
   "metadata": {},
   "outputs": [
    {
     "data": {
      "text/plain": [
       "('dataset/cifar/train/39769_automobile.png', 'automobile')"
      ]
     },
     "execution_count": 31,
     "metadata": {},
     "output_type": "execute_result"
    }
   ],
   "source": [
    "path, get_label(path)"
   ]
  },
  {
   "cell_type": "code",
   "execution_count": 32,
   "id": "dd45cec4",
   "metadata": {},
   "outputs": [],
   "source": [
    "label_names = [get_label(path) for path in data_paths]"
   ]
  },
  {
   "cell_type": "code",
   "execution_count": 33,
   "id": "b9227d24",
   "metadata": {},
   "outputs": [
    {
     "data": {
      "text/plain": [
       "array(['airplane', 'automobile', 'bird', 'cat', 'deer', 'dog', 'frog',\n",
       "       'horse', 'ship', 'truck'], dtype='<U10')"
      ]
     },
     "execution_count": 33,
     "metadata": {},
     "output_type": "execute_result"
    }
   ],
   "source": [
    "class_names = np.unique(label_names)\n",
    "class_names"
   ]
  },
  {
   "cell_type": "code",
   "execution_count": 44,
   "id": "9a26fc4a",
   "metadata": {},
   "outputs": [],
   "source": [
    "def onehot_encoding(label):\n",
    "    return np.array(class_names == label, np.uint8)"
   ]
  },
  {
   "cell_type": "code",
   "execution_count": 42,
   "id": "3df436ec",
   "metadata": {},
   "outputs": [],
   "source": [
    "def read_image_label(path, label):\n",
    "    gfile = tf.io.read_file(path)\n",
    "    image = tf.io.decode_image(gfile)\n",
    "    return image"
   ]
  },
  {
   "cell_type": "code",
   "execution_count": 38,
   "id": "cc16e8e1",
   "metadata": {},
   "outputs": [
    {
     "data": {
      "text/plain": [
       "['dataset/cifar/train/39769_automobile.png',\n",
       " 'dataset/cifar/train/44545_airplane.png',\n",
       " 'dataset/cifar/train/2936_bird.png',\n",
       " 'dataset/cifar/train/7063_cat.png',\n",
       " 'dataset/cifar/train/38360_cat.png']"
      ]
     },
     "execution_count": 38,
     "metadata": {},
     "output_type": "execute_result"
    }
   ],
   "source": [
    "data_paths[:5]"
   ]
  },
  {
   "cell_type": "code",
   "execution_count": 40,
   "id": "3be543f0",
   "metadata": {},
   "outputs": [
    {
     "data": {
      "text/plain": [
       "['automobile', 'airplane', 'bird', 'cat', 'cat']"
      ]
     },
     "execution_count": 40,
     "metadata": {},
     "output_type": "execute_result"
    }
   ],
   "source": [
    "label_names[:5]"
   ]
  },
  {
   "cell_type": "code",
   "execution_count": 53,
   "id": "70ee03a1",
   "metadata": {},
   "outputs": [
    {
     "data": {
      "text/plain": [
       "<matplotlib.image.AxesImage at 0x7fb5bc1b5d30>"
      ]
     },
     "execution_count": 53,
     "metadata": {},
     "output_type": "execute_result"
    },
    {
     "data": {
      "image/png": "[encoded data removed]",
      "text/plain": [
       "<Figure size 432x288 with 1 Axes>"
      ]
     },
     "metadata": {
      "needs_background": "light"
     },
     "output_type": "display_data"
    }
   ],
   "source": [
    "batch_size = 8\n",
    "\n",
    "train_dataset = tf.data.Dataset.from_tensor_slices((data_paths, label_names))\n",
    "train_dataset = train_dataset.map(read_image_label)\n",
    "train_dataset = train_dataset.batch(batch_size)\n",
    "train_dataset = train_dataset.shuffle(buffer_size=len(data_paths))\n",
    "                                                   \n",
    "tf_image = next(iter(train_dataset))\n",
    "plt.imshow(tf_image[0])"
   ]
  },
  {
   "cell_type": "code",
   "execution_count": 45,
   "id": "15fe0e0a",
   "metadata": {},
   "outputs": [
    {
     "data": {
      "text/plain": [
       "<tf.Tensor: shape=(), dtype=string, numpy=b'automobile.png'>"
      ]
     },
     "execution_count": 45,
     "metadata": {},
     "output_type": "execute_result"
    }
   ],
   "source": [
    "fname = tf.strings.split(path, '_')[-1]\n",
    "fname"
   ]
  },
  {
   "cell_type": "code",
   "execution_count": 46,
   "id": "2ade74b4",
   "metadata": {},
   "outputs": [
    {
     "data": {
      "text/plain": [
       "<tf.Tensor: shape=(), dtype=string, numpy=b'automobile'>"
      ]
     },
     "execution_count": 46,
     "metadata": {},
     "output_type": "execute_result"
    }
   ],
   "source": [
    "cls_name = tf.strings.regex_replace(fname, '.png', '')\n",
    "cls_name"
   ]
  },
  {
   "cell_type": "code",
   "execution_count": 47,
   "id": "86107c9c",
   "metadata": {},
   "outputs": [
    {
     "data": {
      "text/plain": [
       "array(['airplane', 'automobile', 'bird', 'cat', 'deer', 'dog', 'frog',\n",
       "       'horse', 'ship', 'truck'], dtype='<U10')"
      ]
     },
     "execution_count": 47,
     "metadata": {},
     "output_type": "execute_result"
    }
   ],
   "source": [
    "class_names"
   ]
  },
  {
   "cell_type": "code",
   "execution_count": 48,
   "id": "a8180e75",
   "metadata": {},
   "outputs": [
    {
     "data": {
      "text/plain": [
       "<tf.Tensor: shape=(10,), dtype=bool, numpy=\n",
       "array([False,  True, False, False, False, False, False, False, False,\n",
       "       False])>"
      ]
     },
     "execution_count": 48,
     "metadata": {},
     "output_type": "execute_result"
    }
   ],
   "source": [
    "class_names == cls_name"
   ]
  },
  {
   "cell_type": "code",
   "execution_count": 50,
   "id": "c99c1abc",
   "metadata": {},
   "outputs": [
    {
     "data": {
      "text/plain": [
       "<tf.Tensor: shape=(10,), dtype=uint8, numpy=array([0, 1, 0, 0, 0, 0, 0, 0, 0, 0], dtype=uint8)>"
      ]
     },
     "execution_count": 50,
     "metadata": {},
     "output_type": "execute_result"
    }
   ],
   "source": [
    "onehot_encoding = tf.cast(class_names == cls_name, tf.uint8)\n",
    "onehot_encoding"
   ]
  },
  {
   "cell_type": "code",
   "execution_count": 51,
   "id": "29f332a7",
   "metadata": {},
   "outputs": [],
   "source": [
    "def get_label(path):\n",
    "    fname = tf.strings.split(path, '_')[-1]\n",
    "    cls_name = tf.strings.regex_replace(fname, '.png', '')\n",
    "    onehot_encoding = tf.cast(class_names == cls_name, tf.uint8)\n",
    "    return onehot_encoding"
   ]
  },
  {
   "cell_type": "code",
   "execution_count": 55,
   "id": "ef5c5be7",
   "metadata": {},
   "outputs": [],
   "source": [
    "def read_image(path):\n",
    "    # read image\n",
    "    gfile = tf.io.read_file(path)\n",
    "    image = tf.io.decode_image(gfile)\n",
    "    # get label\n",
    "    label = get_label(path)\n",
    "    return image, label"
   ]
  },
  {
   "cell_type": "code",
   "execution_count": 59,
   "id": "fadf3750",
   "metadata": {},
   "outputs": [
    {
     "name": "stderr",
     "output_type": "stream",
     "text": [
      "/home/ziippy/venv_tf2/lib/python3.8/site-packages/matplotlib/text.py:1215: FutureWarning: elementwise comparison failed; returning scalar instead, but in the future will perform elementwise comparison\n",
      "  if s != self._text:\n"
     ]
    },
    {
     "data": {
      "text/plain": [
       "<matplotlib.image.AxesImage at 0x7fb5bc6c0c10>"
      ]
     },
     "execution_count": 59,
     "metadata": {},
     "output_type": "execute_result"
    },
    {
     "data": {
      "image/png": "[encoded data removed]",
      "text/plain": [
       "<Figure size 432x288 with 1 Axes>"
      ]
     },
     "metadata": {
      "needs_background": "light"
     },
     "output_type": "display_data"
    }
   ],
   "source": [
    "batch_size = 8\n",
    "\n",
    "train_dataset = tf.data.Dataset.from_tensor_slices(data_paths)\n",
    "train_dataset = train_dataset.map(read_image)\n",
    "train_dataset = train_dataset.batch(batch_size)\n",
    "train_dataset = train_dataset.repeat()\n",
    "                                                   \n",
    "tf_image, tf_label = next(iter(train_dataset))\n",
    "plt.title(np.array(tf_label[0]))\n",
    "plt.imshow(tf_image[0])"
   ]
  },
  {
   "cell_type": "markdown",
   "id": "9b71597b",
   "metadata": {},
   "source": [
    "## Training"
   ]
  },
  {
   "cell_type": "code",
   "execution_count": 16,
   "id": "2fb6704f",
   "metadata": {},
   "outputs": [],
   "source": [
    "train_paths = glob('dataset/cifar/train/*.png')\n",
    "test_paths = glob('dataset/cifar/train/*.png')\n",
    "\n",
    "path = train_paths[0]"
   ]
  },
  {
   "cell_type": "code",
   "execution_count": 7,
   "id": "a4cd791e",
   "metadata": {},
   "outputs": [],
   "source": [
    "def get_class_name(path):\n",
    "    fname = tf.strings.split(path, '_')[-1]\n",
    "    class_name = tf.strings.regex_replace(fname, '.png', '')\n",
    "    return class_name"
   ]
  },
  {
   "cell_type": "code",
   "execution_count": 8,
   "id": "91f663d2",
   "metadata": {},
   "outputs": [],
   "source": [
    "class_names = [get_class_name(path) for path in train_paths]"
   ]
  },
  {
   "cell_type": "code",
   "execution_count": 11,
   "id": "bdb42714",
   "metadata": {},
   "outputs": [
    {
     "data": {
      "text/plain": [
       "array([b'automobile', b'airplane', b'bird', b'cat', b'frog', b'deer',\n",
       "       b'dog', b'horse', b'ship', b'truck'], dtype=object)"
      ]
     },
     "execution_count": 11,
     "metadata": {},
     "output_type": "execute_result"
    }
   ],
   "source": [
    "classes = tf.unique(class_names).y.numpy()\n",
    "classes"
   ]
  },
  {
   "cell_type": "code",
   "execution_count": 22,
   "id": "9464f46a",
   "metadata": {},
   "outputs": [],
   "source": [
    "def get_label(path):\n",
    "    class_name = get_class_name(path)\n",
    "    onehot_encoding = tf.cast(classes == class_name, tf.uint8)\n",
    "    return onehot_encoding\n",
    "\n",
    "def read_dataset(path):\n",
    "    # image\n",
    "    gfile = tf.io.read_file(path)\n",
    "    image = tf.io.decode_image(gfile)\n",
    "    \n",
    "    # normalization\n",
    "    image = tf.cast(image, tf.float32) / 255.\n",
    "\n",
    "    #label\n",
    "    label = get_label(path)\n",
    "    return image, label"
   ]
  },
  {
   "cell_type": "code",
   "execution_count": 17,
   "id": "35ac3f6b",
   "metadata": {},
   "outputs": [
    {
     "data": {
      "text/plain": [
       "(TensorShape([32, 32, 3]), TensorShape([10]))"
      ]
     },
     "execution_count": 17,
     "metadata": {},
     "output_type": "execute_result"
    }
   ],
   "source": [
    "image, label = read_dataset(path)\n",
    "image.shape, label.shape"
   ]
  },
  {
   "cell_type": "code",
   "execution_count": 18,
   "id": "2e96fb26",
   "metadata": {},
   "outputs": [],
   "source": [
    "def image_preprocessing(image, label):\n",
    "    image = tf.image.random_flip_left_right(image)\n",
    "    image = tf.image.random_flip_up_down(image)\n",
    "    return image, label"
   ]
  },
  {
   "cell_type": "code",
   "execution_count": 20,
   "id": "fd20e32d",
   "metadata": {},
   "outputs": [],
   "source": [
    "transformed, label = image_preprocessing(image, label)"
   ]
  },
  {
   "cell_type": "code",
   "execution_count": 21,
   "id": "272646c4",
   "metadata": {},
   "outputs": [
    {
     "data": {
      "text/plain": [
       "<matplotlib.image.AxesImage at 0x7f73fa65f3a0>"
      ]
     },
     "execution_count": 21,
     "metadata": {},
     "output_type": "execute_result"
    },
    {
     "data": {
      "image/png": "[encoded data removed]",
      "text/plain": [
       "<Figure size 432x288 with 2 Axes>"
      ]
     },
     "metadata": {
      "needs_background": "light"
     },
     "output_type": "display_data"
    }
   ],
   "source": [
    "plt.subplot(121)\n",
    "plt.imshow(image)\n",
    "\n",
    "plt.subplot(122)\n",
    "plt.imshow(transformed)"
   ]
  },
  {
   "cell_type": "code",
   "execution_count": 23,
   "id": "633c14d8",
   "metadata": {},
   "outputs": [],
   "source": [
    "batch_size = 8\n",
    "\n",
    "train_dataset = tf.data.Dataset.from_tensor_slices(train_paths)\n",
    "train_dataset = train_dataset.map(read_dataset)\n",
    "train_dataset = train_dataset.map(image_preprocessing) # transformed\n",
    "train_dataset = train_dataset.batch(batch_size)\n",
    "train_dataset = train_dataset.shuffle(buffer_size=len(train_paths))\n",
    "train_dataset = train_dataset.repeat()"
   ]
  },
  {
   "cell_type": "code",
   "execution_count": 24,
   "id": "8ce41f36",
   "metadata": {},
   "outputs": [],
   "source": [
    "test_dataset = tf.data.Dataset.from_tensor_slices(test_paths)\n",
    "test_dataset = test_dataset.map(read_dataset)\n",
    "test_dataset = test_dataset.batch(batch_size)\n",
    "test_dataset = test_dataset.shuffle(buffer_size=len(test_paths))\n",
    "test_dataset = test_dataset.repeat()"
   ]
  },
  {
   "cell_type": "code",
   "execution_count": 32,
   "id": "f49283b3",
   "metadata": {},
   "outputs": [],
   "source": [
    "inputs = layers.Input((32, 32, 3))\n",
    "\n",
    "net = layers.Conv2D(32, (3, 3), padding='SAME', activation='relu')(inputs)\n",
    "net = layers.Conv2D(32, (3, 3), padding='SAME', activation='relu')(net)\n",
    "net = layers.MaxPooling2D((2,2))(net)\n",
    "net = layers.Dropout(0.2)(net)\n",
    "\n",
    "net = layers.Conv2D(64, (3, 3), padding='SAME', activation='relu')(net)\n",
    "net = layers.Conv2D(64, (3, 3), padding='SAME', activation='relu')(net)\n",
    "net = layers.MaxPooling2D((2,2))(net)\n",
    "net = layers.Dropout(0.2)(net)\n",
    "\n",
    "net = layers.Flatten()(net)\n",
    "net = layers.Dense(512, activation='relu')(net)\n",
    "net = layers.Dropout(0.2)(net)\n",
    "net = layers.Dense(10, activation='softmax')(net)\n",
    "\n",
    "model = tf.keras.Model(inputs=inputs,\n",
    "                      outputs=net,\n",
    "                      name='Basic_CNN')\n",
    "\n",
    "# model.summary()"
   ]
  },
  {
   "cell_type": "code",
   "execution_count": 33,
   "id": "9a7d56e5",
   "metadata": {},
   "outputs": [],
   "source": [
    "loss = 'categorical_crossentropy'\n",
    "optimizer = 'adam'\n",
    "metrics = ['accuracy']"
   ]
  },
  {
   "cell_type": "code",
   "execution_count": 34,
   "id": "2fdc2c6b",
   "metadata": {},
   "outputs": [],
   "source": [
    "model.compile(optimizer=optimizer,\n",
    "             loss=loss,\n",
    "             metrics=metrics)"
   ]
  },
  {
   "cell_type": "code",
   "execution_count": 35,
   "id": "de6a461e",
   "metadata": {},
   "outputs": [
    {
     "name": "stdout",
     "output_type": "stream",
     "text": [
      "Epoch 1/3\n"
     ]
    },
    {
     "name": "stderr",
     "output_type": "stream",
     "text": [
      "2021-08-11 18:21:27.657686: I tensorflow/core/kernels/data/shuffle_dataset_op.cc:172] Filling up shuffle buffer (this may take a while): 9629 of 50000\n"
     ]
    },
    {
     "name": "stdout",
     "output_type": "stream",
     "text": [
      "\r",
      "   1/6250 [..............................] - ETA: 2s - loss: 2.2859 - accuracy: 0.1250"
     ]
    },
    {
     "name": "stderr",
     "output_type": "stream",
     "text": [
      "2021-08-11 18:21:36.485297: I tensorflow/core/kernels/data/shuffle_dataset_op.cc:221] Shuffle buffer filled.\n"
     ]
    },
    {
     "name": "stdout",
     "output_type": "stream",
     "text": [
      "6218/6250 [============================>.] - ETA: 0s - loss: 1.6855 - accuracy: 0.3728"
     ]
    },
    {
     "name": "stderr",
     "output_type": "stream",
     "text": [
      "2021-08-11 18:21:56.274534: I tensorflow/core/kernels/data/shuffle_dataset_op.cc:172] Filling up shuffle buffer (this may take a while): 13455 of 50000\n",
      "2021-08-11 18:21:59.963149: I tensorflow/core/kernels/data/shuffle_dataset_op.cc:221] Shuffle buffer filled.\n"
     ]
    },
    {
     "name": "stdout",
     "output_type": "stream",
     "text": [
      "6250/6250 [==============================] - 29s 5ms/step - loss: 1.6846 - accuracy: 0.3733 - val_loss: 1.3450 - val_accuracy: 0.5110\n",
      "Epoch 2/3\n",
      "6218/6250 [============================>.] - ETA: 0s - loss: 1.3544 - accuracy: 0.5099"
     ]
    },
    {
     "name": "stderr",
     "output_type": "stream",
     "text": [
      "2021-08-11 18:22:24.867463: I tensorflow/core/kernels/data/shuffle_dataset_op.cc:172] Filling up shuffle buffer (this may take a while): 14797 of 50000\n",
      "2021-08-11 18:22:27.555423: I tensorflow/core/kernels/data/shuffle_dataset_op.cc:221] Shuffle buffer filled.\n"
     ]
    },
    {
     "name": "stdout",
     "output_type": "stream",
     "text": [
      "6250/6250 [==============================] - 28s 4ms/step - loss: 1.3545 - accuracy: 0.5097 - val_loss: 1.1590 - val_accuracy: 0.5855\n",
      "Epoch 3/3\n",
      "6249/6250 [============================>.] - ETA: 0s - loss: 1.2525 - accuracy: 0.5495"
     ]
    },
    {
     "name": "stderr",
     "output_type": "stream",
     "text": [
      "2021-08-11 18:22:52.120803: I tensorflow/core/kernels/data/shuffle_dataset_op.cc:172] Filling up shuffle buffer (this may take a while): 14827 of 50000\n",
      "2021-08-11 18:22:54.756755: I tensorflow/core/kernels/data/shuffle_dataset_op.cc:221] Shuffle buffer filled.\n"
     ]
    },
    {
     "name": "stdout",
     "output_type": "stream",
     "text": [
      "\b\b\b\b\b\b\b\b\b\b\b\b\b\b\b\b\b\b\b\b\b\b\b\b\b\b\b\b\b\b\b\b\b\b\b\b\b\b\b\b\b\b\b\b\b\b\b\b\b\b\b\b\b\b\b\b\b\b\b\b\b\b\b\b\b\b\b\b\b\b\b\b\b\b\b\b\b\b\b\b\b\b\b\b\b\b\r",
      "6250/6250 [==============================] - 27s 4ms/step - loss: 1.2525 - accuracy: 0.5496 - val_loss: 1.0771 - val_accuracy: 0.6177\n"
     ]
    }
   ],
   "source": [
    "num_classes = 10\n",
    "epochs = 3\n",
    "\n",
    "hist = model.fit_generator(train_dataset,\n",
    "                          steps_per_epoch=len(train_paths) // batch_size,\n",
    "                          epochs=epochs,\n",
    "                          validation_data=test_dataset,\n",
    "                          validation_steps=len(test_paths) // batch_size)"
   ]
  },
  {
   "cell_type": "code",
   "execution_count": null,
   "id": "722f7d1e",
   "metadata": {},
   "outputs": [],
   "source": []
  }
 ],
 "metadata": {
  "kernelspec": {
   "display_name": "Python 3 (ipykernel)",
   "language": "python",
   "name": "python3"
  },
  "language_info": {
   "codemirror_mode": {
    "name": "ipython",
    "version": 3
   },
   "file_extension": ".py",
   "mimetype": "text/x-python",
   "name": "python",
   "nbconvert_exporter": "python",
   "pygments_lexer": "ipython3",
   "version": "3.8.10"
  }
 },
 "nbformat": 4,
 "nbformat_minor": 5
}
