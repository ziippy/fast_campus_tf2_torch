{
 "cells": [
  {
   "cell_type": "code",
   "execution_count": 1,
   "id": "4962aae2",
   "metadata": {},
   "outputs": [
    {
     "name": "stderr",
     "output_type": "stream",
     "text": [
      "2021-08-11 23:40:54.219576: I tensorflow/stream_executor/platform/default/dso_loader.cc:48] Successfully opened dynamic library libcudart.so.10.1\n"
     ]
    }
   ],
   "source": [
    "import os\n",
    "from glob import glob\n",
    "from datetime import datetime\n",
    "\n",
    "import numpy as np\n",
    "\n",
    "import tensorflow as tf\n",
    "from tensorflow.keras import layers\n",
    "from tensorflow.keras import datasets\n",
    "\n",
    "import matplotlib.pyplot as plt\n",
    "%matplotlib inline"
   ]
  },
  {
   "cell_type": "code",
   "execution_count": 2,
   "id": "2f1da233",
   "metadata": {},
   "outputs": [],
   "source": [
    "%load_ext tensorboard"
   ]
  },
  {
   "cell_type": "code",
   "execution_count": 3,
   "id": "07abdcc0",
   "metadata": {},
   "outputs": [],
   "source": [
    "num_epochs = 10\n",
    "batch_size = 32\n",
    "\n",
    "learning_rate = 0.001\n",
    "\n",
    "dropout_rate = 0.5\n",
    "\n",
    "input_shape = (32, 32, 3)\n",
    "num_classes = 10"
   ]
  },
  {
   "cell_type": "code",
   "execution_count": 19,
   "id": "880fff7a",
   "metadata": {},
   "outputs": [],
   "source": [
    "train_paths = glob('dataset/cifar/train/*.png')\n",
    "test_paths = glob('dataset/cifar/train/*.png')\n",
    "\n",
    "path = train_paths[0]"
   ]
  },
  {
   "cell_type": "code",
   "execution_count": 20,
   "id": "54e35ef8",
   "metadata": {},
   "outputs": [],
   "source": [
    "def get_class_name(path):\n",
    "    fname = tf.strings.split(path, '_')[-1]\n",
    "    class_name = tf.strings.regex_replace(fname, '.png', '')\n",
    "    return class_name\n",
    "\n",
    "train_labels = [get_class_name(path) for path in train_paths]\n",
    "class_names = tf.unique(train_labels).y.numpy()"
   ]
  },
  {
   "cell_type": "code",
   "execution_count": 21,
   "id": "de6e8f81",
   "metadata": {},
   "outputs": [],
   "source": [
    "def get_label(path):\n",
    "    lbl_name = get_class_name(path)\n",
    "    onehot_encoding = tf.cast(class_names == lbl_name, tf.uint8)\n",
    "    return tf.argmax(onehot_encoding)\n",
    "\n",
    "def load_image_label(path):\n",
    "    # image\n",
    "    gfile = tf.io.read_file(path)\n",
    "    image = tf.io.decode_image(gfile)\n",
    "    \n",
    "    # normalization\n",
    "    image = tf.cast(image, tf.float32) / 255.\n",
    "\n",
    "    #label\n",
    "    label = get_label(path)\n",
    "    return image, label\n",
    "\n",
    "def image_preprocessing(image, label):\n",
    "    image = tf.image.random_flip_left_right(image)\n",
    "    image = tf.image.random_flip_up_down(image)\n",
    "    return image, label"
   ]
  },
  {
   "cell_type": "code",
   "execution_count": 22,
   "id": "a794a792",
   "metadata": {},
   "outputs": [],
   "source": [
    "AUTOTUNE = tf.data.experimental.AUTOTUNE"
   ]
  },
  {
   "cell_type": "code",
   "execution_count": 23,
   "id": "14254f9c",
   "metadata": {},
   "outputs": [],
   "source": [
    "train_dataset = tf.data.Dataset.from_tensor_slices(train_paths)\n",
    "train_dataset = train_dataset.map(load_image_label, num_parallel_calls=AUTOTUNE)\n",
    "train_dataset = train_dataset.map(image_preprocessing, num_parallel_calls=AUTOTUNE) # transformed\n",
    "train_dataset = train_dataset.batch(batch_size)\n",
    "train_dataset = train_dataset.shuffle(buffer_size=len(train_paths))\n",
    "train_dataset = train_dataset.repeat()"
   ]
  },
  {
   "cell_type": "code",
   "execution_count": 24,
   "id": "5a4b7ca5",
   "metadata": {},
   "outputs": [],
   "source": [
    "test_dataset = tf.data.Dataset.from_tensor_slices(test_paths)\n",
    "test_dataset = test_dataset.map(load_image_label, num_parallel_calls=AUTOTUNE)\n",
    "test_dataset = test_dataset.batch(batch_size)\n",
    "test_dataset = test_dataset.repeat()"
   ]
  },
  {
   "cell_type": "markdown",
   "id": "cd4ae522",
   "metadata": {},
   "source": [
    "## Callbacks - Tensorboard"
   ]
  },
  {
   "cell_type": "code",
   "execution_count": 16,
   "id": "ef5ed9b7",
   "metadata": {},
   "outputs": [
    {
     "data": {
      "text/plain": [
       "datetime.datetime(2021, 8, 11, 22, 8, 28, 245259)"
      ]
     },
     "execution_count": 16,
     "metadata": {},
     "output_type": "execute_result"
    }
   ],
   "source": [
    "starttime = datetime.now()\n",
    "starttime"
   ]
  },
  {
   "cell_type": "code",
   "execution_count": 12,
   "id": "73e71f4b",
   "metadata": {},
   "outputs": [],
   "source": [
    "logdir = os.path.join('logs', datetime.now().strftime('%Y%m%d-%H%M%S'))"
   ]
  },
  {
   "cell_type": "code",
   "execution_count": 13,
   "id": "b73d7b68",
   "metadata": {},
   "outputs": [
    {
     "name": "stderr",
     "output_type": "stream",
     "text": [
      "2021-08-11 23:41:56.968590: I tensorflow/core/profiler/lib/profiler_session.cc:164] Profiler session started.\n",
      "2021-08-11 23:41:56.968631: I tensorflow/core/profiler/internal/gpu/cupti_tracer.cc:1391] Profiler found 2 GPUs\n",
      "2021-08-11 23:41:56.969136: I tensorflow/stream_executor/platform/default/dso_loader.cc:48] Successfully opened dynamic library libcupti.so.10.1\n",
      "2021-08-11 23:41:57.069551: E tensorflow/core/profiler/internal/gpu/cupti_tracer.cc:1441] function cupti_interface_->Subscribe( &subscriber_, (CUpti_CallbackFunc)ApiCallback, this)failed with error CUPTI_ERROR_INSUFFICIENT_PRIVILEGES\n"
     ]
    }
   ],
   "source": [
    "tensorboard = tf.keras.callbacks.TensorBoard(log_dir=logdir,\n",
    "                                             write_graph=True,\n",
    "                                             write_images=True,\n",
    "                                             histogram_freq=1)"
   ]
  },
  {
   "cell_type": "code",
   "execution_count": 14,
   "id": "7b7125c9",
   "metadata": {},
   "outputs": [
    {
     "data": {
      "text/html": [
       "\n",
       "      <iframe id=\"tensorboard-frame-c275608a333cb7a9\" width=\"100%\" height=\"800\" frameborder=\"0\">\n",
       "      </iframe>\n",
       "      <script>\n",
       "        (function() {\n",
       "          const frame = document.getElementById(\"tensorboard-frame-c275608a333cb7a9\");\n",
       "          const url = new URL(\"/\", window.location);\n",
       "          const port = 6006;\n",
       "          if (port) {\n",
       "            url.port = port;\n",
       "          }\n",
       "          frame.src = url;\n",
       "        })();\n",
       "      </script>\n",
       "    "
      ],
      "text/plain": [
       "<IPython.core.display.HTML object>"
      ]
     },
     "metadata": {},
     "output_type": "display_data"
    }
   ],
   "source": [
    "%tensorboard --logdir logs"
   ]
  },
  {
   "cell_type": "markdown",
   "id": "9f242d07",
   "metadata": {},
   "source": [
    "## Training"
   ]
  },
  {
   "cell_type": "code",
   "execution_count": 15,
   "id": "7d2022e2",
   "metadata": {},
   "outputs": [],
   "source": [
    "inputs = layers.Input((32, 32, 3))\n",
    "\n",
    "net = layers.Conv2D(32, (3, 3), padding='SAME', activation='relu')(inputs)\n",
    "net = layers.Conv2D(32, (3, 3), padding='SAME', activation='relu')(net)\n",
    "net = layers.MaxPooling2D((2,2))(net)\n",
    "net = layers.Dropout(0.2)(net)\n",
    "\n",
    "net = layers.Conv2D(64, (3, 3), padding='SAME', activation='relu')(net)\n",
    "net = layers.Conv2D(64, (3, 3), padding='SAME', activation='relu')(net)\n",
    "net = layers.MaxPooling2D((2,2))(net)\n",
    "net = layers.Dropout(0.2)(net)\n",
    "\n",
    "net = layers.Flatten()(net)\n",
    "net = layers.Dense(512, activation='relu')(net)\n",
    "net = layers.Dropout(0.2)(net)\n",
    "net = layers.Dense(10, activation='softmax')(net)\n",
    "\n",
    "model = tf.keras.Model(inputs=inputs,\n",
    "                      outputs=net,\n",
    "                      name='Basic_CNN')\n",
    "\n",
    "# model.summary()"
   ]
  },
  {
   "cell_type": "code",
   "execution_count": 16,
   "id": "f5644069",
   "metadata": {},
   "outputs": [],
   "source": [
    "loss = 'sparse_categorical_crossentropy'\n",
    "optimizer = 'adam'\n",
    "metrics = ['accuracy']"
   ]
  },
  {
   "cell_type": "code",
   "execution_count": 17,
   "id": "34d73e2b",
   "metadata": {},
   "outputs": [],
   "source": [
    "model.compile(optimizer=optimizer,\n",
    "             loss=loss,\n",
    "             metrics=metrics)"
   ]
  },
  {
   "cell_type": "code",
   "execution_count": 25,
   "id": "228ad0ae",
   "metadata": {},
   "outputs": [
    {
     "name": "stdout",
     "output_type": "stream",
     "text": [
      "Epoch 1/10\n",
      "   1/1562 [..............................] - ETA: 1s - loss: 1.3442 - accuracy: 0.4688WARNING:tensorflow:From /home/ziippy/venv_tf2/lib/python3.8/site-packages/tensorflow/python/ops/summary_ops_v2.py:1277: stop (from tensorflow.python.eager.profiler) is deprecated and will be removed after 2020-07-01.\n",
      "Instructions for updating:\n",
      "use `tf.profiler.experimental.stop` instead.\n",
      "WARNING:tensorflow:Callbacks method `on_train_batch_end` is slow compared to the batch time (batch time: 0.0048s vs `on_train_batch_end` time: 0.0191s). Check your callbacks.\n",
      "  73/1562 [>.............................] - ETA: 4s - loss: 1.7462 - accuracy: 0.3652"
     ]
    },
    {
     "name": "stderr",
     "output_type": "stream",
     "text": [
      "2021-08-11 23:45:15.070784: I tensorflow/core/profiler/lib/profiler_session.cc:164] Profiler session started.\n",
      "2021-08-11 23:45:15.071438: E tensorflow/core/profiler/internal/gpu/cupti_tracer.cc:1441] function cupti_interface_->Subscribe( &subscriber_, (CUpti_CallbackFunc)ApiCallback, this)failed with error CUPTI_ERROR_INSUFFICIENT_PRIVILEGES\n",
      "2021-08-11 23:45:15.079538: I tensorflow/core/profiler/internal/gpu/device_tracer.cc:223]  GpuTracer has collected 0 callback api events and 0 activity events. \n",
      "2021-08-11 23:45:15.086331: I tensorflow/core/profiler/rpc/client/save_profile.cc:176] Creating directory: logs/20210811-234156/train/plugins/profile/2021_08_11_23_45_15\n",
      "2021-08-11 23:45:15.087664: I tensorflow/core/profiler/rpc/client/save_profile.cc:182] Dumped gzipped tool data for trace.json.gz to logs/20210811-234156/train/plugins/profile/2021_08_11_23_45_15/V6.trace.json.gz\n",
      "2021-08-11 23:45:15.093474: I tensorflow/core/profiler/rpc/client/save_profile.cc:176] Creating directory: logs/20210811-234156/train/plugins/profile/2021_08_11_23_45_15\n",
      "2021-08-11 23:45:15.094291: I tensorflow/core/profiler/rpc/client/save_profile.cc:182] Dumped gzipped tool data for memory_profile.json.gz to logs/20210811-234156/train/plugins/profile/2021_08_11_23_45_15/V6.memory_profile.json.gz\n",
      "2021-08-11 23:45:15.094457: I tensorflow/python/profiler/internal/profiler_wrapper.cc:111] Creating directory: logs/20210811-234156/train/plugins/profile/2021_08_11_23_45_15Dumped tool data for xplane.pb to logs/20210811-234156/train/plugins/profile/2021_08_11_23_45_15/V6.xplane.pb\n",
      "Dumped tool data for overview_page.pb to logs/20210811-234156/train/plugins/profile/2021_08_11_23_45_15/V6.overview_page.pb\n",
      "Dumped tool data for input_pipeline.pb to logs/20210811-234156/train/plugins/profile/2021_08_11_23_45_15/V6.input_pipeline.pb\n",
      "Dumped tool data for tensorflow_stats.pb to logs/20210811-234156/train/plugins/profile/2021_08_11_23_45_15/V6.tensorflow_stats.pb\n",
      "Dumped tool data for kernel_stats.pb to logs/20210811-234156/train/plugins/profile/2021_08_11_23_45_15/V6.kernel_stats.pb\n",
      "\n"
     ]
    },
    {
     "name": "stdout",
     "output_type": "stream",
     "text": [
      "1562/1562 [==============================] - 5s 3ms/step - loss: 1.4436 - accuracy: 0.4750 - val_loss: 1.1590 - val_accuracy: 0.5817\n",
      "Epoch 2/10\n",
      "1562/1562 [==============================] - 5s 3ms/step - loss: 1.1484 - accuracy: 0.5864 - val_loss: 1.0141 - val_accuracy: 0.6384\n",
      "Epoch 3/10\n",
      "1562/1562 [==============================] - 5s 3ms/step - loss: 1.0201 - accuracy: 0.6373 - val_loss: 0.8748 - val_accuracy: 0.6938\n",
      "Epoch 4/10\n",
      "1562/1562 [==============================] - 5s 3ms/step - loss: 0.9533 - accuracy: 0.6614 - val_loss: 0.8438 - val_accuracy: 0.7034\n",
      "Epoch 5/10\n",
      "1562/1562 [==============================] - 5s 3ms/step - loss: 0.8929 - accuracy: 0.6821 - val_loss: 0.7569 - val_accuracy: 0.7359\n",
      "Epoch 6/10\n",
      "1562/1562 [==============================] - 5s 3ms/step - loss: 0.8526 - accuracy: 0.6985 - val_loss: 0.7375 - val_accuracy: 0.7394\n",
      "Epoch 7/10\n",
      "1562/1562 [==============================] - 5s 3ms/step - loss: 0.8199 - accuracy: 0.7108 - val_loss: 0.7194 - val_accuracy: 0.7477\n",
      "Epoch 8/10\n",
      "1562/1562 [==============================] - 5s 3ms/step - loss: 0.7950 - accuracy: 0.7195 - val_loss: 0.6624 - val_accuracy: 0.7667\n",
      "Epoch 9/10\n",
      "1562/1562 [==============================] - 5s 3ms/step - loss: 0.7671 - accuracy: 0.7297 - val_loss: 0.6283 - val_accuracy: 0.7813\n",
      "Epoch 10/10\n",
      "1562/1562 [==============================] - 5s 3ms/step - loss: 0.7476 - accuracy: 0.7354 - val_loss: 0.6280 - val_accuracy: 0.7794\n"
     ]
    }
   ],
   "source": [
    "hist = model.fit_generator(train_dataset,\n",
    "                          steps_per_epoch=len(train_paths) // batch_size,\n",
    "                          epochs=num_epochs,\n",
    "                          validation_data=test_dataset,\n",
    "                          validation_steps=len(test_paths) // batch_size,\n",
    "                          callbacks=[tensorboard]\n",
    "                          )"
   ]
  },
  {
   "cell_type": "markdown",
   "id": "93d0f907",
   "metadata": {},
   "source": [
    "## Confusion Matrix"
   ]
  },
  {
   "cell_type": "code",
   "execution_count": 43,
   "id": "8affb2f8",
   "metadata": {},
   "outputs": [],
   "source": [
    "import io\n",
    "import itertools\n",
    "import sklearn.metrics\n",
    "\n",
    "file_writer_cm = tf.summary.create_file_writer(logdir + '/cm')\n",
    "\n",
    "def plot_to_image(figure):\n",
    "  \"\"\"Converts the matplotlib plot specified by 'figure' to a PNG image and\n",
    "  returns it. The supplied figure is closed and inaccessible after this call.\"\"\"\n",
    "  # Save the plot to a PNG in memory.\n",
    "  buf = io.BytesIO()\n",
    "  plt.savefig(buf, format='png')\n",
    "  # Closing the figure prevents it from being displayed directly inside\n",
    "  # the notebook.\n",
    "  plt.close(figure)\n",
    "  buf.seek(0)\n",
    "  # Convert PNG buffer to TF image\n",
    "  image = tf.image.decode_png(buf.getvalue(), channels=4)\n",
    "  # Add the batch dimension\n",
    "  image = tf.expand_dims(image, 0)\n",
    "  return image\n",
    "\n",
    "def plot_confusion_matrix(cm, class_names):\n",
    "  \"\"\"\n",
    "  Returns a matplotlib figure containing the plotted confusion matrix.\n",
    "\n",
    "  Args:\n",
    "    cm (array, shape = [n, n]): a confusion matrix of integer classes\n",
    "    class_names (array, shape = [n]): String names of the integer classes\n",
    "  \"\"\"\n",
    "  figure = plt.figure(figsize=(8, 8))\n",
    "  plt.imshow(cm, interpolation='nearest', cmap=plt.cm.Blues)\n",
    "  plt.title(\"Confusion matrix\")\n",
    "  plt.colorbar()\n",
    "  tick_marks = np.arange(len(class_names))\n",
    "  plt.xticks(tick_marks, class_names, rotation=45)\n",
    "  plt.yticks(tick_marks, class_names)\n",
    "\n",
    "  # Compute the labels from the normalized confusion matrix.\n",
    "  labels = np.around(cm.astype('float') / cm.sum(axis=1)[:, np.newaxis], decimals=2)\n",
    "\n",
    "  # Use white text if squares are dark; otherwise black.\n",
    "  threshold = cm.max() / 2.\n",
    "  for i, j in itertools.product(range(cm.shape[0]), range(cm.shape[1])):\n",
    "    color = \"white\" if cm[i, j] > threshold else \"black\"\n",
    "    plt.text(j, i, labels[i, j], horizontalalignment=\"center\", color=color)\n",
    "\n",
    "  plt.tight_layout()\n",
    "  plt.ylabel('True label')\n",
    "  plt.xlabel('Predicted label')\n",
    "  return figure"
   ]
  },
  {
   "cell_type": "code",
   "execution_count": 37,
   "id": "60c91133",
   "metadata": {},
   "outputs": [],
   "source": [
    "def log_confusion_matrix(epoch, logs):\n",
    "  # Use the model to predict the values from the validation dataset.\n",
    "  test_pred_raw = model.predict(test_images)\n",
    "  test_pred = np.argmax(test_pred_raw, axis=1)\n",
    "\n",
    "  # Calculate the confusion matrix.\n",
    "  cm = sklearn.metrics.confusion_matrix(test_labels, test_pred)\n",
    "  # Log the confusion matrix as an image summary.\n",
    "  figure = plot_confusion_matrix(cm, class_names=class_names)\n",
    "  cm_image = plot_to_image(figure)\n",
    "\n",
    "  # Log the confusion matrix as an image summary.\n",
    "  with file_writer_cm.as_default():\n",
    "    tf.summary.image(\"Confusion Matrix\", cm_image, step=epoch)\n",
    "\n",
    "# Define the per-epoch callback.\n",
    "cm_callback = tf.keras.callbacks.LambdaCallback(on_epoch_end=log_confusion_matrix)"
   ]
  },
  {
   "cell_type": "code",
   "execution_count": 44,
   "id": "24dab346",
   "metadata": {},
   "outputs": [
    {
     "name": "stdout",
     "output_type": "stream",
     "text": [
      "Epoch 1/10\n",
      "   1/1562 [..............................] - ETA: 0s - loss: 0.6183 - accuracy: 0.8125WARNING:tensorflow:Callbacks method `on_train_batch_end` is slow compared to the batch time (batch time: 0.0020s vs `on_train_batch_end` time: 0.0140s). Check your callbacks.\n",
      "  57/1562 [>.............................] - ETA: 4s - loss: 0.6239 - accuracy: 0.7747"
     ]
    },
    {
     "name": "stderr",
     "output_type": "stream",
     "text": [
      "2021-08-12 00:05:23.031330: I tensorflow/core/profiler/lib/profiler_session.cc:164] Profiler session started.\n",
      "2021-08-12 00:05:23.031412: E tensorflow/core/profiler/internal/gpu/cupti_tracer.cc:1441] function cupti_interface_->Subscribe( &subscriber_, (CUpti_CallbackFunc)ApiCallback, this)failed with error CUPTI_ERROR_NOT_INITIALIZED\n",
      "2021-08-12 00:05:23.035884: I tensorflow/core/profiler/internal/gpu/device_tracer.cc:223]  GpuTracer has collected 0 callback api events and 0 activity events. \n",
      "2021-08-12 00:05:23.039961: I tensorflow/core/profiler/rpc/client/save_profile.cc:176] Creating directory: logs/20210811-234156/train/plugins/profile/2021_08_12_00_05_23\n",
      "2021-08-12 00:05:23.041698: I tensorflow/core/profiler/rpc/client/save_profile.cc:182] Dumped gzipped tool data for trace.json.gz to logs/20210811-234156/train/plugins/profile/2021_08_12_00_05_23/V6.trace.json.gz\n",
      "2021-08-12 00:05:23.045441: I tensorflow/core/profiler/rpc/client/save_profile.cc:176] Creating directory: logs/20210811-234156/train/plugins/profile/2021_08_12_00_05_23\n",
      "2021-08-12 00:05:23.046315: I tensorflow/core/profiler/rpc/client/save_profile.cc:182] Dumped gzipped tool data for memory_profile.json.gz to logs/20210811-234156/train/plugins/profile/2021_08_12_00_05_23/V6.memory_profile.json.gz\n",
      "2021-08-12 00:05:23.046506: I tensorflow/python/profiler/internal/profiler_wrapper.cc:111] Creating directory: logs/20210811-234156/train/plugins/profile/2021_08_12_00_05_23Dumped tool data for xplane.pb to logs/20210811-234156/train/plugins/profile/2021_08_12_00_05_23/V6.xplane.pb\n",
      "Dumped tool data for overview_page.pb to logs/20210811-234156/train/plugins/profile/2021_08_12_00_05_23/V6.overview_page.pb\n",
      "Dumped tool data for input_pipeline.pb to logs/20210811-234156/train/plugins/profile/2021_08_12_00_05_23/V6.input_pipeline.pb\n",
      "Dumped tool data for tensorflow_stats.pb to logs/20210811-234156/train/plugins/profile/2021_08_12_00_05_23/V6.tensorflow_stats.pb\n",
      "Dumped tool data for kernel_stats.pb to logs/20210811-234156/train/plugins/profile/2021_08_12_00_05_23/V6.kernel_stats.pb\n",
      "\n"
     ]
    },
    {
     "name": "stdout",
     "output_type": "stream",
     "text": [
      "1562/1562 [==============================] - 7s 5ms/step - loss: 0.6436 - accuracy: 0.7731 - val_loss: 0.4773 - val_accuracy: 0.8336\n",
      "Epoch 2/10\n",
      "1562/1562 [==============================] - 6s 4ms/step - loss: 0.6363 - accuracy: 0.7748 - val_loss: 0.4748 - val_accuracy: 0.8359\n",
      "Epoch 3/10\n",
      "1562/1562 [==============================] - 6s 4ms/step - loss: 0.6207 - accuracy: 0.7793 - val_loss: 0.4976 - val_accuracy: 0.8294\n",
      "Epoch 4/10\n",
      "1562/1562 [==============================] - 6s 4ms/step - loss: 0.6160 - accuracy: 0.7826 - val_loss: 0.4645 - val_accuracy: 0.8376\n",
      "Epoch 5/10\n",
      "1562/1562 [==============================] - 5s 4ms/step - loss: 0.6009 - accuracy: 0.7885 - val_loss: 0.4257 - val_accuracy: 0.8525\n",
      "Epoch 6/10\n",
      "1562/1562 [==============================] - 5s 3ms/step - loss: 0.5970 - accuracy: 0.7917 - val_loss: 0.4410 - val_accuracy: 0.8474\n",
      "Epoch 7/10\n",
      "1562/1562 [==============================] - 5s 3ms/step - loss: 0.5888 - accuracy: 0.7933 - val_loss: 0.4239 - val_accuracy: 0.8548\n",
      "Epoch 8/10\n",
      "1562/1562 [==============================] - 5s 3ms/step - loss: 0.5850 - accuracy: 0.7933 - val_loss: 0.4203 - val_accuracy: 0.8578\n",
      "Epoch 9/10\n",
      "1562/1562 [==============================] - 5s 3ms/step - loss: 0.5760 - accuracy: 0.7979 - val_loss: 0.3896 - val_accuracy: 0.8682\n",
      "Epoch 10/10\n",
      "1562/1562 [==============================] - 5s 3ms/step - loss: 0.5656 - accuracy: 0.7997 - val_loss: 0.3906 - val_accuracy: 0.8687\n"
     ]
    }
   ],
   "source": [
    "test_images, test_labels = next(iter(test_dataset))\n",
    "\n",
    "hist = model.fit_generator(train_dataset,\n",
    "                          steps_per_epoch=len(train_paths) // batch_size,\n",
    "                          epochs=num_epochs,\n",
    "                          validation_data=test_dataset,\n",
    "                          validation_steps=len(test_paths) // batch_size,\n",
    "                          callbacks=[tensorboard, cm_callback]\n",
    "                          )"
   ]
  },
  {
   "cell_type": "markdown",
   "id": "73ec3051",
   "metadata": {},
   "source": [
    "## Callbacks - Learning Rate Scheduler"
   ]
  },
  {
   "cell_type": "code",
   "execution_count": 45,
   "id": "7db3a3b1",
   "metadata": {},
   "outputs": [],
   "source": [
    "import math\n",
    "\n",
    "def scheduler(epoch):\n",
    "    if epoch < 10:\n",
    "        return 0.001\n",
    "    else:\n",
    "        return 0.001 * math.exp(0.1 * (10 - epoch))"
   ]
  },
  {
   "cell_type": "code",
   "execution_count": 46,
   "id": "8f162114",
   "metadata": {},
   "outputs": [
    {
     "name": "stdout",
     "output_type": "stream",
     "text": [
      "0.001\n",
      "0.0009048374180359595\n",
      "0.0008187307530779819\n",
      "0.0007408182206817179\n",
      "0.0006703200460356394\n",
      "0.0006065306597126335\n",
      "0.0005488116360940264\n",
      "0.0004965853037914095\n",
      "0.0004493289641172216\n",
      "0.00040656965974059914\n"
     ]
    }
   ],
   "source": [
    "for epoch in range(10, 20):\n",
    "    print(0.001 * math.exp(0.1 * (10 - epoch)))"
   ]
  },
  {
   "cell_type": "code",
   "execution_count": 49,
   "id": "9f137f06",
   "metadata": {},
   "outputs": [],
   "source": [
    "learning_rate_scheduler = tf.keras.callbacks.LearningRateScheduler(scheduler, verbose=1)"
   ]
  },
  {
   "cell_type": "code",
   "execution_count": 50,
   "id": "e1c8d39b",
   "metadata": {},
   "outputs": [
    {
     "name": "stdout",
     "output_type": "stream",
     "text": [
      "\n",
      "Epoch 00001: LearningRateScheduler reducing learning rate to 0.001.\n",
      "Epoch 1/20\n",
      "   1/1562 [..............................] - ETA: 0s - loss: 0.1247 - accuracy: 1.0000WARNING:tensorflow:Callbacks method `on_train_batch_end` is slow compared to the batch time (batch time: 0.0024s vs `on_train_batch_end` time: 0.0123s). Check your callbacks.\n",
      "  57/1562 [>.............................] - ETA: 4s - loss: 0.3994 - accuracy: 0.8596"
     ]
    },
    {
     "name": "stderr",
     "output_type": "stream",
     "text": [
      "2021-08-13 12:28:49.777935: I tensorflow/core/profiler/lib/profiler_session.cc:164] Profiler session started.\n",
      "2021-08-13 12:28:49.777984: E tensorflow/core/profiler/internal/gpu/cupti_tracer.cc:1441] function cupti_interface_->Subscribe( &subscriber_, (CUpti_CallbackFunc)ApiCallback, this)failed with error CUPTI_ERROR_NOT_INITIALIZED\n",
      "2021-08-13 12:28:49.782760: I tensorflow/core/profiler/internal/gpu/device_tracer.cc:223]  GpuTracer has collected 0 callback api events and 0 activity events. \n",
      "2021-08-13 12:28:49.785352: I tensorflow/core/profiler/rpc/client/save_profile.cc:176] Creating directory: logs/20210811-234156/train/plugins/profile/2021_08_13_12_28_49\n",
      "2021-08-13 12:28:49.787048: I tensorflow/core/profiler/rpc/client/save_profile.cc:182] Dumped gzipped tool data for trace.json.gz to logs/20210811-234156/train/plugins/profile/2021_08_13_12_28_49/V6.trace.json.gz\n",
      "2021-08-13 12:28:49.790835: I tensorflow/core/profiler/rpc/client/save_profile.cc:176] Creating directory: logs/20210811-234156/train/plugins/profile/2021_08_13_12_28_49\n",
      "2021-08-13 12:28:49.791689: I tensorflow/core/profiler/rpc/client/save_profile.cc:182] Dumped gzipped tool data for memory_profile.json.gz to logs/20210811-234156/train/plugins/profile/2021_08_13_12_28_49/V6.memory_profile.json.gz\n",
      "2021-08-13 12:28:49.791875: I tensorflow/python/profiler/internal/profiler_wrapper.cc:111] Creating directory: logs/20210811-234156/train/plugins/profile/2021_08_13_12_28_49Dumped tool data for xplane.pb to logs/20210811-234156/train/plugins/profile/2021_08_13_12_28_49/V6.xplane.pb\n",
      "Dumped tool data for overview_page.pb to logs/20210811-234156/train/plugins/profile/2021_08_13_12_28_49/V6.overview_page.pb\n",
      "Dumped tool data for input_pipeline.pb to logs/20210811-234156/train/plugins/profile/2021_08_13_12_28_49/V6.input_pipeline.pb\n",
      "Dumped tool data for tensorflow_stats.pb to logs/20210811-234156/train/plugins/profile/2021_08_13_12_28_49/V6.tensorflow_stats.pb\n",
      "Dumped tool data for kernel_stats.pb to logs/20210811-234156/train/plugins/profile/2021_08_13_12_28_49/V6.kernel_stats.pb\n",
      "\n"
     ]
    },
    {
     "name": "stdout",
     "output_type": "stream",
     "text": [
      "1562/1562 [==============================] - 5s 3ms/step - loss: 0.4441 - accuracy: 0.8425 - val_loss: 0.2749 - val_accuracy: 0.9099\n",
      "\n",
      "Epoch 00002: LearningRateScheduler reducing learning rate to 0.001.\n",
      "Epoch 2/20\n",
      "1562/1562 [==============================] - 5s 3ms/step - loss: 0.4477 - accuracy: 0.8432 - val_loss: 0.2497 - val_accuracy: 0.9154\n",
      "\n",
      "Epoch 00003: LearningRateScheduler reducing learning rate to 0.001.\n",
      "Epoch 3/20\n",
      "1562/1562 [==============================] - 5s 3ms/step - loss: 0.4569 - accuracy: 0.8410 - val_loss: 0.2656 - val_accuracy: 0.9131\n",
      "\n",
      "Epoch 00004: LearningRateScheduler reducing learning rate to 0.001.\n",
      "Epoch 4/20\n",
      "1562/1562 [==============================] - 5s 3ms/step - loss: 0.4590 - accuracy: 0.8383 - val_loss: 0.2751 - val_accuracy: 0.9057\n",
      "\n",
      "Epoch 00005: LearningRateScheduler reducing learning rate to 0.001.\n",
      "Epoch 5/20\n",
      "1562/1562 [==============================] - 5s 3ms/step - loss: 0.4614 - accuracy: 0.8386 - val_loss: 0.2463 - val_accuracy: 0.9218\n",
      "\n",
      "Epoch 00006: LearningRateScheduler reducing learning rate to 0.001.\n",
      "Epoch 6/20\n",
      "1562/1562 [==============================] - 5s 3ms/step - loss: 0.4551 - accuracy: 0.8405 - val_loss: 0.2743 - val_accuracy: 0.9092\n",
      "\n",
      "Epoch 00007: LearningRateScheduler reducing learning rate to 0.001.\n",
      "Epoch 7/20\n",
      "1562/1562 [==============================] - 5s 3ms/step - loss: 0.4465 - accuracy: 0.8447 - val_loss: 0.2524 - val_accuracy: 0.9194\n",
      "\n",
      "Epoch 00008: LearningRateScheduler reducing learning rate to 0.001.\n",
      "Epoch 8/20\n",
      "1562/1562 [==============================] - 5s 3ms/step - loss: 0.4463 - accuracy: 0.8427 - val_loss: 0.2299 - val_accuracy: 0.9241\n",
      "\n",
      "Epoch 00009: LearningRateScheduler reducing learning rate to 0.001.\n",
      "Epoch 9/20\n",
      "1562/1562 [==============================] - 5s 3ms/step - loss: 0.4427 - accuracy: 0.8454 - val_loss: 0.2365 - val_accuracy: 0.9214\n",
      "\n",
      "Epoch 00010: LearningRateScheduler reducing learning rate to 0.001.\n",
      "Epoch 10/20\n",
      "1562/1562 [==============================] - 5s 3ms/step - loss: 0.4404 - accuracy: 0.8465 - val_loss: 0.2427 - val_accuracy: 0.9209\n",
      "\n",
      "Epoch 00011: LearningRateScheduler reducing learning rate to 0.001.\n",
      "Epoch 11/20\n",
      "1562/1562 [==============================] - 5s 3ms/step - loss: 0.4419 - accuracy: 0.8459 - val_loss: 0.2465 - val_accuracy: 0.9188\n",
      "\n",
      "Epoch 00012: LearningRateScheduler reducing learning rate to 0.0009048374180359595.\n",
      "Epoch 12/20\n",
      "1562/1562 [==============================] - 5s 3ms/step - loss: 0.4271 - accuracy: 0.8506 - val_loss: 0.2200 - val_accuracy: 0.9307\n",
      "\n",
      "Epoch 00013: LearningRateScheduler reducing learning rate to 0.0008187307530779819.\n",
      "Epoch 13/20\n",
      "1562/1562 [==============================] - 5s 3ms/step - loss: 0.4068 - accuracy: 0.8561 - val_loss: 0.2184 - val_accuracy: 0.9295\n",
      "\n",
      "Epoch 00014: LearningRateScheduler reducing learning rate to 0.0007408182206817179.\n",
      "Epoch 14/20\n",
      "1562/1562 [==============================] - 5s 3ms/step - loss: 0.3937 - accuracy: 0.8605 - val_loss: 0.2020 - val_accuracy: 0.9348\n",
      "\n",
      "Epoch 00015: LearningRateScheduler reducing learning rate to 0.0006703200460356394.\n",
      "Epoch 15/20\n",
      "1562/1562 [==============================] - 5s 3ms/step - loss: 0.3704 - accuracy: 0.8711 - val_loss: 0.1826 - val_accuracy: 0.9422\n",
      "\n",
      "Epoch 00016: LearningRateScheduler reducing learning rate to 0.0006065306597126335.\n",
      "Epoch 16/20\n",
      "1562/1562 [==============================] - 5s 3ms/step - loss: 0.3610 - accuracy: 0.8733 - val_loss: 0.1804 - val_accuracy: 0.9424\n",
      "\n",
      "Epoch 00017: LearningRateScheduler reducing learning rate to 0.0005488116360940264.\n",
      "Epoch 17/20\n",
      "1562/1562 [==============================] - 5s 3ms/step - loss: 0.3445 - accuracy: 0.8780 - val_loss: 0.1607 - val_accuracy: 0.9498\n",
      "\n",
      "Epoch 00018: LearningRateScheduler reducing learning rate to 0.0004965853037914095.\n",
      "Epoch 18/20\n",
      "1562/1562 [==============================] - 5s 3ms/step - loss: 0.3289 - accuracy: 0.8831 - val_loss: 0.1513 - val_accuracy: 0.9515\n",
      "\n",
      "Epoch 00019: LearningRateScheduler reducing learning rate to 0.0004493289641172216.\n",
      "Epoch 19/20\n",
      "1562/1562 [==============================] - 5s 3ms/step - loss: 0.3177 - accuracy: 0.8893 - val_loss: 0.1386 - val_accuracy: 0.9592\n",
      "\n",
      "Epoch 00020: LearningRateScheduler reducing learning rate to 0.00040656965974059914.\n",
      "Epoch 20/20\n",
      "1562/1562 [==============================] - 5s 3ms/step - loss: 0.3065 - accuracy: 0.8917 - val_loss: 0.1378 - val_accuracy: 0.9562\n"
     ]
    }
   ],
   "source": [
    "hist = model.fit_generator(train_dataset,\n",
    "                          steps_per_epoch=len(train_paths) // batch_size,\n",
    "                          epochs=20,\n",
    "                          validation_data=test_dataset,\n",
    "                          validation_steps=len(test_paths) // batch_size,\n",
    "                          callbacks=[tensorboard, learning_rate_scheduler]\n",
    "                          )"
   ]
  },
  {
   "cell_type": "markdown",
   "id": "2eb62f39",
   "metadata": {},
   "source": [
    "## Callbacks - checkpoint"
   ]
  },
  {
   "cell_type": "code",
   "execution_count": 52,
   "id": "ce4142c1",
   "metadata": {},
   "outputs": [],
   "source": [
    "save_path = 'checkpoints'"
   ]
  },
  {
   "cell_type": "code",
   "execution_count": 56,
   "id": "a198c475",
   "metadata": {},
   "outputs": [],
   "source": [
    "checkpoints = tf.keras.callbacks.ModelCheckpoint(save_path, monitor='val_accuracy', verbose=1, save_best_only=True)"
   ]
  },
  {
   "cell_type": "code",
   "execution_count": 57,
   "id": "600a567c",
   "metadata": {},
   "outputs": [
    {
     "name": "stdout",
     "output_type": "stream",
     "text": [
      "Epoch 1/10\n",
      "   1/1562 [..............................] - ETA: 1s - loss: 0.3218 - accuracy: 0.8750WARNING:tensorflow:Callbacks method `on_train_batch_end` is slow compared to the batch time (batch time: 0.0020s vs `on_train_batch_end` time: 0.0140s). Check your callbacks.\n",
      "  55/1562 [>.............................] - ETA: 4s - loss: 0.2912 - accuracy: 0.9019"
     ]
    },
    {
     "name": "stderr",
     "output_type": "stream",
     "text": [
      "2021-08-13 12:36:29.679888: I tensorflow/core/profiler/lib/profiler_session.cc:164] Profiler session started.\n",
      "2021-08-13 12:36:29.679938: E tensorflow/core/profiler/internal/gpu/cupti_tracer.cc:1441] function cupti_interface_->Subscribe( &subscriber_, (CUpti_CallbackFunc)ApiCallback, this)failed with error CUPTI_ERROR_NOT_INITIALIZED\n",
      "2021-08-13 12:36:29.684752: I tensorflow/core/profiler/internal/gpu/device_tracer.cc:223]  GpuTracer has collected 0 callback api events and 0 activity events. \n",
      "2021-08-13 12:36:29.687921: I tensorflow/core/profiler/rpc/client/save_profile.cc:176] Creating directory: logs/20210811-234156/train/plugins/profile/2021_08_13_12_36_29\n",
      "2021-08-13 12:36:29.689367: I tensorflow/core/profiler/rpc/client/save_profile.cc:182] Dumped gzipped tool data for trace.json.gz to logs/20210811-234156/train/plugins/profile/2021_08_13_12_36_29/V6.trace.json.gz\n",
      "2021-08-13 12:36:29.693854: I tensorflow/core/profiler/rpc/client/save_profile.cc:176] Creating directory: logs/20210811-234156/train/plugins/profile/2021_08_13_12_36_29\n",
      "2021-08-13 12:36:29.694682: I tensorflow/core/profiler/rpc/client/save_profile.cc:182] Dumped gzipped tool data for memory_profile.json.gz to logs/20210811-234156/train/plugins/profile/2021_08_13_12_36_29/V6.memory_profile.json.gz\n",
      "2021-08-13 12:36:29.694895: I tensorflow/python/profiler/internal/profiler_wrapper.cc:111] Creating directory: logs/20210811-234156/train/plugins/profile/2021_08_13_12_36_29Dumped tool data for xplane.pb to logs/20210811-234156/train/plugins/profile/2021_08_13_12_36_29/V6.xplane.pb\n",
      "Dumped tool data for overview_page.pb to logs/20210811-234156/train/plugins/profile/2021_08_13_12_36_29/V6.overview_page.pb\n",
      "Dumped tool data for input_pipeline.pb to logs/20210811-234156/train/plugins/profile/2021_08_13_12_36_29/V6.input_pipeline.pb\n",
      "Dumped tool data for tensorflow_stats.pb to logs/20210811-234156/train/plugins/profile/2021_08_13_12_36_29/V6.tensorflow_stats.pb\n",
      "Dumped tool data for kernel_stats.pb to logs/20210811-234156/train/plugins/profile/2021_08_13_12_36_29/V6.kernel_stats.pb\n",
      "\n"
     ]
    },
    {
     "name": "stdout",
     "output_type": "stream",
     "text": [
      "1538/1562 [============================>.] - ETA: 0s - loss: 0.2708 - accuracy: 0.9045\n",
      "Epoch 00001: val_accuracy improved from -inf to 0.97115, saving model to checkpoints\n",
      "INFO:tensorflow:Assets written to: checkpoints/assets\n",
      "1562/1562 [==============================] - 6s 4ms/step - loss: 0.2708 - accuracy: 0.9045 - val_loss: 0.1000 - val_accuracy: 0.9712\n",
      "Epoch 2/10\n",
      "1541/1562 [============================>.] - ETA: 0s - loss: 0.2686 - accuracy: 0.9049\n",
      "Epoch 00002: val_accuracy improved from 0.97115 to 0.97295, saving model to checkpoints\n",
      "INFO:tensorflow:Assets written to: checkpoints/assets\n",
      "1562/1562 [==============================] - 6s 4ms/step - loss: 0.2687 - accuracy: 0.9048 - val_loss: 0.0956 - val_accuracy: 0.9730\n",
      "Epoch 3/10\n",
      "1558/1562 [============================>.] - ETA: 0s - loss: 0.2623 - accuracy: 0.9078\n",
      "Epoch 00003: val_accuracy improved from 0.97295 to 0.97407, saving model to checkpoints\n",
      "INFO:tensorflow:Assets written to: checkpoints/assets\n",
      "1562/1562 [==============================] - 6s 4ms/step - loss: 0.2622 - accuracy: 0.9078 - val_loss: 0.0911 - val_accuracy: 0.9741\n",
      "Epoch 4/10\n",
      "1553/1562 [============================>.] - ETA: 0s - loss: 0.2600 - accuracy: 0.9072\n",
      "Epoch 00004: val_accuracy improved from 0.97407 to 0.97457, saving model to checkpoints\n",
      "INFO:tensorflow:Assets written to: checkpoints/assets\n",
      "1562/1562 [==============================] - 6s 4ms/step - loss: 0.2602 - accuracy: 0.9072 - val_loss: 0.0958 - val_accuracy: 0.9746\n",
      "Epoch 5/10\n",
      "1559/1562 [============================>.] - ETA: 0s - loss: 0.2607 - accuracy: 0.9083\n",
      "Epoch 00005: val_accuracy did not improve from 0.97457\n",
      "1562/1562 [==============================] - 5s 3ms/step - loss: 0.2608 - accuracy: 0.9083 - val_loss: 0.0969 - val_accuracy: 0.9727\n",
      "Epoch 6/10\n",
      "1553/1562 [============================>.] - ETA: 0s - loss: 0.2595 - accuracy: 0.9070\n",
      "Epoch 00006: val_accuracy did not improve from 0.97457\n",
      "1562/1562 [==============================] - 5s 3ms/step - loss: 0.2599 - accuracy: 0.9069 - val_loss: 0.0946 - val_accuracy: 0.9741\n",
      "Epoch 7/10\n",
      "1540/1562 [============================>.] - ETA: 0s - loss: 0.2558 - accuracy: 0.9090\n",
      "Epoch 00007: val_accuracy improved from 0.97457 to 0.97469, saving model to checkpoints\n",
      "INFO:tensorflow:Assets written to: checkpoints/assets\n",
      "1562/1562 [==============================] - 6s 4ms/step - loss: 0.2556 - accuracy: 0.9091 - val_loss: 0.0880 - val_accuracy: 0.9747\n",
      "Epoch 8/10\n",
      "1545/1562 [============================>.] - ETA: 0s - loss: 0.2527 - accuracy: 0.9110\n",
      "Epoch 00008: val_accuracy improved from 0.97469 to 0.97797, saving model to checkpoints\n",
      "INFO:tensorflow:Assets written to: checkpoints/assets\n",
      "1562/1562 [==============================] - 6s 4ms/step - loss: 0.2527 - accuracy: 0.9110 - val_loss: 0.0863 - val_accuracy: 0.9780\n",
      "Epoch 9/10\n",
      "1542/1562 [============================>.] - ETA: 0s - loss: 0.2488 - accuracy: 0.9118\n",
      "Epoch 00009: val_accuracy did not improve from 0.97797\n",
      "1562/1562 [==============================] - 5s 3ms/step - loss: 0.2492 - accuracy: 0.9116 - val_loss: 0.0857 - val_accuracy: 0.9772\n",
      "Epoch 10/10\n",
      "1554/1562 [============================>.] - ETA: 0s - loss: 0.2529 - accuracy: 0.9091\n",
      "Epoch 00010: val_accuracy did not improve from 0.97797\n",
      "1562/1562 [==============================] - 5s 3ms/step - loss: 0.2532 - accuracy: 0.9090 - val_loss: 0.0953 - val_accuracy: 0.9741\n"
     ]
    }
   ],
   "source": [
    "hist = model.fit_generator(train_dataset,\n",
    "                          steps_per_epoch=len(train_paths) // batch_size,\n",
    "                          epochs=num_epochs,\n",
    "                          validation_data=test_dataset,\n",
    "                          validation_steps=len(test_paths) // batch_size,\n",
    "                          callbacks=[tensorboard, checkpoints]\n",
    "                          )"
   ]
  },
  {
   "cell_type": "markdown",
   "id": "64e5899f",
   "metadata": {},
   "source": [
    "## History"
   ]
  },
  {
   "cell_type": "code",
   "execution_count": 58,
   "id": "a755189e",
   "metadata": {},
   "outputs": [
    {
     "data": {
      "text/plain": [
       "<tensorflow.python.keras.callbacks.History at 0x7efea504a5b0>"
      ]
     },
     "execution_count": 58,
     "metadata": {},
     "output_type": "execute_result"
    }
   ],
   "source": [
    "hist"
   ]
  },
  {
   "cell_type": "code",
   "execution_count": 59,
   "id": "ef2a2890",
   "metadata": {},
   "outputs": [
    {
     "data": {
      "text/plain": [
       "dict_keys(['loss', 'accuracy', 'val_loss', 'val_accuracy'])"
      ]
     },
     "execution_count": 59,
     "metadata": {},
     "output_type": "execute_result"
    }
   ],
   "source": [
    "hist.history.keys()"
   ]
  },
  {
   "cell_type": "code",
   "execution_count": 60,
   "id": "ec67bffa",
   "metadata": {},
   "outputs": [
    {
     "data": {
      "text/plain": [
       "{'verbose': 1, 'epochs': 10, 'steps': 1562}"
      ]
     },
     "execution_count": 60,
     "metadata": {},
     "output_type": "execute_result"
    }
   ],
   "source": [
    "hist.params"
   ]
  },
  {
   "cell_type": "code",
   "execution_count": 64,
   "id": "f24d8181",
   "metadata": {},
   "outputs": [
    {
     "data": {
      "text/plain": [
       "<matplotlib.legend.Legend at 0x7efea4ae8e80>"
      ]
     },
     "execution_count": 64,
     "metadata": {},
     "output_type": "execute_result"
    },
    {
     "data": {
      "image/png": "[encoded data removed]",
      "text/plain": [
       "<Figure size 432x288 with 1 Axes>"
      ]
     },
     "metadata": {
      "needs_background": "light"
     },
     "output_type": "display_data"
    }
   ],
   "source": [
    "plt.plot(hist.history['accuracy'])\n",
    "plt.plot(hist.history['val_accuracy'])\n",
    "plt.title('accuracy')\n",
    "plt.ylabel('accuracy')\n",
    "plt.xlabel('epoch')\n",
    "plt.legend(['train', 'validation'])"
   ]
  },
  {
   "cell_type": "code",
   "execution_count": 65,
   "id": "254d98e5",
   "metadata": {},
   "outputs": [
    {
     "data": {
      "text/plain": [
       "<matplotlib.legend.Legend at 0x7efea4eeb850>"
      ]
     },
     "execution_count": 65,
     "metadata": {},
     "output_type": "execute_result"
    },
    {
     "data": {
      "image/png": "[encoded data removed]",
      "text/plain": [
       "<Figure size 432x288 with 1 Axes>"
      ]
     },
     "metadata": {
      "needs_background": "light"
     },
     "output_type": "display_data"
    }
   ],
   "source": [
    "plt.plot(hist.history['loss'])\n",
    "plt.plot(hist.history['val_loss'])\n",
    "plt.title('loss')\n",
    "plt.ylabel('loss')\n",
    "plt.xlabel('epoch')\n",
    "plt.legend(['train', 'validation'])"
   ]
  },
  {
   "cell_type": "markdown",
   "id": "bdc5d726",
   "metadata": {},
   "source": [
    "## Predict"
   ]
  },
  {
   "cell_type": "code",
   "execution_count": 66,
   "id": "5e7ed6d4",
   "metadata": {},
   "outputs": [
    {
     "data": {
      "text/plain": [
       "'dataset/cifar/train/39769_automobile.png'"
      ]
     },
     "execution_count": 66,
     "metadata": {},
     "output_type": "execute_result"
    }
   ],
   "source": [
    "path"
   ]
  },
  {
   "cell_type": "code",
   "execution_count": 75,
   "id": "b2efb99e",
   "metadata": {},
   "outputs": [
    {
     "data": {
      "text/plain": [
       "TensorShape([32, 32, 3])"
      ]
     },
     "execution_count": 75,
     "metadata": {},
     "output_type": "execute_result"
    }
   ],
   "source": [
    "gfile = tf.io.read_file(path)\n",
    "image = tf.io.decode_image(gfile, dtype=tf.float32)\n",
    "image.shape"
   ]
  },
  {
   "cell_type": "code",
   "execution_count": 76,
   "id": "e2aa3a84",
   "metadata": {},
   "outputs": [
    {
     "data": {
      "text/plain": [
       "<matplotlib.image.AxesImage at 0x7efbd4368430>"
      ]
     },
     "execution_count": 76,
     "metadata": {},
     "output_type": "execute_result"
    },
    {
     "data": {
      "image/png": "[encoded data removed]",
      "text/plain": [
       "<Figure size 432x288 with 1 Axes>"
      ]
     },
     "metadata": {
      "needs_background": "light"
     },
     "output_type": "display_data"
    }
   ],
   "source": [
    "plt.imshow(image, 'gray')"
   ]
  },
  {
   "cell_type": "code",
   "execution_count": 69,
   "id": "49762c57",
   "metadata": {},
   "outputs": [
    {
     "data": {
      "text/plain": [
       "TensorShape([1, 32, 32, 3])"
      ]
     },
     "execution_count": 69,
     "metadata": {},
     "output_type": "execute_result"
    }
   ],
   "source": [
    "image = image[tf.newaxis, ...]\n",
    "image.shape"
   ]
  },
  {
   "cell_type": "code",
   "execution_count": 70,
   "id": "0cd5163e",
   "metadata": {},
   "outputs": [],
   "source": [
    "pred = model.predict(image)"
   ]
  },
  {
   "cell_type": "code",
   "execution_count": 71,
   "id": "c3a3ecd9",
   "metadata": {},
   "outputs": [
    {
     "data": {
      "text/plain": [
       "(1, 10)"
      ]
     },
     "execution_count": 71,
     "metadata": {},
     "output_type": "execute_result"
    }
   ],
   "source": [
    "pred.shape"
   ]
  },
  {
   "cell_type": "code",
   "execution_count": 72,
   "id": "20ef92df",
   "metadata": {},
   "outputs": [
    {
     "data": {
      "text/plain": [
       "array([[9.9019241e-01, 5.3823970e-14, 5.6703807e-17, 3.1426755e-14,\n",
       "        7.7125425e-15, 7.5301880e-19, 7.6586688e-19, 2.0413661e-17,\n",
       "        2.7469148e-11, 9.8075708e-03]], dtype=float32)"
      ]
     },
     "execution_count": 72,
     "metadata": {},
     "output_type": "execute_result"
    }
   ],
   "source": [
    "pred"
   ]
  },
  {
   "cell_type": "code",
   "execution_count": 74,
   "id": "8089e698",
   "metadata": {},
   "outputs": [
    {
     "data": {
      "text/plain": [
       "0"
      ]
     },
     "execution_count": 74,
     "metadata": {},
     "output_type": "execute_result"
    }
   ],
   "source": [
    "np.argmax(pred)"
   ]
  },
  {
   "cell_type": "code",
   "execution_count": 78,
   "id": "897760d9",
   "metadata": {},
   "outputs": [],
   "source": [
    "preds = model.predict_generator(test_dataset.take(1))"
   ]
  },
  {
   "cell_type": "code",
   "execution_count": 79,
   "id": "89b8297a",
   "metadata": {},
   "outputs": [
    {
     "data": {
      "text/plain": [
       "(32, 10)"
      ]
     },
     "execution_count": 79,
     "metadata": {},
     "output_type": "execute_result"
    }
   ],
   "source": [
    "preds.shape"
   ]
  },
  {
   "cell_type": "markdown",
   "id": "af59dd71",
   "metadata": {},
   "source": [
    "## Saving Model"
   ]
  },
  {
   "cell_type": "code",
   "execution_count": 92,
   "id": "6acb74a4",
   "metadata": {},
   "outputs": [],
   "source": [
    "save_path = 'my_model.h5'\n",
    "\n",
    "model.save(save_path, include_optimizer=True)"
   ]
  },
  {
   "cell_type": "code",
   "execution_count": 93,
   "id": "a8f94df8",
   "metadata": {},
   "outputs": [
    {
     "name": "stdout",
     "output_type": "stream",
     "text": [
      "WARNING:tensorflow:7 out of the last 23 calls to <function Model.make_predict_function.<locals>.predict_function at 0x7f00014791f0> triggered tf.function retracing. Tracing is expensive and the excessive number of tracings could be due to (1) creating @tf.function repeatedly in a loop, (2) passing tensors with different shapes, (3) passing Python objects instead of tensors. For (1), please define your @tf.function outside of the loop. For (2), @tf.function has experimental_relax_shapes=True option that relaxes argument shapes that can avoid unnecessary retracing. For (3), please refer to https://www.tensorflow.org/tutorials/customization/performance#python_or_tensor_args and https://www.tensorflow.org/api_docs/python/tf/function for  more details.\n"
     ]
    },
    {
     "data": {
      "text/plain": [
       "array([[9.9019241e-01, 5.3823970e-14, 5.6703807e-17, 3.1426755e-14,\n",
       "        7.7125425e-15, 7.5301880e-19, 7.6586688e-19, 2.0413661e-17,\n",
       "        2.7469148e-11, 9.8075708e-03]], dtype=float32)"
      ]
     },
     "execution_count": 93,
     "metadata": {},
     "output_type": "execute_result"
    }
   ],
   "source": [
    "gfile = tf.io.read_file(path)\n",
    "image = tf.io.decode_image(gfile, dtype=tf.float32)\n",
    "image = image[tf.newaxis, ...]\n",
    "image.shape\n",
    "\n",
    "model2 = tf.keras.models.load_model(save_path)\n",
    "pred = model2.predict(image)\n",
    "pred"
   ]
  },
  {
   "cell_type": "code",
   "execution_count": 94,
   "id": "f754b6b5",
   "metadata": {},
   "outputs": [],
   "source": [
    "model.save_weights('my_model_weights.h5')"
   ]
  },
  {
   "cell_type": "code",
   "execution_count": 95,
   "id": "9c791618",
   "metadata": {},
   "outputs": [],
   "source": [
    "with open('my_model_architecture.json', 'w') as f:\n",
    "    f.write(model.to_json())"
   ]
  },
  {
   "cell_type": "code",
   "execution_count": 96,
   "id": "bbe09e12",
   "metadata": {},
   "outputs": [],
   "source": [
    "with open('my_model_architecture.json', 'r') as f:\n",
    "    model3 = tf.keras.models.model_from_json(f.read())"
   ]
  },
  {
   "cell_type": "code",
   "execution_count": 97,
   "id": "8c3c664e",
   "metadata": {},
   "outputs": [
    {
     "name": "stdout",
     "output_type": "stream",
     "text": [
      "WARNING:tensorflow:8 out of the last 24 calls to <function Model.make_predict_function.<locals>.predict_function at 0x7efea55f1a60> triggered tf.function retracing. Tracing is expensive and the excessive number of tracings could be due to (1) creating @tf.function repeatedly in a loop, (2) passing tensors with different shapes, (3) passing Python objects instead of tensors. For (1), please define your @tf.function outside of the loop. For (2), @tf.function has experimental_relax_shapes=True option that relaxes argument shapes that can avoid unnecessary retracing. For (3), please refer to https://www.tensorflow.org/tutorials/customization/performance#python_or_tensor_args and https://www.tensorflow.org/api_docs/python/tf/function for  more details.\n"
     ]
    },
    {
     "data": {
      "text/plain": [
       "array([[0.09365011, 0.10370103, 0.08272335, 0.1275218 , 0.10650753,\n",
       "        0.09592701, 0.10404394, 0.10492016, 0.09909347, 0.08191156]],\n",
       "      dtype=float32)"
      ]
     },
     "execution_count": 97,
     "metadata": {},
     "output_type": "execute_result"
    }
   ],
   "source": [
    "pred = model3.predict(image)\n",
    "pred"
   ]
  },
  {
   "cell_type": "code",
   "execution_count": 98,
   "id": "8dc549bb",
   "metadata": {},
   "outputs": [],
   "source": [
    "model3.load_weights('my_model_weights.h5')"
   ]
  },
  {
   "cell_type": "code",
   "execution_count": 99,
   "id": "8fcc0ee0",
   "metadata": {},
   "outputs": [
    {
     "data": {
      "text/plain": [
       "array([[9.9019241e-01, 5.3823970e-14, 5.6703807e-17, 3.1426755e-14,\n",
       "        7.7125425e-15, 7.5301880e-19, 7.6586688e-19, 2.0413661e-17,\n",
       "        2.7469148e-11, 9.8075708e-03]], dtype=float32)"
      ]
     },
     "execution_count": 99,
     "metadata": {},
     "output_type": "execute_result"
    }
   ],
   "source": [
    "pred = model3.predict(image)\n",
    "pred"
   ]
  },
  {
   "cell_type": "markdown",
   "id": "c10d1246",
   "metadata": {},
   "source": [
    "## H5 "
   ]
  },
  {
   "cell_type": "code",
   "execution_count": 100,
   "id": "cf3aa90a",
   "metadata": {},
   "outputs": [],
   "source": [
    "import h5py"
   ]
  },
  {
   "cell_type": "code",
   "execution_count": 101,
   "id": "ea9426ba",
   "metadata": {},
   "outputs": [],
   "source": [
    "model_file = h5py.File('my_model.h5', 'r+')"
   ]
  },
  {
   "cell_type": "code",
   "execution_count": 102,
   "id": "12c0e100",
   "metadata": {},
   "outputs": [
    {
     "data": {
      "text/plain": [
       "<KeysViewHDF5 ['model_weights', 'optimizer_weights']>"
      ]
     },
     "execution_count": 102,
     "metadata": {},
     "output_type": "execute_result"
    }
   ],
   "source": [
    "model_file.keys()"
   ]
  },
  {
   "cell_type": "code",
   "execution_count": 104,
   "id": "06c328b5",
   "metadata": {},
   "outputs": [
    {
     "data": {
      "text/plain": [
       "<KeysViewHDF5 ['conv2d', 'conv2d_1', 'conv2d_2', 'conv2d_3', 'dense', 'dense_1', 'dropout', 'dropout_1', 'dropout_2', 'flatten', 'input_1', 'max_pooling2d', 'max_pooling2d_1']>"
      ]
     },
     "execution_count": 104,
     "metadata": {},
     "output_type": "execute_result"
    }
   ],
   "source": [
    "model_file['model_weights'].keys()"
   ]
  },
  {
   "cell_type": "code",
   "execution_count": 107,
   "id": "f7cadc7c",
   "metadata": {},
   "outputs": [
    {
     "data": {
      "text/plain": [
       "<KeysViewHDF5 ['bias:0', 'kernel:0']>"
      ]
     },
     "execution_count": 107,
     "metadata": {},
     "output_type": "execute_result"
    }
   ],
   "source": [
    "model_file['model_weights']['conv2d']['conv2d'].keys()"
   ]
  },
  {
   "cell_type": "code",
   "execution_count": 108,
   "id": "36ecbe9c",
   "metadata": {},
   "outputs": [
    {
     "data": {
      "text/plain": [
       "<HDF5 dataset \"kernel:0\": shape (3, 3, 3, 32), type \"<f4\">"
      ]
     },
     "execution_count": 108,
     "metadata": {},
     "output_type": "execute_result"
    }
   ],
   "source": [
    "model_file['model_weights']['conv2d']['conv2d']['kernel:0']"
   ]
  },
  {
   "cell_type": "code",
   "execution_count": 111,
   "id": "28a2488c",
   "metadata": {},
   "outputs": [
    {
     "data": {
      "text/plain": [
       "array([[[[-7.52552599e-02,  1.50135875e-01, -1.13852464e-01,\n",
       "          -8.02826956e-02, -1.19651228e-01, -5.99274300e-02,\n",
       "          -4.61509079e-01,  5.82593493e-02, -4.06266093e-01,\n",
       "           6.15321286e-02,  6.70740604e-02,  1.55318812e-01,\n",
       "          -1.73453584e-01, -8.53595510e-02,  1.52793035e-01,\n",
       "          -1.32364377e-01,  5.89869693e-02, -1.76730350e-01,\n",
       "          -4.01882082e-02,  1.21903636e-01, -1.38893470e-01,\n",
       "           1.49289574e-02,  1.00696385e-01, -3.26840170e-02,\n",
       "          -4.15204853e-01,  3.65340769e-01, -5.19243665e-02,\n",
       "           5.98017089e-02,  4.77253832e-02, -4.45229970e-02,\n",
       "           1.63611680e-01,  5.75156836e-03],\n",
       "         [-8.05613995e-02,  4.07823697e-02,  1.41835222e-02,\n",
       "           2.88842199e-03,  1.74480915e-01,  6.93672597e-02,\n",
       "          -4.62025493e-01, -6.52723685e-02,  5.25759533e-02,\n",
       "           4.00008969e-02,  4.04430814e-02, -5.79109937e-02,\n",
       "           1.09196559e-01, -4.93818708e-02,  9.39923450e-02,\n",
       "          -3.35037261e-01, -2.81628162e-01,  1.56345293e-01,\n",
       "          -7.92209506e-02, -4.62237179e-01,  1.56432260e-02,\n",
       "          -2.36590654e-01,  3.03970836e-02, -1.11152247e-01,\n",
       "          -3.30791950e-01,  2.23572612e-01, -9.23114270e-02,\n",
       "          -1.29006460e-01, -9.97175649e-02, -5.19243360e-01,\n",
       "           2.88696498e-01,  1.16503023e-01],\n",
       "         [-6.39670789e-02,  3.87000926e-02,  6.32195622e-02,\n",
       "          -1.30771428e-01,  1.31906897e-01, -1.40803963e-01,\n",
       "           3.50809507e-02,  8.08407068e-02, -1.17236264e-01,\n",
       "          -1.43513754e-01,  6.54817745e-02,  1.13170356e-01,\n",
       "          -1.52580529e-01, -1.68292433e-01,  1.79012343e-01,\n",
       "          -4.59103324e-02, -1.29998952e-01, -1.73537503e-03,\n",
       "          -3.43651623e-01, -3.33666801e-01,  2.62656748e-01,\n",
       "           2.10396340e-03,  7.32349232e-02,  1.80124007e-02,\n",
       "          -4.46043253e-01,  2.74562865e-01, -2.34393850e-01,\n",
       "           1.56565588e-02,  1.52233364e-02, -6.80616736e-01,\n",
       "           2.44791523e-01,  1.85451463e-01]],\n",
       "\n",
       "        [[ 1.63553450e-02, -2.29460910e-01,  5.84912635e-02,\n",
       "          -2.04190817e-02, -6.94029033e-02, -2.51298010e-01,\n",
       "          -2.81556338e-01,  5.26862293e-02, -2.74947584e-01,\n",
       "           3.78017053e-02, -1.20680071e-01,  4.91495095e-02,\n",
       "          -3.12426835e-01, -3.34301516e-02, -1.17642760e-01,\n",
       "          -1.62687182e-01,  8.18228051e-02,  8.39544926e-03,\n",
       "          -4.28498387e-02,  1.36551067e-01, -2.15443373e-01,\n",
       "          -2.88880259e-01,  2.59018868e-01,  1.37108371e-01,\n",
       "           6.27042651e-02,  7.15409443e-02,  1.61721315e-02,\n",
       "           2.70454854e-01, -2.08040401e-02,  8.08700453e-03,\n",
       "          -2.12233707e-01, -1.68253943e-01],\n",
       "         [-1.41094327e-01, -1.99636862e-01, -6.72571361e-02,\n",
       "          -8.12247694e-02,  5.68938777e-02,  2.31990721e-02,\n",
       "          -4.05758947e-01,  7.84527808e-02,  8.55020946e-04,\n",
       "           1.16955660e-01, -2.03384563e-01, -1.08245388e-01,\n",
       "          -3.08894515e-01, -1.58538073e-01, -1.01126641e-01,\n",
       "          -2.03371033e-01, -3.77113000e-02,  3.27140510e-01,\n",
       "          -1.23668440e-01, -3.24019372e-01,  1.00615667e-02,\n",
       "          -3.14517707e-01,  7.85712302e-02,  2.03712016e-01,\n",
       "           3.34194414e-02, -8.49168450e-02, -1.86413288e-01,\n",
       "          -5.19556850e-02,  5.95153198e-02, -3.41870308e-01,\n",
       "          -3.88841629e-01, -2.16986030e-01],\n",
       "         [-7.45797306e-02,  7.24965632e-02, -1.39949799e-01,\n",
       "           2.35862145e-03, -2.62263387e-01, -2.53577769e-01,\n",
       "           9.40195099e-02,  9.54145193e-02, -1.11280397e-01,\n",
       "           1.99405607e-02, -7.69389793e-02,  2.15708509e-01,\n",
       "          -2.07562923e-01, -2.33882472e-01, -3.66726667e-01,\n",
       "          -6.78061321e-02,  6.68401793e-02,  2.77296424e-01,\n",
       "          -1.99597925e-01, -3.21971327e-01, -7.52452239e-02,\n",
       "          -2.18171448e-01,  1.47867829e-01,  3.34508955e-01,\n",
       "          -1.92012966e-01, -1.84023291e-01, -6.27610013e-02,\n",
       "          -1.23344557e-02, -2.83100188e-01, -6.12423778e-01,\n",
       "          -2.00470507e-01, -1.72847092e-01]],\n",
       "\n",
       "        [[-1.13997579e-01, -7.37906173e-02, -3.30057777e-02,\n",
       "           2.24636011e-02,  1.64393961e-01, -5.05301394e-02,\n",
       "          -3.48470181e-01,  2.20767319e-01, -2.31779531e-01,\n",
       "          -1.40532047e-01, -2.08623618e-01,  1.53723881e-01,\n",
       "           2.72119641e-01, -1.50310040e-01, -4.56722714e-02,\n",
       "          -3.83373529e-01, -9.76102948e-02, -3.59731019e-01,\n",
       "          -5.25395930e-01,  3.15853715e-01, -1.28984988e-01,\n",
       "          -9.40558985e-02,  2.32623629e-02,  2.10180610e-01,\n",
       "           1.37817934e-01, -1.53481245e-01, -4.78621393e-01,\n",
       "           6.16256706e-02, -4.25998867e-02, -1.95007980e-01,\n",
       "          -1.06350631e-01,  1.55604482e-02],\n",
       "         [-9.18786153e-02, -2.29854807e-01, -7.72923902e-02,\n",
       "          -9.60450992e-02,  1.43655792e-01,  2.11100653e-01,\n",
       "          -3.19501847e-01, -2.27356195e-01, -6.90879002e-02,\n",
       "           1.19423702e-01, -2.87985176e-01,  9.32653844e-02,\n",
       "           1.21170498e-01, -2.54788935e-01, -1.80841565e-01,\n",
       "          -2.17265829e-01, -3.61343473e-01, -2.10667014e-01,\n",
       "          -2.96785206e-01, -3.30851406e-01, -1.10033773e-01,\n",
       "          -2.16921434e-01,  6.91167638e-02,  5.19835623e-03,\n",
       "           5.36067933e-02,  1.71078928e-02, -1.95554748e-01,\n",
       "          -1.29676253e-01, -3.98019642e-01, -5.64181805e-01,\n",
       "          -4.67928678e-01, -1.41017601e-01],\n",
       "         [-6.49196804e-02,  1.63143948e-01,  5.10999374e-02,\n",
       "          -9.39258561e-02, -7.71311000e-02,  1.46578908e-01,\n",
       "          -1.04693817e-02, -1.19249433e-01, -6.73374087e-02,\n",
       "           7.03297853e-02, -1.80195183e-01,  3.28667909e-02,\n",
       "           2.57216513e-01, -7.13314936e-02, -1.83188245e-01,\n",
       "          -1.36877567e-01, -1.49351165e-01, -5.77040482e-04,\n",
       "          -3.57063919e-01, -3.49769771e-01,  6.64497819e-03,\n",
       "          -1.22057758e-01, -1.50815155e-02,  2.14930445e-01,\n",
       "          -2.74051070e-01, -1.49661765e-01, -1.10865727e-01,\n",
       "           2.84782387e-02, -4.37059641e-01, -6.32800519e-01,\n",
       "          -2.59972751e-01, -1.22236535e-02]]],\n",
       "\n",
       "\n",
       "       [[[-8.22574645e-02,  2.43841082e-01,  9.38785356e-03,\n",
       "          -3.89906205e-02, -2.48588756e-01, -1.79904222e-01,\n",
       "          -1.57639578e-01, -2.95510203e-01, -2.43137226e-01,\n",
       "           3.48202676e-01, -1.15133807e-01, -1.27127469e-01,\n",
       "           1.89017624e-01, -2.24928930e-01, -1.80849396e-02,\n",
       "          -1.91769898e-01, -1.77239433e-01, -9.90358815e-02,\n",
       "           1.18756302e-01, -9.68498439e-02,  5.09263836e-02,\n",
       "          -1.92941979e-01, -2.95464159e-03,  4.16292809e-02,\n",
       "          -2.01997101e-01,  1.87557071e-01, -1.63797200e-01,\n",
       "           1.92297116e-01, -2.13768765e-01, -4.64387909e-02,\n",
       "          -3.84376675e-01,  3.42245460e-01],\n",
       "         [ 5.56815080e-02, -2.35524885e-02,  6.92323968e-02,\n",
       "          -2.36788485e-02,  1.46225899e-01,  9.59996507e-03,\n",
       "          -2.76968896e-01, -1.40276611e-01,  5.41929826e-02,\n",
       "           2.11177096e-01,  1.63476868e-03, -1.69259951e-01,\n",
       "           3.29752304e-02, -1.20305456e-01,  7.20788762e-02,\n",
       "          -1.43059835e-01, -3.32749069e-01, -2.73827761e-02,\n",
       "           6.41571730e-03, -3.66096735e-01,  3.09606846e-02,\n",
       "          -3.04811746e-01,  3.57836261e-02, -2.22025171e-01,\n",
       "          -1.51176780e-01,  1.65049553e-01, -3.43645662e-02,\n",
       "          -1.88461155e-01, -2.34626517e-01, -3.70468497e-02,\n",
       "          -3.13393354e-01,  4.88109946e-01],\n",
       "         [-2.10187852e-01, -1.97942436e-01, -1.14154048e-01,\n",
       "           6.20341906e-03, -7.62948394e-02, -2.68817335e-01,\n",
       "           1.77122746e-03,  1.00776866e-01,  6.67468831e-02,\n",
       "           5.08172661e-02, -1.45887882e-01,  1.69471614e-02,\n",
       "           1.13143809e-01, -8.01277459e-02,  3.76032554e-02,\n",
       "           1.12552391e-02, -2.70963758e-01,  1.14010699e-01,\n",
       "          -5.02038226e-02, -4.12458777e-01,  9.60411280e-02,\n",
       "          -7.88263604e-03,  1.90353647e-01,  1.17785059e-01,\n",
       "           4.96292673e-02,  1.70116380e-01, -1.30559459e-01,\n",
       "          -6.98489547e-02, -1.14525281e-01, -7.56906494e-02,\n",
       "          -4.18244094e-01,  4.31058645e-01]],\n",
       "\n",
       "        [[ 7.70149454e-02, -1.47660300e-01, -1.11290351e-01,\n",
       "          -6.72636032e-02,  8.34808201e-02, -3.71624708e-01,\n",
       "          -2.16309577e-01, -2.60333449e-01, -2.12460861e-01,\n",
       "          -2.56262660e-01,  8.39801580e-02, -1.23594105e-01,\n",
       "          -1.22885540e-01, -1.22606978e-01, -1.64596349e-01,\n",
       "          -1.13690846e-01, -2.16315053e-02,  1.96982563e-01,\n",
       "          -6.95687905e-02,  2.11493209e-01, -9.44256335e-02,\n",
       "           5.18129021e-02, -4.58753943e-01, -6.64240941e-02,\n",
       "          -3.06425430e-02, -7.81466290e-02, -3.86044271e-02,\n",
       "           3.77320468e-01, -6.46544024e-02,  1.71239421e-01,\n",
       "          -3.45707178e-01,  8.12404901e-02],\n",
       "         [-1.72399908e-01, -1.78564727e-01, -1.49991363e-01,\n",
       "          -3.97641398e-02,  1.99891731e-01,  1.06592216e-01,\n",
       "          -4.61465478e-01, -7.47920349e-02,  7.21351355e-02,\n",
       "          -4.41478997e-01, -9.17680860e-02, -9.86177623e-02,\n",
       "          -1.46756813e-01, -5.01565993e-01, -3.01895022e-01,\n",
       "          -1.44456699e-01, -8.58365521e-02,  1.85940310e-01,\n",
       "           1.32939234e-01, -2.06133351e-01, -1.51643246e-01,\n",
       "          -8.39122105e-03, -5.65212846e-01, -2.05550075e-01,\n",
       "           8.53962600e-02,  3.89257446e-02,  1.76173195e-01,\n",
       "          -3.27814609e-01,  5.51230274e-02,  1.84478700e-01,\n",
       "          -3.50172341e-01, -1.33772522e-01],\n",
       "         [ 2.12578997e-02, -3.12497407e-01,  9.52474251e-02,\n",
       "          -8.27028751e-02, -2.72334605e-01, -3.35168481e-01,\n",
       "          -5.32795005e-02,  1.92471787e-01, -1.76054567e-01,\n",
       "          -4.30732340e-01,  1.78002939e-02,  2.31729671e-01,\n",
       "          -5.12062274e-02, -6.15861118e-01, -4.86896515e-01,\n",
       "           7.02975551e-03, -1.30429536e-01,  1.34628013e-01,\n",
       "          -2.39762694e-01, -4.55433190e-01, -3.07871789e-01,\n",
       "           8.16058666e-02, -4.78860915e-01,  7.16007352e-02,\n",
       "          -2.06677184e-01, -1.00519083e-01,  2.58011162e-01,\n",
       "          -3.25191110e-01, -9.92944986e-02,  1.35904819e-01,\n",
       "          -3.27339172e-01, -1.28437448e-02]],\n",
       "\n",
       "        [[ 6.21848144e-02,  2.96592712e-03, -1.74836833e-02,\n",
       "           9.17030312e-03,  1.90246910e-01,  1.24311797e-01,\n",
       "          -3.17232639e-01, -1.17981620e-01, -1.78232506e-01,\n",
       "          -3.10606450e-01,  3.51911485e-01,  1.98106036e-01,\n",
       "           1.72107503e-01,  1.99106976e-01, -2.53779709e-01,\n",
       "          -1.94261298e-01, -2.36961693e-01, -1.24846041e-01,\n",
       "          -1.88652918e-01,  1.43769532e-01,  3.19382027e-02,\n",
       "           1.07865006e-01,  1.49636433e-01, -2.11951569e-01,\n",
       "          -1.20273721e-03, -4.00310665e-01, -1.08113028e-01,\n",
       "           3.29872400e-01, -2.80992061e-01,  5.43323234e-02,\n",
       "          -6.09256104e-02,  1.69622928e-01],\n",
       "         [-6.03368646e-03, -1.47853017e-01, -1.22618258e-01,\n",
       "           2.56661628e-03,  1.81763932e-01,  4.59902018e-01,\n",
       "          -1.80812240e-01, -1.35116577e-01,  6.10454381e-02,\n",
       "          -1.50070041e-01,  3.32614422e-01,  1.43957464e-02,\n",
       "           1.06150538e-01, -2.61144582e-02, -3.65054831e-02,\n",
       "          -6.65318072e-02, -1.36884987e-01, -6.54916614e-02,\n",
       "          -1.42289296e-01, -3.97085011e-01, -5.66594973e-02,\n",
       "          -2.04868898e-01,  2.32853875e-01, -3.07516485e-01,\n",
       "          -1.72629237e-01, -3.36061567e-01, -2.21277401e-01,\n",
       "          -6.55974969e-02, -2.22876430e-01, -7.30856135e-02,\n",
       "          -3.61945063e-01, -2.52786994e-01],\n",
       "         [-1.86999038e-01, -6.09655268e-02, -1.09837055e-01,\n",
       "          -4.40633781e-02, -3.83027673e-01,  1.53552666e-01,\n",
       "           3.34981233e-02, -1.43472597e-01, -7.45159686e-02,\n",
       "          -2.84518953e-02,  4.36405063e-01,  1.76746339e-01,\n",
       "           3.04861128e-01, -1.29287556e-01, -2.85646230e-01,\n",
       "           1.11827150e-01, -2.27832556e-01, -1.58773005e-01,\n",
       "           3.97297218e-02, -4.28771734e-01, -2.89378375e-01,\n",
       "           7.46084824e-02,  1.56185985e-01, -2.32284561e-01,\n",
       "          -5.42943358e-01, -4.49395150e-01, -2.43007943e-01,\n",
       "           1.92948617e-02, -3.02438326e-02, -2.18937807e-02,\n",
       "          -1.34475246e-01, -2.49532461e-01]]],\n",
       "\n",
       "\n",
       "       [[[-1.83291644e-01,  9.05972533e-03, -1.08340196e-01,\n",
       "           2.73415353e-03, -2.43250355e-01,  1.44605815e-01,\n",
       "          -2.88852304e-01, -2.53194213e-01,  2.88951099e-02,\n",
       "           7.54129961e-02, -4.21400853e-02, -1.06432013e-01,\n",
       "          -1.22778928e-02, -8.15708563e-02,  1.46371156e-01,\n",
       "           7.08203297e-03, -1.46124363e-01, -4.84153954e-03,\n",
       "          -3.33586289e-03, -2.10688606e-01,  8.25494826e-02,\n",
       "          -8.64774808e-02, -3.62101756e-02,  1.71263710e-01,\n",
       "          -1.83269873e-01, -1.49991080e-01, -1.35653228e-01,\n",
       "          -1.05823718e-01, -2.91530937e-01,  1.18897952e-01,\n",
       "          -5.22345304e-01, -1.66349947e-01],\n",
       "         [ 2.43642949e-03,  1.67812273e-01,  1.85897329e-03,\n",
       "          -1.01563074e-01,  2.07605451e-01, -3.13619643e-01,\n",
       "          -4.27341729e-01,  1.46210745e-01,  3.73771116e-02,\n",
       "          -8.34825039e-02, -1.02404982e-01, -1.70798406e-01,\n",
       "          -2.54100710e-02, -3.95946383e-01,  2.36584693e-01,\n",
       "           4.34586219e-02, -1.47650465e-01, -9.49030519e-02,\n",
       "          -1.45827189e-01, -8.87546241e-02,  1.09018393e-01,\n",
       "          -2.18389481e-01,  6.72048330e-02,  1.37293255e-02,\n",
       "           4.41290922e-02, -1.59530252e-01, -2.03439951e-01,\n",
       "          -7.45345801e-02, -7.12046772e-02,  6.05060719e-03,\n",
       "          -3.68345290e-01,  1.79021001e-01],\n",
       "         [ 4.02534567e-02, -1.08023472e-01, -1.47543907e-01,\n",
       "          -4.19657677e-02, -5.02699167e-02, -3.07843592e-02,\n",
       "          -4.85923812e-02,  2.62527913e-01, -8.08945522e-02,\n",
       "          -2.05648467e-01, -3.62193286e-02, -1.78293628e-03,\n",
       "           4.30104602e-03, -4.93830562e-01,  2.11154297e-01,\n",
       "           1.83029193e-02,  7.72849619e-02, -2.92069167e-01,\n",
       "          -4.48720515e-01, -2.69599974e-01,  1.60403661e-02,\n",
       "          -1.04012266e-01,  9.23537165e-02,  6.28705770e-02,\n",
       "           2.83229500e-01, -3.03091973e-01, -7.79320206e-03,\n",
       "           8.05594251e-02, -3.10852587e-01, -1.79120922e-03,\n",
       "          -6.70856416e-01, -3.61483321e-02]],\n",
       "\n",
       "        [[-1.55847862e-01, -1.60012152e-02, -3.46774720e-02,\n",
       "          -7.15855062e-02,  1.88858062e-02, -3.05899113e-01,\n",
       "          -5.57599485e-01, -2.46697560e-01, -1.18676245e-01,\n",
       "           5.52780414e-03, -1.42475903e-01, -4.97012809e-02,\n",
       "           8.48526508e-02, -1.00131191e-01,  9.28502306e-02,\n",
       "          -6.85112849e-02, -1.27477303e-01,  1.44314423e-01,\n",
       "          -3.94893736e-02,  8.10650811e-02,  3.06458980e-01,\n",
       "           1.22517487e-03, -2.30745822e-01,  3.05783655e-03,\n",
       "          -3.06256860e-01,  2.56991833e-02, -8.71027485e-02,\n",
       "           1.70570120e-01, -2.54977882e-01,  1.19184941e-01,\n",
       "          -3.27269793e-01, -1.66539207e-01],\n",
       "         [-1.61315069e-01, -3.27171050e-02, -1.88422337e-01,\n",
       "          -9.40247625e-02,  2.38634109e-01, -1.65889487e-01,\n",
       "          -4.69798714e-01,  6.03238232e-02,  1.21530570e-01,\n",
       "          -3.00928410e-02,  3.48859206e-02, -9.49387327e-02,\n",
       "           4.70516756e-02, -1.59941047e-01, -4.57962379e-02,\n",
       "          -8.45640376e-02, -3.80621761e-01, -3.66082996e-01,\n",
       "          -2.20095053e-01, -1.44547466e-02,  1.52273169e-02,\n",
       "          -1.44459739e-01, -2.33552873e-01,  2.75344308e-02,\n",
       "          -1.51781946e-01,  7.80448958e-04,  8.58237222e-02,\n",
       "          -2.67417610e-01,  9.35131013e-02, -7.27043524e-02,\n",
       "          -2.98251867e-01, -2.00072244e-01],\n",
       "         [-2.10296512e-01, -2.29852095e-01, -2.33281776e-02,\n",
       "          -9.59590673e-02, -1.74044013e-01, -3.47151399e-01,\n",
       "           6.89054951e-02,  4.02750522e-01,  1.27776517e-02,\n",
       "           1.00452095e-01, -1.67506278e-01,  1.85372487e-01,\n",
       "           2.46770177e-02, -3.61989915e-01,  1.36291221e-01,\n",
       "          -5.88434525e-02, -6.34654388e-02, -3.44983041e-01,\n",
       "          -3.33607346e-01, -4.75511514e-02,  6.75843954e-02,\n",
       "           9.18229446e-02, -1.59592718e-01, -9.65990499e-02,\n",
       "          -3.21995825e-01, -9.10984501e-02,  2.88442492e-01,\n",
       "          -2.65514497e-02, -2.27618024e-01, -3.90781388e-02,\n",
       "           1.42615187e-04, -4.60761860e-02]],\n",
       "\n",
       "        [[-1.17482252e-01, -1.27399080e-02, -2.52008680e-02,\n",
       "          -1.07293099e-01, -1.48983095e-02, -1.02821715e-01,\n",
       "          -4.84963298e-01, -4.18638922e-02, -1.42026722e-01,\n",
       "          -1.03906780e-01,  1.82963699e-01,  1.06863747e-03,\n",
       "           4.02614176e-02,  2.82418609e-01,  1.62623271e-01,\n",
       "          -2.75232643e-01, -4.67851683e-02,  3.75637501e-01,\n",
       "          -4.45165187e-01,  1.58990119e-02,  2.25450933e-01,\n",
       "          -2.00552821e-01,  1.91466302e-01,  2.08765641e-02,\n",
       "          -4.61174026e-02, -5.94157772e-03, -1.84170783e-01,\n",
       "           5.38884699e-02, -9.96125460e-01, -1.02004871e-01,\n",
       "          -3.85655999e-01,  4.40185778e-02],\n",
       "         [-4.57443409e-02,  3.59070636e-02,  5.78673929e-02,\n",
       "           8.98687318e-02,  9.03267339e-02,  1.82428360e-02,\n",
       "          -4.49511319e-01,  1.13079153e-01, -5.21737970e-02,\n",
       "           7.19786659e-02,  2.13665083e-01, -6.93305656e-02,\n",
       "          -1.68077007e-01,  3.20437253e-01,  2.82203197e-01,\n",
       "          -2.09785879e-01, -1.60176247e-01,  2.50000432e-02,\n",
       "          -3.78499389e-01, -4.07579308e-03, -2.74292808e-02,\n",
       "          -1.31574735e-01,  2.69922882e-01, -1.63695455e-01,\n",
       "          -3.22248518e-01,  7.55787790e-02, -2.05454513e-01,\n",
       "          -1.62729993e-01, -6.66701734e-01,  2.16173604e-02,\n",
       "          -3.11048955e-01,  7.39694536e-02],\n",
       "         [-1.04813807e-01,  1.61155850e-01, -3.11374124e-02,\n",
       "           1.80136859e-02, -3.34316827e-02,  1.30993903e-01,\n",
       "          -1.06152333e-01,  1.10069580e-01, -1.21727578e-01,\n",
       "           2.93292612e-01,  1.56463966e-01, -1.22037688e-02,\n",
       "          -2.18151122e-01,  2.95113951e-01,  2.74883091e-01,\n",
       "          -3.23515385e-02, -5.56602255e-02,  6.45699054e-02,\n",
       "          -1.40044376e-01, -3.62538435e-02,  1.75920967e-02,\n",
       "          -4.99611199e-02,  3.50389928e-02, -1.91935986e-01,\n",
       "          -4.25563723e-01,  6.39830232e-02, -8.46173912e-02,\n",
       "           1.26946762e-01, -4.08672184e-01, -2.69353408e-02,\n",
       "          -3.07277739e-01, -1.76030695e-02]]]], dtype=float32)"
      ]
     },
     "execution_count": 111,
     "metadata": {},
     "output_type": "execute_result"
    }
   ],
   "source": [
    "weights = np.array(model_file['model_weights']['conv2d']['conv2d']['kernel:0'])\n",
    "weights"
   ]
  },
  {
   "cell_type": "code",
   "execution_count": null,
   "id": "64b97da3",
   "metadata": {},
   "outputs": [],
   "source": []
  }
 ],
 "metadata": {
  "kernelspec": {
   "display_name": "Python 3 (ipykernel)",
   "language": "python",
   "name": "python3"
  },
  "language_info": {
   "codemirror_mode": {
    "name": "ipython",
    "version": 3
   },
   "file_extension": ".py",
   "mimetype": "text/x-python",
   "name": "python",
   "nbconvert_exporter": "python",
   "pygments_lexer": "ipython3",
   "version": "3.8.10"
  }
 },
 "nbformat": 4,
 "nbformat_minor": 5
}
