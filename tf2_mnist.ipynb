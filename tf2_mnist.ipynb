{
 "cells": [
  {
   "cell_type": "code",
   "execution_count": 9,
   "id": "3f9cbec7",
   "metadata": {},
   "outputs": [],
   "source": [
    "import tensorflow as tf\n",
    "import numpy as np\n",
    "import tensorflow.keras.layers as layers\n",
    "\n",
    "import tensorflow.keras.datasets as datasets"
   ]
  },
  {
   "cell_type": "markdown",
   "id": "8c4ed78f",
   "metadata": {},
   "source": [
    "## Data Define"
   ]
  },
  {
   "cell_type": "code",
   "execution_count": 24,
   "id": "1c73d249",
   "metadata": {},
   "outputs": [],
   "source": [
    "(train_x, train_y), (test_x, test_y) = datasets.mnist.load_data()"
   ]
  },
  {
   "cell_type": "code",
   "execution_count": 25,
   "id": "0f67323d",
   "metadata": {},
   "outputs": [
    {
     "data": {
      "text/plain": [
       "((60000, 28, 28), (60000,), (10000, 28, 28), (10000,))"
      ]
     },
     "execution_count": 25,
     "metadata": {},
     "output_type": "execute_result"
    }
   ],
   "source": [
    "train_x.shape, train_y.shape, test_x.shape, test_y.shape"
   ]
  },
  {
   "cell_type": "code",
   "execution_count": 26,
   "id": "f65fed67",
   "metadata": {},
   "outputs": [
    {
     "data": {
      "text/plain": [
       "(0, 255)"
      ]
     },
     "execution_count": 26,
     "metadata": {},
     "output_type": "execute_result"
    }
   ],
   "source": [
    "np.min(train_x), np.max(train_x)"
   ]
  },
  {
   "cell_type": "code",
   "execution_count": 28,
   "id": "c3c8ed04",
   "metadata": {},
   "outputs": [],
   "source": [
    "train_x = train_x[..., tf.newaxis]\n",
    "test_x = test_x[..., tf.newaxis]"
   ]
  },
  {
   "cell_type": "code",
   "execution_count": 29,
   "id": "bb35a053",
   "metadata": {},
   "outputs": [
    {
     "data": {
      "text/plain": [
       "((60000, 28, 28, 1), (60000,), (10000, 28, 28, 1), (10000,))"
      ]
     },
     "execution_count": 29,
     "metadata": {},
     "output_type": "execute_result"
    }
   ],
   "source": [
    "train_x.shape, train_y.shape, test_x.shape, test_y.shape"
   ]
  },
  {
   "cell_type": "code",
   "execution_count": 30,
   "id": "bb3d41e0",
   "metadata": {},
   "outputs": [],
   "source": [
    "train_x = train_x / 255.0"
   ]
  },
  {
   "cell_type": "code",
   "execution_count": 31,
   "id": "b7c18f80",
   "metadata": {},
   "outputs": [],
   "source": [
    "test_x = test_x / 255.0"
   ]
  },
  {
   "cell_type": "code",
   "execution_count": 32,
   "id": "b42e8032",
   "metadata": {},
   "outputs": [
    {
     "data": {
      "text/plain": [
       "(0.0, 1.0)"
      ]
     },
     "execution_count": 32,
     "metadata": {},
     "output_type": "execute_result"
    }
   ],
   "source": [
    "np.min(train_x), np.max(train_x)"
   ]
  },
  {
   "cell_type": "markdown",
   "id": "33ec0a94",
   "metadata": {},
   "source": [
    "## Model Define"
   ]
  },
  {
   "cell_type": "code",
   "execution_count": 17,
   "id": "42d5c41f",
   "metadata": {},
   "outputs": [
    {
     "name": "stdout",
     "output_type": "stream",
     "text": [
      "Model: \"Basic_CNN\"\n",
      "_________________________________________________________________\n",
      "Layer (type)                 Output Shape              Param #   \n",
      "=================================================================\n",
      "input_4 (InputLayer)         [(None, 28, 28, 1)]       0         \n",
      "_________________________________________________________________\n",
      "conv2d_12 (Conv2D)           (None, 28, 28, 32)        320       \n",
      "_________________________________________________________________\n",
      "conv2d_13 (Conv2D)           (None, 28, 28, 32)        9248      \n",
      "_________________________________________________________________\n",
      "max_pooling2d_6 (MaxPooling2 (None, 14, 14, 32)        0         \n",
      "_________________________________________________________________\n",
      "dropout_9 (Dropout)          (None, 14, 14, 32)        0         \n",
      "_________________________________________________________________\n",
      "conv2d_14 (Conv2D)           (None, 14, 14, 64)        18496     \n",
      "_________________________________________________________________\n",
      "conv2d_15 (Conv2D)           (None, 14, 14, 64)        36928     \n",
      "_________________________________________________________________\n",
      "max_pooling2d_7 (MaxPooling2 (None, 7, 7, 64)          0         \n",
      "_________________________________________________________________\n",
      "dropout_10 (Dropout)         (None, 7, 7, 64)          0         \n",
      "_________________________________________________________________\n",
      "flatten_3 (Flatten)          (None, 3136)              0         \n",
      "_________________________________________________________________\n",
      "dense_6 (Dense)              (None, 512)               1606144   \n",
      "_________________________________________________________________\n",
      "dropout_11 (Dropout)         (None, 512)               0         \n",
      "_________________________________________________________________\n",
      "dense_7 (Dense)              (None, 10)                5130      \n",
      "=================================================================\n",
      "Total params: 1,676,266\n",
      "Trainable params: 1,676,266\n",
      "Non-trainable params: 0\n",
      "_________________________________________________________________\n"
     ]
    }
   ],
   "source": [
    "inputs = layers.Input((28, 28, 1))\n",
    "\n",
    "net = layers.Conv2D(32, (3, 3), padding='SAME', activation='relu')(inputs)\n",
    "net = layers.Conv2D(32, (3, 3), padding='SAME', activation='relu')(net)\n",
    "net = layers.MaxPooling2D((2,2))(net)\n",
    "net = layers.Dropout(0.2)(net)\n",
    "\n",
    "net = layers.Conv2D(64, (3, 3), padding='SAME', activation='relu')(net)\n",
    "net = layers.Conv2D(64, (3, 3), padding='SAME', activation='relu')(net)\n",
    "net = layers.MaxPooling2D((2,2))(net)\n",
    "net = layers.Dropout(0.2)(net)\n",
    "\n",
    "net = layers.Flatten()(net)\n",
    "net = layers.Dense(512, activation='relu')(net)\n",
    "net = layers.Dropout(0.2)(net)\n",
    "net = layers.Dense(10, activation='softmax')(net)\n",
    "\n",
    "model = tf.keras.Model(inputs=inputs,\n",
    "                      outputs=net,\n",
    "                      name='Basic_CNN')\n",
    "\n",
    "model.summary()"
   ]
  },
  {
   "cell_type": "code",
   "execution_count": 18,
   "id": "178e90c2",
   "metadata": {},
   "outputs": [],
   "source": [
    "loss = 'sparse_categorical_crossentropy'\n",
    "optimizer = 'adam'\n",
    "metrics = ['accuracy']"
   ]
  },
  {
   "cell_type": "code",
   "execution_count": 19,
   "id": "e4dbb4d4",
   "metadata": {},
   "outputs": [],
   "source": [
    "model.compile(optimizer=optimizer,\n",
    "             loss=loss,\n",
    "             metrics=metrics)"
   ]
  },
  {
   "cell_type": "code",
   "execution_count": 40,
   "id": "1c893196",
   "metadata": {
    "scrolled": true
   },
   "outputs": [
    {
     "name": "stdout",
     "output_type": "stream",
     "text": [
      "Epoch 1/10\n",
      "1875/1875 [==============================] - 10s 5ms/step - loss: 0.0463 - accuracy: 0.9860\n",
      "Epoch 2/10\n",
      "1875/1875 [==============================] - 10s 5ms/step - loss: 0.0353 - accuracy: 0.9892\n",
      "Epoch 3/10\n",
      "1875/1875 [==============================] - 10s 5ms/step - loss: 0.0281 - accuracy: 0.9913\n",
      "Epoch 4/10\n",
      "1875/1875 [==============================] - 10s 5ms/step - loss: 0.0245 - accuracy: 0.9926\n",
      "Epoch 5/10\n",
      "1875/1875 [==============================] - 10s 5ms/step - loss: 0.0196 - accuracy: 0.9938\n",
      "Epoch 6/10\n",
      "1875/1875 [==============================] - 10s 5ms/step - loss: 0.0182 - accuracy: 0.9941\n",
      "Epoch 7/10\n",
      "1875/1875 [==============================] - 10s 5ms/step - loss: 0.0167 - accuracy: 0.9948\n",
      "Epoch 8/10\n",
      "1875/1875 [==============================] - 10s 5ms/step - loss: 0.0146 - accuracy: 0.9955\n",
      "Epoch 9/10\n",
      "1875/1875 [==============================] - 10s 5ms/step - loss: 0.0140 - accuracy: 0.9960\n",
      "Epoch 10/10\n",
      "1875/1875 [==============================] - 10s 6ms/step - loss: 0.0123 - accuracy: 0.9962\n"
     ]
    }
   ],
   "source": [
    "num_classes = 10\n",
    "batch_size = 32\n",
    "epochs = 10\n",
    "\n",
    "hist = model.fit(train_x, train_y, \n",
    "                 batch_size=batch_size,\n",
    "                 shuffle=True,\n",
    "                 epochs=epochs)"
   ]
  },
  {
   "cell_type": "code",
   "execution_count": 44,
   "id": "cfc5789d",
   "metadata": {},
   "outputs": [
    {
     "data": {
      "text/plain": [
       "{'loss': [0.04625581577420235,\n",
       "  0.035297978669404984,\n",
       "  0.028144769370555878,\n",
       "  0.024528291076421738,\n",
       "  0.019613629207015038,\n",
       "  0.018200157210230827,\n",
       "  0.01669524423778057,\n",
       "  0.014586329460144043,\n",
       "  0.013987001962959766,\n",
       "  0.012274703942239285],\n",
       " 'accuracy': [0.985966682434082,\n",
       "  0.9891666769981384,\n",
       "  0.9912833571434021,\n",
       "  0.9925666451454163,\n",
       "  0.9938333630561829,\n",
       "  0.9940833449363708,\n",
       "  0.9947500228881836,\n",
       "  0.9955000281333923,\n",
       "  0.9959666728973389,\n",
       "  0.9962000250816345]}"
      ]
     },
     "execution_count": 44,
     "metadata": {},
     "output_type": "execute_result"
    }
   ],
   "source": [
    "hist.history"
   ]
  },
  {
   "cell_type": "code",
   "execution_count": 52,
   "id": "120dade9",
   "metadata": {},
   "outputs": [
    {
     "name": "stdout",
     "output_type": "stream",
     "text": [
      "range(0, 10)\n"
     ]
    },
    {
     "data": {
      "image/png": "[encoded data removed]",
      "text/plain": [
       "<Figure size 1152x576 with 2 Axes>"
      ]
     },
     "metadata": {
      "needs_background": "light"
     },
     "output_type": "display_data"
    }
   ],
   "source": [
    "import matplotlib.pyplot as plt\n",
    "\n",
    "loss=hist.history['loss']\n",
    "accuracy = hist.history['accuracy']\n",
    "\n",
    "epochs_range = range(len(loss))\n",
    "print(epochs_range)\n",
    "\n",
    "plt.figure(figsize=(16, 8))\n",
    "plt.subplot(1, 2, 1)\n",
    "plt.plot(epochs_range, loss, label='Training Loss')\n",
    "plt.legend(loc='upper right')\n",
    "plt.title('Training Loss')\n",
    "\n",
    "plt.subplot(1, 2, 2)\n",
    "plt.plot(epochs_range, accuracy, label='Training Accuracy')\n",
    "plt.legend(loc='lower right')\n",
    "plt.title('Training Accuracy')\n",
    "plt.show()"
   ]
  },
  {
   "cell_type": "markdown",
   "id": "6e9b7a54",
   "metadata": {},
   "source": [
    "## Evaluate"
   ]
  },
  {
   "cell_type": "code",
   "execution_count": 53,
   "id": "e632fc9b",
   "metadata": {},
   "outputs": [
    {
     "name": "stdout",
     "output_type": "stream",
     "text": [
      "313/313 [==============================] - 1s 3ms/step - loss: 0.0206 - accuracy: 0.9939\n"
     ]
    },
    {
     "data": {
      "text/plain": [
       "[0.020557792857289314, 0.9939000010490417]"
      ]
     },
     "execution_count": 53,
     "metadata": {},
     "output_type": "execute_result"
    }
   ],
   "source": [
    "model.evaluate(test_x, test_y, batch_size=32)"
   ]
  },
  {
   "cell_type": "code",
   "execution_count": 54,
   "id": "30c3794d",
   "metadata": {},
   "outputs": [
    {
     "data": {
      "text/plain": [
       "(28, 28)"
      ]
     },
     "execution_count": 54,
     "metadata": {},
     "output_type": "execute_result"
    }
   ],
   "source": [
    "test_image = test_x[0, :, :, 0]\n",
    "test_image.shape"
   ]
  },
  {
   "cell_type": "code",
   "execution_count": 57,
   "id": "4169347f",
   "metadata": {},
   "outputs": [
    {
     "data": {
      "text/plain": [
       "(1, 28, 28, 1)"
      ]
     },
     "execution_count": 57,
     "metadata": {},
     "output_type": "execute_result"
    }
   ],
   "source": [
    "test_image2 = test_image[tf.newaxis, ..., tf.newaxis]\n",
    "test_image2.shape"
   ]
  },
  {
   "cell_type": "code",
   "execution_count": 58,
   "id": "c77fddaa",
   "metadata": {},
   "outputs": [],
   "source": [
    "preds = model.predict(test_image2)"
   ]
  },
  {
   "cell_type": "code",
   "execution_count": 59,
   "id": "91dbd09b",
   "metadata": {},
   "outputs": [
    {
     "data": {
      "text/plain": [
       "array([[5.0323260e-16, 3.2981471e-12, 1.7681073e-12, 8.3180303e-11,\n",
       "        2.7374683e-09, 3.1270527e-15, 1.6059320e-17, 1.0000000e+00,\n",
       "        1.8678141e-12, 1.2832336e-09]], dtype=float32)"
      ]
     },
     "execution_count": 59,
     "metadata": {},
     "output_type": "execute_result"
    }
   ],
   "source": [
    "preds"
   ]
  },
  {
   "cell_type": "code",
   "execution_count": 60,
   "id": "d407946e",
   "metadata": {},
   "outputs": [
    {
     "data": {
      "text/plain": [
       "7"
      ]
     },
     "execution_count": 60,
     "metadata": {},
     "output_type": "execute_result"
    }
   ],
   "source": [
    "np.argmax(preds)"
   ]
  },
  {
   "cell_type": "code",
   "execution_count": 61,
   "id": "2e434e26",
   "metadata": {},
   "outputs": [
    {
     "data": {
      "text/plain": [
       "(32, 28, 28, 1)"
      ]
     },
     "execution_count": 61,
     "metadata": {},
     "output_type": "execute_result"
    }
   ],
   "source": [
    "test_batch = test_x[:32]\n",
    "test_batch.shape"
   ]
  },
  {
   "cell_type": "code",
   "execution_count": 62,
   "id": "68d40b2a",
   "metadata": {},
   "outputs": [],
   "source": [
    "preds_batch = model.predict(test_batch)"
   ]
  },
  {
   "cell_type": "code",
   "execution_count": 63,
   "id": "52de2b43",
   "metadata": {},
   "outputs": [
    {
     "data": {
      "text/plain": [
       "array([[5.03230691e-16, 3.29814084e-12, 1.76810725e-12, 8.31801503e-11,\n",
       "        2.73746315e-09, 3.12704087e-15, 1.60593195e-17, 1.00000000e+00,\n",
       "        1.86780712e-12, 1.28322619e-09],\n",
       "       [1.67775958e-16, 2.51172797e-15, 1.00000000e+00, 1.07490284e-17,\n",
       "        2.23289910e-19, 1.05144588e-24, 4.89398928e-17, 2.69866897e-17,\n",
       "        4.80480862e-17, 9.28444887e-21],\n",
       "       [2.06849364e-08, 9.99972343e-01, 1.86040381e-07, 5.00083086e-09,\n",
       "        1.78614505e-06, 4.60227193e-06, 4.43222962e-06, 1.03094117e-05,\n",
       "        6.04634215e-06, 2.52778790e-07],\n",
       "       [1.00000000e+00, 3.81223187e-15, 5.71015804e-11, 1.13105194e-11,\n",
       "        8.70227718e-13, 7.27796642e-12, 4.17473984e-08, 8.35870956e-12,\n",
       "        9.02498631e-11, 3.75383280e-10],\n",
       "       [6.82629564e-10, 1.35129916e-08, 8.34714575e-10, 6.91036811e-11,\n",
       "        9.99991775e-01, 3.54907659e-10, 9.29433419e-09, 2.92936497e-09,\n",
       "        2.69537193e-08, 8.19614161e-06],\n",
       "       [5.05965714e-10, 9.99994516e-01, 3.76035691e-09, 8.23624589e-13,\n",
       "        4.57922056e-07, 6.77898127e-10, 3.92646005e-09, 4.94350661e-06,\n",
       "        1.21522305e-07, 1.56103752e-08],\n",
       "       [4.38568546e-15, 1.61943987e-08, 1.34889627e-10, 4.41213152e-15,\n",
       "        9.99910474e-01, 1.68947452e-12, 1.10551833e-13, 3.04053982e-09,\n",
       "        8.93190736e-05, 2.25536525e-07],\n",
       "       [5.05893396e-13, 1.27022424e-14, 5.91444186e-15, 5.04925789e-12,\n",
       "        1.34626210e-09, 2.52333029e-14, 5.07492511e-18, 2.41820210e-11,\n",
       "        2.42850948e-11, 1.00000000e+00],\n",
       "       [3.06768998e-05, 9.22665944e-09, 3.66425046e-09, 8.55955928e-09,\n",
       "        2.71583758e-07, 9.84769225e-01, 3.96955246e-03, 7.89465660e-10,\n",
       "        1.12284562e-02, 1.89654361e-06],\n",
       "       [9.23086399e-11, 1.15973745e-13, 1.42145491e-13, 1.14964947e-11,\n",
       "        1.33824433e-05, 2.08278083e-13, 1.36005730e-15, 1.97691625e-05,\n",
       "        1.79486079e-08, 9.99966860e-01],\n",
       "       [1.00000000e+00, 4.74747737e-15, 2.97810399e-09, 3.42822905e-12,\n",
       "        1.23531751e-12, 2.88680700e-13, 4.16457357e-09, 1.05076529e-11,\n",
       "        1.37138773e-10, 6.64480748e-10],\n",
       "       [5.62452654e-11, 9.24835126e-15, 1.36062432e-18, 8.57665064e-16,\n",
       "        8.23988145e-15, 5.95750792e-12, 1.00000000e+00, 7.67354857e-18,\n",
       "        5.56006413e-13, 2.10744760e-19],\n",
       "       [1.07507523e-08, 7.32756564e-11, 2.19483524e-12, 8.51303295e-09,\n",
       "        5.67837160e-05, 4.87469891e-11, 4.44034132e-12, 9.83779614e-07,\n",
       "        4.71837822e-08, 9.99942183e-01],\n",
       "       [1.00000000e+00, 6.19163773e-16, 9.88074097e-13, 2.13783432e-13,\n",
       "        3.09961839e-15, 9.68833100e-14, 1.42491730e-09, 1.62846773e-13,\n",
       "        1.28232208e-11, 5.14615314e-13],\n",
       "       [5.61847140e-12, 9.99999166e-01, 6.25835550e-10, 2.95405234e-09,\n",
       "        3.20460014e-09, 7.53598783e-07, 2.95221603e-09, 2.37213715e-08,\n",
       "        7.68491493e-09, 5.44112977e-10],\n",
       "       [2.35507512e-12, 3.48664514e-10, 3.09882159e-14, 5.78340223e-06,\n",
       "        3.40563515e-11, 9.99994159e-01, 1.39535510e-11, 9.13970344e-10,\n",
       "        1.51859734e-08, 1.27635225e-09],\n",
       "       [5.44787220e-08, 1.06689629e-10, 2.13207285e-10, 2.37715341e-07,\n",
       "        3.71605438e-06, 9.14205430e-12, 9.14090817e-11, 1.25498445e-05,\n",
       "        1.92983748e-06, 9.99981523e-01],\n",
       "       [3.51296534e-18, 8.22769434e-15, 1.51920346e-15, 1.67136866e-12,\n",
       "        4.14789644e-12, 4.41459055e-18, 3.79336184e-21, 1.00000000e+00,\n",
       "        3.87334244e-16, 4.70630535e-10],\n",
       "       [4.40165726e-09, 1.20809000e-06, 3.42763229e-07, 9.97691631e-01,\n",
       "        1.46224011e-07, 2.21435144e-03, 9.40649711e-11, 3.14071372e-07,\n",
       "        1.50380856e-05, 7.69793260e-05],\n",
       "       [2.59687109e-23, 1.96391894e-15, 4.21532564e-18, 4.42506437e-24,\n",
       "        1.00000000e+00, 4.85308222e-20, 4.96470743e-18, 5.67699745e-17,\n",
       "        3.16466915e-18, 7.67443151e-17],\n",
       "       [1.16461720e-08, 2.85293966e-09, 5.09886681e-11, 2.36025475e-08,\n",
       "        2.62700105e-05, 4.87170804e-10, 2.01115361e-12, 4.28593667e-05,\n",
       "        9.47190699e-08, 9.99930739e-01],\n",
       "       [4.60168970e-09, 6.38450404e-12, 6.19624049e-14, 8.03240341e-13,\n",
       "        2.05785562e-11, 1.91914000e-06, 9.99998093e-01, 2.50214062e-15,\n",
       "        1.32364708e-09, 1.12508761e-11],\n",
       "       [9.22204004e-14, 2.07292865e-14, 5.76898713e-19, 7.50397004e-19,\n",
       "        1.27359711e-13, 1.19517013e-13, 1.00000000e+00, 1.60900410e-17,\n",
       "        9.62410829e-14, 5.42387992e-22],\n",
       "       [6.06692642e-16, 2.50900556e-17, 2.47632336e-18, 1.10876924e-11,\n",
       "        6.27504572e-14, 1.00000000e+00, 3.85130166e-12, 1.78595309e-15,\n",
       "        3.26487941e-13, 3.00015230e-08],\n",
       "       [4.37471553e-15, 2.34369451e-11, 3.22889258e-13, 1.35734358e-17,\n",
       "        1.00000000e+00, 6.47518445e-15, 3.53536644e-12, 1.27532540e-09,\n",
       "        8.34317478e-13, 1.52419732e-09],\n",
       "       [9.99999762e-01, 4.08322158e-16, 1.58963849e-11, 8.38200765e-14,\n",
       "        4.03046974e-14, 1.92923172e-14, 2.02956187e-07, 1.57729546e-14,\n",
       "        5.75957650e-11, 1.27884053e-12],\n",
       "       [1.48836256e-11, 6.00471452e-12, 1.07602771e-08, 1.89125410e-10,\n",
       "        2.37131342e-10, 1.24157785e-11, 2.42487454e-16, 1.00000000e+00,\n",
       "        2.78099870e-11, 2.95720177e-08],\n",
       "       [9.04752022e-17, 5.20621849e-13, 1.72902527e-15, 5.87821964e-18,\n",
       "        1.00000000e+00, 1.68478428e-14, 2.12575581e-15, 1.45698529e-15,\n",
       "        3.13172204e-14, 3.99243355e-12],\n",
       "       [9.99999762e-01, 1.39772764e-12, 2.12898783e-07, 4.02021527e-09,\n",
       "        5.56500158e-11, 1.02338915e-09, 4.62612988e-08, 2.41441422e-10,\n",
       "        4.05655598e-09, 8.41821779e-10],\n",
       "       [7.88488941e-10, 9.99992847e-01, 6.57280737e-07, 2.46951771e-07,\n",
       "        2.78974085e-06, 7.82546223e-08, 3.92296684e-08, 2.67884889e-06,\n",
       "        1.96629856e-07, 3.69112342e-07],\n",
       "       [4.54413862e-18, 5.02106169e-12, 3.55093322e-14, 1.00000000e+00,\n",
       "        4.54456173e-15, 5.05735427e-12, 2.04993206e-17, 1.76092030e-10,\n",
       "        1.06369127e-14, 1.41268681e-11],\n",
       "       [5.50560708e-11, 9.99996424e-01, 4.63459937e-09, 2.15405666e-12,\n",
       "        2.90619869e-06, 2.62222954e-09, 2.31122033e-09, 1.74659675e-07,\n",
       "        2.41323015e-08, 4.69422844e-07]], dtype=float32)"
      ]
     },
     "execution_count": 63,
     "metadata": {},
     "output_type": "execute_result"
    }
   ],
   "source": [
    "preds_batch"
   ]
  },
  {
   "cell_type": "code",
   "execution_count": 68,
   "id": "5862c52e",
   "metadata": {},
   "outputs": [
    {
     "data": {
      "text/plain": [
       "array([7, 2, 1, 0, 4, 1, 4, 9, 5, 9, 0, 6, 9, 0, 1, 5, 9, 7, 3, 4, 9, 6,\n",
       "       6, 5, 4, 0, 7, 4, 0, 1, 3, 1])"
      ]
     },
     "execution_count": 68,
     "metadata": {},
     "output_type": "execute_result"
    }
   ],
   "source": [
    "np.argmax(preds_batch, -1)"
   ]
  }
 ],
 "metadata": {
  "kernelspec": {
   "display_name": "Python 3 (ipykernel)",
   "language": "python",
   "name": "python3"
  },
  "language_info": {
   "codemirror_mode": {
    "name": "ipython",
    "version": 3
   },
   "file_extension": ".py",
   "mimetype": "text/x-python",
   "name": "python",
   "nbconvert_exporter": "python",
   "pygments_lexer": "ipython3",
   "version": "3.8.10"
  }
 },
 "nbformat": 4,
 "nbformat_minor": 5
}
