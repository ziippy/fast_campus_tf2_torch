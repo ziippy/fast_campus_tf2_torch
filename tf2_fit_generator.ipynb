{
 "cells": [
  {
   "cell_type": "code",
   "execution_count": 2,
   "id": "8b5dc8a9",
   "metadata": {},
   "outputs": [],
   "source": [
    "import os\n",
    "from glob import glob\n",
    "\n",
    "import numpy as np\n",
    "\n",
    "import tensorflow as tf\n",
    "from PIL import Image\n",
    "\n",
    "import matplotlib.pyplot as plt\n",
    "%matplotlib inline"
   ]
  },
  {
   "cell_type": "code",
   "execution_count": 11,
   "id": "0aa9d802",
   "metadata": {},
   "outputs": [
    {
     "data": {
      "text/plain": [
       "['training', 'testing']"
      ]
     },
     "execution_count": 11,
     "metadata": {},
     "output_type": "execute_result"
    }
   ],
   "source": [
    "os.listdir('dataset/mnist_png')"
   ]
  },
  {
   "cell_type": "markdown",
   "id": "63982b63",
   "metadata": {},
   "source": [
    "## MNIST png"
   ]
  },
  {
   "cell_type": "code",
   "execution_count": 14,
   "id": "6b3e29ee",
   "metadata": {},
   "outputs": [
    {
     "data": {
      "text/plain": [
       "['0', '1', '2', '3', '4', '5', '6', '7', '8', '9']"
      ]
     },
     "execution_count": 14,
     "metadata": {},
     "output_type": "execute_result"
    }
   ],
   "source": [
    "label_nums = os.listdir('dataset/mnist_png/training/')\n",
    "label_nums = sorted(label_nums)\n",
    "label_nums"
   ]
  },
  {
   "cell_type": "code",
   "execution_count": 15,
   "id": "ceb68244",
   "metadata": {},
   "outputs": [],
   "source": [
    "nums_dataset = []\n",
    "\n",
    "for lbl_n in label_nums:\n",
    "    data_per_class = os.listdir('dataset/mnist_png/training/' + lbl_n)\n",
    "    nums_dataset.append(len(data_per_class))"
   ]
  },
  {
   "cell_type": "code",
   "execution_count": 16,
   "id": "f65b5c1a",
   "metadata": {},
   "outputs": [
    {
     "data": {
      "text/plain": [
       "[5923, 6742, 5958, 6131, 5842, 5421, 5918, 6265, 5851, 5949]"
      ]
     },
     "execution_count": 16,
     "metadata": {},
     "output_type": "execute_result"
    }
   ],
   "source": [
    "nums_dataset"
   ]
  },
  {
   "cell_type": "code",
   "execution_count": 17,
   "id": "86f9341c",
   "metadata": {},
   "outputs": [
    {
     "data": {
      "text/plain": [
       "Text(0.5, 1.0, 'Number of Dataset per class')"
      ]
     },
     "execution_count": 17,
     "metadata": {},
     "output_type": "execute_result"
    },
    {
     "data": {
      "image/png": "[encoded data removed]",
      "text/plain": [
       "<Figure size 432x288 with 1 Axes>"
      ]
     },
     "metadata": {
      "needs_background": "light"
     },
     "output_type": "display_data"
    }
   ],
   "source": [
    "plt.bar(label_nums, nums_dataset)\n",
    "plt.title('Number of Dataset per class')"
   ]
  },
  {
   "cell_type": "markdown",
   "id": "e74adab2",
   "metadata": {},
   "source": [
    "## Pillow"
   ]
  },
  {
   "cell_type": "code",
   "execution_count": 22,
   "id": "252cb064",
   "metadata": {},
   "outputs": [],
   "source": [
    "files_0 = glob('dataset/mnist_png/training/0/*.png')\n",
    "path = files_0[0]"
   ]
  },
  {
   "cell_type": "code",
   "execution_count": 23,
   "id": "8eb65297",
   "metadata": {},
   "outputs": [
    {
     "data": {
      "text/plain": [
       "'dataset/mnist_png/training/0/50081.png'"
      ]
     },
     "execution_count": 23,
     "metadata": {},
     "output_type": "execute_result"
    }
   ],
   "source": [
    "path"
   ]
  },
  {
   "cell_type": "code",
   "execution_count": 25,
   "id": "54e24ebf",
   "metadata": {},
   "outputs": [
    {
     "data": {
      "text/plain": [
       "(28, 28)"
      ]
     },
     "execution_count": 25,
     "metadata": {},
     "output_type": "execute_result"
    }
   ],
   "source": [
    "image_pil = Image.open(path)\n",
    "image = np.array(image_pil)\n",
    "image.shape"
   ]
  },
  {
   "cell_type": "code",
   "execution_count": 26,
   "id": "7b8a5ea1",
   "metadata": {},
   "outputs": [
    {
     "data": {
      "text/plain": [
       "<matplotlib.image.AxesImage at 0x7f9d88442a30>"
      ]
     },
     "execution_count": 26,
     "metadata": {},
     "output_type": "execute_result"
    },
    {
     "data": {
      "image/png": "[encoded data removed]",
      "text/plain": [
       "<Figure size 432x288 with 1 Axes>"
      ]
     },
     "metadata": {
      "needs_background": "light"
     },
     "output_type": "display_data"
    }
   ],
   "source": [
    "plt.imshow(image, 'gray')"
   ]
  },
  {
   "cell_type": "markdown",
   "id": "c18814f7",
   "metadata": {},
   "source": [
    "## TensorFlow"
   ]
  },
  {
   "cell_type": "code",
   "execution_count": 27,
   "id": "fd510021",
   "metadata": {},
   "outputs": [
    {
     "name": "stderr",
     "output_type": "stream",
     "text": [
      "2021-08-10 16:03:23.095334: I tensorflow/stream_executor/platform/default/dso_loader.cc:48] Successfully opened dynamic library libcuda.so.1\n",
      "2021-08-10 16:03:23.148697: I tensorflow/stream_executor/cuda/cuda_gpu_executor.cc:982] successful NUMA node read from SysFS had negative value (-1), but there must be at least one NUMA node, so returning NUMA node zero\n",
      "2021-08-10 16:03:23.149127: I tensorflow/core/common_runtime/gpu/gpu_device.cc:1716] Found device 0 with properties: \n",
      "pciBusID: 0000:01:00.0 name: GeForce RTX 2080 Ti computeCapability: 7.5\n",
      "coreClock: 1.545GHz coreCount: 68 deviceMemorySize: 10.76GiB deviceMemoryBandwidth: 573.69GiB/s\n",
      "2021-08-10 16:03:23.149170: I tensorflow/stream_executor/cuda/cuda_gpu_executor.cc:982] successful NUMA node read from SysFS had negative value (-1), but there must be at least one NUMA node, so returning NUMA node zero\n",
      "2021-08-10 16:03:23.149561: I tensorflow/core/common_runtime/gpu/gpu_device.cc:1716] Found device 1 with properties: \n",
      "pciBusID: 0000:02:00.0 name: GeForce RTX 2080 Ti computeCapability: 7.5\n",
      "coreClock: 1.545GHz coreCount: 68 deviceMemorySize: 10.76GiB deviceMemoryBandwidth: 573.69GiB/s\n",
      "2021-08-10 16:03:23.149575: I tensorflow/stream_executor/platform/default/dso_loader.cc:48] Successfully opened dynamic library libcudart.so.10.1\n",
      "2021-08-10 16:03:23.150500: I tensorflow/stream_executor/platform/default/dso_loader.cc:48] Successfully opened dynamic library libcublas.so.10\n",
      "2021-08-10 16:03:23.151480: I tensorflow/stream_executor/platform/default/dso_loader.cc:48] Successfully opened dynamic library libcufft.so.10\n",
      "2021-08-10 16:03:23.151648: I tensorflow/stream_executor/platform/default/dso_loader.cc:48] Successfully opened dynamic library libcurand.so.10\n",
      "2021-08-10 16:03:23.152728: I tensorflow/stream_executor/platform/default/dso_loader.cc:48] Successfully opened dynamic library libcusolver.so.10\n",
      "2021-08-10 16:03:23.153341: I tensorflow/stream_executor/platform/default/dso_loader.cc:48] Successfully opened dynamic library libcusparse.so.10\n",
      "2021-08-10 16:03:23.155437: I tensorflow/stream_executor/platform/default/dso_loader.cc:48] Successfully opened dynamic library libcudnn.so.7\n",
      "2021-08-10 16:03:23.155503: I tensorflow/stream_executor/cuda/cuda_gpu_executor.cc:982] successful NUMA node read from SysFS had negative value (-1), but there must be at least one NUMA node, so returning NUMA node zero\n",
      "2021-08-10 16:03:23.155924: I tensorflow/stream_executor/cuda/cuda_gpu_executor.cc:982] successful NUMA node read from SysFS had negative value (-1), but there must be at least one NUMA node, so returning NUMA node zero\n",
      "2021-08-10 16:03:23.156314: I tensorflow/stream_executor/cuda/cuda_gpu_executor.cc:982] successful NUMA node read from SysFS had negative value (-1), but there must be at least one NUMA node, so returning NUMA node zero\n",
      "2021-08-10 16:03:23.156696: I tensorflow/stream_executor/cuda/cuda_gpu_executor.cc:982] successful NUMA node read from SysFS had negative value (-1), but there must be at least one NUMA node, so returning NUMA node zero\n",
      "2021-08-10 16:03:23.157054: I tensorflow/core/common_runtime/gpu/gpu_device.cc:1858] Adding visible gpu devices: 0, 1\n",
      "2021-08-10 16:03:23.157439: I tensorflow/core/platform/cpu_feature_guard.cc:142] This TensorFlow binary is optimized with oneAPI Deep Neural Network Library (oneDNN)to use the following CPU instructions in performance-critical operations:  AVX2 FMA\n",
      "To enable them in other operations, rebuild TensorFlow with the appropriate compiler flags.\n",
      "2021-08-10 16:03:23.181214: I tensorflow/core/platform/profile_utils/cpu_utils.cc:104] CPU Frequency: 3000000000 Hz\n",
      "2021-08-10 16:03:23.181602: I tensorflow/compiler/xla/service/service.cc:168] XLA service 0x5d0e150 initialized for platform Host (this does not guarantee that XLA will be used). Devices:\n",
      "2021-08-10 16:03:23.181615: I tensorflow/compiler/xla/service/service.cc:176]   StreamExecutor device (0): Host, Default Version\n",
      "2021-08-10 16:03:23.306509: I tensorflow/stream_executor/cuda/cuda_gpu_executor.cc:982] successful NUMA node read from SysFS had negative value (-1), but there must be at least one NUMA node, so returning NUMA node zero\n",
      "2021-08-10 16:03:23.313427: I tensorflow/stream_executor/cuda/cuda_gpu_executor.cc:982] successful NUMA node read from SysFS had negative value (-1), but there must be at least one NUMA node, so returning NUMA node zero\n",
      "2021-08-10 16:03:23.313877: I tensorflow/compiler/xla/service/service.cc:168] XLA service 0x5c6b730 initialized for platform CUDA (this does not guarantee that XLA will be used). Devices:\n",
      "2021-08-10 16:03:23.313887: I tensorflow/compiler/xla/service/service.cc:176]   StreamExecutor device (0): GeForce RTX 2080 Ti, Compute Capability 7.5\n",
      "2021-08-10 16:03:23.313890: I tensorflow/compiler/xla/service/service.cc:176]   StreamExecutor device (1): GeForce RTX 2080 Ti, Compute Capability 7.5\n",
      "2021-08-10 16:03:23.314069: I tensorflow/stream_executor/cuda/cuda_gpu_executor.cc:982] successful NUMA node read from SysFS had negative value (-1), but there must be at least one NUMA node, so returning NUMA node zero\n",
      "2021-08-10 16:03:23.314415: I tensorflow/core/common_runtime/gpu/gpu_device.cc:1716] Found device 0 with properties: \n",
      "pciBusID: 0000:01:00.0 name: GeForce RTX 2080 Ti computeCapability: 7.5\n",
      "coreClock: 1.545GHz coreCount: 68 deviceMemorySize: 10.76GiB deviceMemoryBandwidth: 573.69GiB/s\n",
      "2021-08-10 16:03:23.314450: I tensorflow/stream_executor/cuda/cuda_gpu_executor.cc:982] successful NUMA node read from SysFS had negative value (-1), but there must be at least one NUMA node, so returning NUMA node zero\n",
      "2021-08-10 16:03:23.314786: I tensorflow/core/common_runtime/gpu/gpu_device.cc:1716] Found device 1 with properties: \n",
      "pciBusID: 0000:02:00.0 name: GeForce RTX 2080 Ti computeCapability: 7.5\n",
      "coreClock: 1.545GHz coreCount: 68 deviceMemorySize: 10.76GiB deviceMemoryBandwidth: 573.69GiB/s\n",
      "2021-08-10 16:03:23.314803: I tensorflow/stream_executor/platform/default/dso_loader.cc:48] Successfully opened dynamic library libcudart.so.10.1\n",
      "2021-08-10 16:03:23.314817: I tensorflow/stream_executor/platform/default/dso_loader.cc:48] Successfully opened dynamic library libcublas.so.10\n",
      "2021-08-10 16:03:23.314826: I tensorflow/stream_executor/platform/default/dso_loader.cc:48] Successfully opened dynamic library libcufft.so.10\n",
      "2021-08-10 16:03:23.314835: I tensorflow/stream_executor/platform/default/dso_loader.cc:48] Successfully opened dynamic library libcurand.so.10\n",
      "2021-08-10 16:03:23.314844: I tensorflow/stream_executor/platform/default/dso_loader.cc:48] Successfully opened dynamic library libcusolver.so.10\n",
      "2021-08-10 16:03:23.314852: I tensorflow/stream_executor/platform/default/dso_loader.cc:48] Successfully opened dynamic library libcusparse.so.10\n",
      "2021-08-10 16:03:23.314861: I tensorflow/stream_executor/platform/default/dso_loader.cc:48] Successfully opened dynamic library libcudnn.so.7\n",
      "2021-08-10 16:03:23.314889: I tensorflow/stream_executor/cuda/cuda_gpu_executor.cc:982] successful NUMA node read from SysFS had negative value (-1), but there must be at least one NUMA node, so returning NUMA node zero\n",
      "2021-08-10 16:03:23.315241: I tensorflow/stream_executor/cuda/cuda_gpu_executor.cc:982] successful NUMA node read from SysFS had negative value (-1), but there must be at least one NUMA node, so returning NUMA node zero\n",
      "2021-08-10 16:03:23.315595: I tensorflow/stream_executor/cuda/cuda_gpu_executor.cc:982] successful NUMA node read from SysFS had negative value (-1), but there must be at least one NUMA node, so returning NUMA node zero\n",
      "2021-08-10 16:03:23.315945: I tensorflow/stream_executor/cuda/cuda_gpu_executor.cc:982] successful NUMA node read from SysFS had negative value (-1), but there must be at least one NUMA node, so returning NUMA node zero\n",
      "2021-08-10 16:03:23.316277: I tensorflow/core/common_runtime/gpu/gpu_device.cc:1858] Adding visible gpu devices: 0, 1\n",
      "2021-08-10 16:03:23.316293: I tensorflow/stream_executor/platform/default/dso_loader.cc:48] Successfully opened dynamic library libcudart.so.10.1\n",
      "2021-08-10 16:03:23.859634: I tensorflow/core/common_runtime/gpu/gpu_device.cc:1257] Device interconnect StreamExecutor with strength 1 edge matrix:\n",
      "2021-08-10 16:03:23.859654: I tensorflow/core/common_runtime/gpu/gpu_device.cc:1263]      0 1 \n",
      "2021-08-10 16:03:23.859659: I tensorflow/core/common_runtime/gpu/gpu_device.cc:1276] 0:   N N \n",
      "2021-08-10 16:03:23.859662: I tensorflow/core/common_runtime/gpu/gpu_device.cc:1276] 1:   N N \n",
      "2021-08-10 16:03:23.871883: I tensorflow/stream_executor/cuda/cuda_gpu_executor.cc:982] successful NUMA node read from SysFS had negative value (-1), but there must be at least one NUMA node, so returning NUMA node zero\n",
      "2021-08-10 16:03:23.876095: I tensorflow/stream_executor/cuda/cuda_gpu_executor.cc:982] successful NUMA node read from SysFS had negative value (-1), but there must be at least one NUMA node, so returning NUMA node zero\n",
      "2021-08-10 16:03:23.876469: I tensorflow/stream_executor/cuda/cuda_gpu_executor.cc:982] successful NUMA node read from SysFS had negative value (-1), but there must be at least one NUMA node, so returning NUMA node zero\n",
      "2021-08-10 16:03:23.876855: I tensorflow/core/common_runtime/gpu/gpu_device.cc:1402] Created TensorFlow device (/job:localhost/replica:0/task:0/device:GPU:0 with 10001 MB memory) -> physical GPU (device: 0, name: GeForce RTX 2080 Ti, pci bus id: 0000:01:00.0, compute capability: 7.5)\n",
      "2021-08-10 16:03:23.877254: I tensorflow/stream_executor/cuda/cuda_gpu_executor.cc:982] successful NUMA node read from SysFS had negative value (-1), but there must be at least one NUMA node, so returning NUMA node zero\n",
      "2021-08-10 16:03:23.877611: I tensorflow/core/common_runtime/gpu/gpu_device.cc:1402] Created TensorFlow device (/job:localhost/replica:0/task:0/device:GPU:1 with 10068 MB memory) -> physical GPU (device: 1, name: GeForce RTX 2080 Ti, pci bus id: 0000:02:00.0, compute capability: 7.5)\n"
     ]
    },
    {
     "data": {
      "text/plain": [
       "TensorShape([28, 28, 1])"
      ]
     },
     "execution_count": 27,
     "metadata": {},
     "output_type": "execute_result"
    }
   ],
   "source": [
    "gfile = tf.io.read_file(path)\n",
    "image = tf.io.decode_image(gfile)\n",
    "image.shape"
   ]
  },
  {
   "cell_type": "code",
   "execution_count": 28,
   "id": "3f86c55a",
   "metadata": {
    "scrolled": true
   },
   "outputs": [
    {
     "data": {
      "text/plain": [
       "<matplotlib.image.AxesImage at 0x7f9d2c3f76a0>"
      ]
     },
     "execution_count": 28,
     "metadata": {},
     "output_type": "execute_result"
    },
    {
     "data": {
      "image/png": "[encoded data removed]",
      "text/plain": [
       "<Figure size 432x288 with 1 Axes>"
      ]
     },
     "metadata": {
      "needs_background": "light"
     },
     "output_type": "display_data"
    }
   ],
   "source": [
    "plt.imshow(image[:, :, 0], 'gray')"
   ]
  },
  {
   "cell_type": "markdown",
   "id": "deaf8cce",
   "metadata": {},
   "source": [
    "## Label"
   ]
  },
  {
   "cell_type": "code",
   "execution_count": 29,
   "id": "8899b903",
   "metadata": {},
   "outputs": [
    {
     "data": {
      "text/plain": [
       "'dataset/mnist_png/training/0/50081.png'"
      ]
     },
     "execution_count": 29,
     "metadata": {},
     "output_type": "execute_result"
    }
   ],
   "source": [
    "path"
   ]
  },
  {
   "cell_type": "code",
   "execution_count": 30,
   "id": "5450239c",
   "metadata": {},
   "outputs": [
    {
     "data": {
      "text/plain": [
       "['dataset', 'mnist_png', 'training', '0', '50081.png']"
      ]
     },
     "execution_count": 30,
     "metadata": {},
     "output_type": "execute_result"
    }
   ],
   "source": [
    "path.split('/')"
   ]
  },
  {
   "cell_type": "code",
   "execution_count": 31,
   "id": "374ac0a1",
   "metadata": {},
   "outputs": [
    {
     "data": {
      "text/plain": [
       "'0'"
      ]
     },
     "execution_count": 31,
     "metadata": {},
     "output_type": "execute_result"
    }
   ],
   "source": [
    "path.split('/')[-2]"
   ]
  },
  {
   "cell_type": "code",
   "execution_count": 32,
   "id": "08c94b7f",
   "metadata": {},
   "outputs": [],
   "source": [
    "def get_label(path):\n",
    "    class_name = path.split('/')[-2]\n",
    "    label = int(class_name)\n",
    "    return label"
   ]
  },
  {
   "cell_type": "code",
   "execution_count": 33,
   "id": "c5b65731",
   "metadata": {},
   "outputs": [
    {
     "data": {
      "text/plain": [
       "0"
      ]
     },
     "execution_count": 33,
     "metadata": {},
     "output_type": "execute_result"
    }
   ],
   "source": [
    "get_label(path)"
   ]
  },
  {
   "cell_type": "markdown",
   "id": "533949d8",
   "metadata": {},
   "source": [
    "## Get Size of Data Image"
   ]
  },
  {
   "cell_type": "code",
   "execution_count": 37,
   "id": "3c4c6f56",
   "metadata": {},
   "outputs": [
    {
     "data": {
      "text/plain": [
       "60000"
      ]
     },
     "execution_count": 37,
     "metadata": {},
     "output_type": "execute_result"
    }
   ],
   "source": [
    "from tqdm import tqdm_notebook\n",
    "\n",
    "heights = []\n",
    "widths = []\n",
    "\n",
    "data_paths = glob('dataset/mnist_png/training/*/*.png')\n",
    "len(data_paths)"
   ]
  },
  {
   "cell_type": "code",
   "execution_count": 38,
   "id": "71566e4c",
   "metadata": {},
   "outputs": [
    {
     "data": {
      "text/plain": [
       "['dataset/mnist_png/training/2/24786.png',\n",
       " 'dataset/mnist_png/training/2/1852.png',\n",
       " 'dataset/mnist_png/training/2/25156.png',\n",
       " 'dataset/mnist_png/training/2/22579.png',\n",
       " 'dataset/mnist_png/training/2/23323.png',\n",
       " 'dataset/mnist_png/training/2/43351.png',\n",
       " 'dataset/mnist_png/training/2/7633.png',\n",
       " 'dataset/mnist_png/training/2/46867.png',\n",
       " 'dataset/mnist_png/training/2/9518.png',\n",
       " 'dataset/mnist_png/training/2/51542.png',\n",
       " 'dataset/mnist_png/training/2/18489.png',\n",
       " 'dataset/mnist_png/training/2/51961.png',\n",
       " 'dataset/mnist_png/training/2/27026.png',\n",
       " 'dataset/mnist_png/training/2/9333.png',\n",
       " 'dataset/mnist_png/training/2/46319.png',\n",
       " 'dataset/mnist_png/training/2/13406.png',\n",
       " 'dataset/mnist_png/training/2/15680.png',\n",
       " 'dataset/mnist_png/training/2/45459.png',\n",
       " 'dataset/mnist_png/training/2/15228.png',\n",
       " 'dataset/mnist_png/training/2/1573.png',\n",
       " 'dataset/mnist_png/training/2/10207.png',\n",
       " 'dataset/mnist_png/training/2/11380.png',\n",
       " 'dataset/mnist_png/training/2/46833.png',\n",
       " 'dataset/mnist_png/training/2/27618.png',\n",
       " 'dataset/mnist_png/training/2/14523.png',\n",
       " 'dataset/mnist_png/training/2/6270.png',\n",
       " 'dataset/mnist_png/training/2/51633.png',\n",
       " 'dataset/mnist_png/training/2/47531.png',\n",
       " 'dataset/mnist_png/training/2/1140.png',\n",
       " 'dataset/mnist_png/training/2/48349.png',\n",
       " 'dataset/mnist_png/training/2/7476.png',\n",
       " 'dataset/mnist_png/training/2/50986.png',\n",
       " 'dataset/mnist_png/training/2/15016.png',\n",
       " 'dataset/mnist_png/training/2/14244.png',\n",
       " 'dataset/mnist_png/training/2/56361.png',\n",
       " 'dataset/mnist_png/training/2/46707.png',\n",
       " 'dataset/mnist_png/training/2/39959.png',\n",
       " 'dataset/mnist_png/training/2/58267.png',\n",
       " 'dataset/mnist_png/training/2/33094.png',\n",
       " 'dataset/mnist_png/training/2/55089.png',\n",
       " 'dataset/mnist_png/training/2/10279.png',\n",
       " 'dataset/mnist_png/training/2/15799.png',\n",
       " 'dataset/mnist_png/training/2/20960.png',\n",
       " 'dataset/mnist_png/training/2/59053.png',\n",
       " 'dataset/mnist_png/training/2/8632.png',\n",
       " 'dataset/mnist_png/training/2/43935.png',\n",
       " 'dataset/mnist_png/training/2/11531.png',\n",
       " 'dataset/mnist_png/training/2/3748.png',\n",
       " 'dataset/mnist_png/training/2/1074.png',\n",
       " 'dataset/mnist_png/training/2/17684.png',\n",
       " 'dataset/mnist_png/training/2/6685.png',\n",
       " 'dataset/mnist_png/training/2/1558.png',\n",
       " 'dataset/mnist_png/training/2/54277.png',\n",
       " 'dataset/mnist_png/training/2/31928.png',\n",
       " 'dataset/mnist_png/training/2/58896.png',\n",
       " 'dataset/mnist_png/training/2/54553.png',\n",
       " 'dataset/mnist_png/training/2/57388.png',\n",
       " 'dataset/mnist_png/training/2/5104.png',\n",
       " 'dataset/mnist_png/training/2/21917.png',\n",
       " 'dataset/mnist_png/training/2/5602.png',\n",
       " 'dataset/mnist_png/training/2/6273.png',\n",
       " 'dataset/mnist_png/training/2/22807.png',\n",
       " 'dataset/mnist_png/training/2/50457.png',\n",
       " 'dataset/mnist_png/training/2/34371.png',\n",
       " 'dataset/mnist_png/training/2/18454.png',\n",
       " 'dataset/mnist_png/training/2/3765.png',\n",
       " 'dataset/mnist_png/training/2/46760.png',\n",
       " 'dataset/mnist_png/training/2/22356.png',\n",
       " 'dataset/mnist_png/training/2/11865.png',\n",
       " 'dataset/mnist_png/training/2/21197.png',\n",
       " 'dataset/mnist_png/training/2/59489.png',\n",
       " 'dataset/mnist_png/training/2/54078.png',\n",
       " 'dataset/mnist_png/training/2/17216.png',\n",
       " 'dataset/mnist_png/training/2/24939.png',\n",
       " 'dataset/mnist_png/training/2/25516.png',\n",
       " 'dataset/mnist_png/training/2/47598.png',\n",
       " 'dataset/mnist_png/training/2/3165.png',\n",
       " 'dataset/mnist_png/training/2/28369.png',\n",
       " 'dataset/mnist_png/training/2/15153.png',\n",
       " 'dataset/mnist_png/training/2/23895.png',\n",
       " 'dataset/mnist_png/training/2/20831.png',\n",
       " 'dataset/mnist_png/training/2/47249.png',\n",
       " 'dataset/mnist_png/training/2/25261.png',\n",
       " 'dataset/mnist_png/training/2/10127.png',\n",
       " 'dataset/mnist_png/training/2/23916.png',\n",
       " 'dataset/mnist_png/training/2/35882.png',\n",
       " 'dataset/mnist_png/training/2/38024.png',\n",
       " 'dataset/mnist_png/training/2/51653.png',\n",
       " 'dataset/mnist_png/training/2/20160.png',\n",
       " 'dataset/mnist_png/training/2/18815.png',\n",
       " 'dataset/mnist_png/training/2/11655.png',\n",
       " 'dataset/mnist_png/training/2/52271.png',\n",
       " 'dataset/mnist_png/training/2/56901.png',\n",
       " 'dataset/mnist_png/training/2/25.png',\n",
       " 'dataset/mnist_png/training/2/33672.png',\n",
       " 'dataset/mnist_png/training/2/15905.png',\n",
       " 'dataset/mnist_png/training/2/36979.png',\n",
       " 'dataset/mnist_png/training/2/54271.png',\n",
       " 'dataset/mnist_png/training/2/44133.png',\n",
       " 'dataset/mnist_png/training/2/17927.png',\n",
       " 'dataset/mnist_png/training/2/11230.png',\n",
       " 'dataset/mnist_png/training/2/6815.png',\n",
       " 'dataset/mnist_png/training/2/696.png',\n",
       " 'dataset/mnist_png/training/2/9721.png',\n",
       " 'dataset/mnist_png/training/2/18158.png',\n",
       " 'dataset/mnist_png/training/2/14381.png',\n",
       " 'dataset/mnist_png/training/2/2464.png',\n",
       " 'dataset/mnist_png/training/2/16007.png',\n",
       " 'dataset/mnist_png/training/2/3147.png',\n",
       " 'dataset/mnist_png/training/2/5016.png',\n",
       " 'dataset/mnist_png/training/2/32744.png',\n",
       " 'dataset/mnist_png/training/2/50899.png',\n",
       " 'dataset/mnist_png/training/2/6307.png',\n",
       " 'dataset/mnist_png/training/2/13148.png',\n",
       " 'dataset/mnist_png/training/2/31388.png',\n",
       " 'dataset/mnist_png/training/2/7510.png',\n",
       " 'dataset/mnist_png/training/2/53322.png',\n",
       " 'dataset/mnist_png/training/2/30724.png',\n",
       " 'dataset/mnist_png/training/2/57573.png',\n",
       " 'dataset/mnist_png/training/2/12802.png',\n",
       " 'dataset/mnist_png/training/2/13844.png',\n",
       " 'dataset/mnist_png/training/2/40841.png',\n",
       " 'dataset/mnist_png/training/2/50487.png',\n",
       " 'dataset/mnist_png/training/2/49775.png',\n",
       " 'dataset/mnist_png/training/2/35802.png',\n",
       " 'dataset/mnist_png/training/2/49409.png',\n",
       " 'dataset/mnist_png/training/2/40513.png',\n",
       " 'dataset/mnist_png/training/2/43597.png',\n",
       " 'dataset/mnist_png/training/2/13645.png',\n",
       " 'dataset/mnist_png/training/2/19084.png',\n",
       " 'dataset/mnist_png/training/2/35758.png',\n",
       " 'dataset/mnist_png/training/2/6549.png',\n",
       " 'dataset/mnist_png/training/2/41417.png',\n",
       " 'dataset/mnist_png/training/2/18394.png',\n",
       " 'dataset/mnist_png/training/2/29839.png',\n",
       " 'dataset/mnist_png/training/2/44166.png',\n",
       " 'dataset/mnist_png/training/2/30487.png',\n",
       " 'dataset/mnist_png/training/2/4938.png',\n",
       " 'dataset/mnist_png/training/2/13299.png',\n",
       " 'dataset/mnist_png/training/2/29334.png',\n",
       " 'dataset/mnist_png/training/2/16638.png',\n",
       " 'dataset/mnist_png/training/2/28494.png',\n",
       " 'dataset/mnist_png/training/2/57649.png',\n",
       " 'dataset/mnist_png/training/2/4183.png',\n",
       " 'dataset/mnist_png/training/2/41292.png',\n",
       " 'dataset/mnist_png/training/2/59425.png',\n",
       " 'dataset/mnist_png/training/2/37526.png',\n",
       " 'dataset/mnist_png/training/2/29106.png',\n",
       " 'dataset/mnist_png/training/2/18780.png',\n",
       " 'dataset/mnist_png/training/2/45099.png',\n",
       " 'dataset/mnist_png/training/2/16390.png',\n",
       " 'dataset/mnist_png/training/2/28112.png',\n",
       " 'dataset/mnist_png/training/2/46266.png',\n",
       " 'dataset/mnist_png/training/2/14132.png',\n",
       " 'dataset/mnist_png/training/2/5908.png',\n",
       " 'dataset/mnist_png/training/2/48738.png',\n",
       " 'dataset/mnist_png/training/2/57583.png',\n",
       " 'dataset/mnist_png/training/2/25752.png',\n",
       " 'dataset/mnist_png/training/2/34864.png',\n",
       " 'dataset/mnist_png/training/2/53373.png',\n",
       " 'dataset/mnist_png/training/2/2454.png',\n",
       " 'dataset/mnist_png/training/2/39587.png',\n",
       " 'dataset/mnist_png/training/2/2824.png',\n",
       " 'dataset/mnist_png/training/2/830.png',\n",
       " 'dataset/mnist_png/training/2/7942.png',\n",
       " 'dataset/mnist_png/training/2/14797.png',\n",
       " 'dataset/mnist_png/training/2/38618.png',\n",
       " 'dataset/mnist_png/training/2/47342.png',\n",
       " 'dataset/mnist_png/training/2/25272.png',\n",
       " 'dataset/mnist_png/training/2/43338.png',\n",
       " 'dataset/mnist_png/training/2/57910.png',\n",
       " 'dataset/mnist_png/training/2/25281.png',\n",
       " 'dataset/mnist_png/training/2/55157.png',\n",
       " 'dataset/mnist_png/training/2/3242.png',\n",
       " 'dataset/mnist_png/training/2/26280.png',\n",
       " 'dataset/mnist_png/training/2/39147.png',\n",
       " 'dataset/mnist_png/training/2/46214.png',\n",
       " 'dataset/mnist_png/training/2/27432.png',\n",
       " 'dataset/mnist_png/training/2/24849.png',\n",
       " 'dataset/mnist_png/training/2/29674.png',\n",
       " 'dataset/mnist_png/training/2/39020.png',\n",
       " 'dataset/mnist_png/training/2/22731.png',\n",
       " 'dataset/mnist_png/training/2/11006.png',\n",
       " 'dataset/mnist_png/training/2/47612.png',\n",
       " 'dataset/mnist_png/training/2/7337.png',\n",
       " 'dataset/mnist_png/training/2/32405.png',\n",
       " 'dataset/mnist_png/training/2/15958.png',\n",
       " 'dataset/mnist_png/training/2/40985.png',\n",
       " 'dataset/mnist_png/training/2/38009.png',\n",
       " 'dataset/mnist_png/training/2/39673.png',\n",
       " 'dataset/mnist_png/training/2/37974.png',\n",
       " 'dataset/mnist_png/training/2/31454.png',\n",
       " 'dataset/mnist_png/training/2/18224.png',\n",
       " 'dataset/mnist_png/training/2/22884.png',\n",
       " 'dataset/mnist_png/training/2/36805.png',\n",
       " 'dataset/mnist_png/training/2/41037.png',\n",
       " 'dataset/mnist_png/training/2/26326.png',\n",
       " 'dataset/mnist_png/training/2/26434.png',\n",
       " 'dataset/mnist_png/training/2/20313.png',\n",
       " 'dataset/mnist_png/training/2/1660.png',\n",
       " 'dataset/mnist_png/training/2/43430.png',\n",
       " 'dataset/mnist_png/training/2/29789.png',\n",
       " 'dataset/mnist_png/training/2/8372.png',\n",
       " 'dataset/mnist_png/training/2/27470.png',\n",
       " 'dataset/mnist_png/training/2/51660.png',\n",
       " 'dataset/mnist_png/training/2/53026.png',\n",
       " 'dataset/mnist_png/training/2/16327.png',\n",
       " 'dataset/mnist_png/training/2/53522.png',\n",
       " 'dataset/mnist_png/training/2/5113.png',\n",
       " 'dataset/mnist_png/training/2/44265.png',\n",
       " 'dataset/mnist_png/training/2/53390.png',\n",
       " 'dataset/mnist_png/training/2/16328.png',\n",
       " 'dataset/mnist_png/training/2/2601.png',\n",
       " 'dataset/mnist_png/training/2/27171.png',\n",
       " 'dataset/mnist_png/training/2/46092.png',\n",
       " 'dataset/mnist_png/training/2/15660.png',\n",
       " 'dataset/mnist_png/training/2/32726.png',\n",
       " 'dataset/mnist_png/training/2/59222.png',\n",
       " 'dataset/mnist_png/training/2/38901.png',\n",
       " 'dataset/mnist_png/training/2/17080.png',\n",
       " 'dataset/mnist_png/training/2/54981.png',\n",
       " 'dataset/mnist_png/training/2/37426.png',\n",
       " 'dataset/mnist_png/training/2/1563.png',\n",
       " 'dataset/mnist_png/training/2/13295.png',\n",
       " 'dataset/mnist_png/training/2/26562.png',\n",
       " 'dataset/mnist_png/training/2/6992.png',\n",
       " 'dataset/mnist_png/training/2/30211.png',\n",
       " 'dataset/mnist_png/training/2/7394.png',\n",
       " 'dataset/mnist_png/training/2/51751.png',\n",
       " 'dataset/mnist_png/training/2/58811.png',\n",
       " 'dataset/mnist_png/training/2/57096.png',\n",
       " 'dataset/mnist_png/training/2/2550.png',\n",
       " 'dataset/mnist_png/training/2/47143.png',\n",
       " 'dataset/mnist_png/training/2/31935.png',\n",
       " 'dataset/mnist_png/training/2/1299.png',\n",
       " 'dataset/mnist_png/training/2/52898.png',\n",
       " 'dataset/mnist_png/training/2/7879.png',\n",
       " 'dataset/mnist_png/training/2/14962.png',\n",
       " 'dataset/mnist_png/training/2/40592.png',\n",
       " 'dataset/mnist_png/training/2/25591.png',\n",
       " 'dataset/mnist_png/training/2/57245.png',\n",
       " 'dataset/mnist_png/training/2/2010.png',\n",
       " 'dataset/mnist_png/training/2/1823.png',\n",
       " 'dataset/mnist_png/training/2/35344.png',\n",
       " 'dataset/mnist_png/training/2/25492.png',\n",
       " 'dataset/mnist_png/training/2/37696.png',\n",
       " 'dataset/mnist_png/training/2/17263.png',\n",
       " 'dataset/mnist_png/training/2/16237.png',\n",
       " 'dataset/mnist_png/training/2/55070.png',\n",
       " 'dataset/mnist_png/training/2/21006.png',\n",
       " 'dataset/mnist_png/training/2/12129.png',\n",
       " 'dataset/mnist_png/training/2/45133.png',\n",
       " 'dataset/mnist_png/training/2/29081.png',\n",
       " 'dataset/mnist_png/training/2/53926.png',\n",
       " 'dataset/mnist_png/training/2/27810.png',\n",
       " 'dataset/mnist_png/training/2/32135.png',\n",
       " 'dataset/mnist_png/training/2/7432.png',\n",
       " 'dataset/mnist_png/training/2/2517.png',\n",
       " 'dataset/mnist_png/training/2/53541.png',\n",
       " 'dataset/mnist_png/training/2/36568.png',\n",
       " 'dataset/mnist_png/training/2/36982.png',\n",
       " 'dataset/mnist_png/training/2/5306.png',\n",
       " 'dataset/mnist_png/training/2/22958.png',\n",
       " 'dataset/mnist_png/training/2/58590.png',\n",
       " 'dataset/mnist_png/training/2/15217.png',\n",
       " 'dataset/mnist_png/training/2/49908.png',\n",
       " 'dataset/mnist_png/training/2/34475.png',\n",
       " 'dataset/mnist_png/training/2/21623.png',\n",
       " 'dataset/mnist_png/training/2/199.png',\n",
       " 'dataset/mnist_png/training/2/31513.png',\n",
       " 'dataset/mnist_png/training/2/18077.png',\n",
       " 'dataset/mnist_png/training/2/58172.png',\n",
       " 'dataset/mnist_png/training/2/28832.png',\n",
       " 'dataset/mnist_png/training/2/52755.png',\n",
       " 'dataset/mnist_png/training/2/33075.png',\n",
       " 'dataset/mnist_png/training/2/8474.png',\n",
       " 'dataset/mnist_png/training/2/8390.png',\n",
       " 'dataset/mnist_png/training/2/39487.png',\n",
       " 'dataset/mnist_png/training/2/59757.png',\n",
       " 'dataset/mnist_png/training/2/9383.png',\n",
       " 'dataset/mnist_png/training/2/20021.png',\n",
       " 'dataset/mnist_png/training/2/23099.png',\n",
       " 'dataset/mnist_png/training/2/45705.png',\n",
       " 'dataset/mnist_png/training/2/58538.png',\n",
       " 'dataset/mnist_png/training/2/32292.png',\n",
       " 'dataset/mnist_png/training/2/7467.png',\n",
       " 'dataset/mnist_png/training/2/36321.png',\n",
       " 'dataset/mnist_png/training/2/8154.png',\n",
       " 'dataset/mnist_png/training/2/50452.png',\n",
       " 'dataset/mnist_png/training/2/48837.png',\n",
       " 'dataset/mnist_png/training/2/57831.png',\n",
       " 'dataset/mnist_png/training/2/34494.png',\n",
       " 'dataset/mnist_png/training/2/53139.png',\n",
       " 'dataset/mnist_png/training/2/20078.png',\n",
       " 'dataset/mnist_png/training/2/55545.png',\n",
       " 'dataset/mnist_png/training/2/51530.png',\n",
       " 'dataset/mnist_png/training/2/56514.png',\n",
       " 'dataset/mnist_png/training/2/31188.png',\n",
       " 'dataset/mnist_png/training/2/30429.png',\n",
       " 'dataset/mnist_png/training/2/6480.png',\n",
       " 'dataset/mnist_png/training/2/12514.png',\n",
       " 'dataset/mnist_png/training/2/17110.png',\n",
       " 'dataset/mnist_png/training/2/21507.png',\n",
       " 'dataset/mnist_png/training/2/29657.png',\n",
       " 'dataset/mnist_png/training/2/4204.png',\n",
       " 'dataset/mnist_png/training/2/4293.png',\n",
       " 'dataset/mnist_png/training/2/22864.png',\n",
       " 'dataset/mnist_png/training/2/2205.png',\n",
       " 'dataset/mnist_png/training/2/5885.png',\n",
       " 'dataset/mnist_png/training/2/29355.png',\n",
       " 'dataset/mnist_png/training/2/48699.png',\n",
       " 'dataset/mnist_png/training/2/46317.png',\n",
       " 'dataset/mnist_png/training/2/23701.png',\n",
       " 'dataset/mnist_png/training/2/40607.png',\n",
       " 'dataset/mnist_png/training/2/45484.png',\n",
       " 'dataset/mnist_png/training/2/59186.png',\n",
       " 'dataset/mnist_png/training/2/35091.png',\n",
       " 'dataset/mnist_png/training/2/48378.png',\n",
       " 'dataset/mnist_png/training/2/38636.png',\n",
       " 'dataset/mnist_png/training/2/24836.png',\n",
       " 'dataset/mnist_png/training/2/30376.png',\n",
       " 'dataset/mnist_png/training/2/17241.png',\n",
       " 'dataset/mnist_png/training/2/42454.png',\n",
       " 'dataset/mnist_png/training/2/11503.png',\n",
       " 'dataset/mnist_png/training/2/13585.png',\n",
       " 'dataset/mnist_png/training/2/15363.png',\n",
       " 'dataset/mnist_png/training/2/18386.png',\n",
       " 'dataset/mnist_png/training/2/11449.png',\n",
       " 'dataset/mnist_png/training/2/11826.png',\n",
       " 'dataset/mnist_png/training/2/5232.png',\n",
       " 'dataset/mnist_png/training/2/41105.png',\n",
       " 'dataset/mnist_png/training/2/17137.png',\n",
       " 'dataset/mnist_png/training/2/38427.png',\n",
       " 'dataset/mnist_png/training/2/15223.png',\n",
       " 'dataset/mnist_png/training/2/38107.png',\n",
       " 'dataset/mnist_png/training/2/24303.png',\n",
       " 'dataset/mnist_png/training/2/36553.png',\n",
       " 'dataset/mnist_png/training/2/23313.png',\n",
       " 'dataset/mnist_png/training/2/50295.png',\n",
       " 'dataset/mnist_png/training/2/27869.png',\n",
       " 'dataset/mnist_png/training/2/59110.png',\n",
       " 'dataset/mnist_png/training/2/4664.png',\n",
       " 'dataset/mnist_png/training/2/51340.png',\n",
       " 'dataset/mnist_png/training/2/58964.png',\n",
       " 'dataset/mnist_png/training/2/21522.png',\n",
       " 'dataset/mnist_png/training/2/27888.png',\n",
       " 'dataset/mnist_png/training/2/5166.png',\n",
       " 'dataset/mnist_png/training/2/28944.png',\n",
       " 'dataset/mnist_png/training/2/30329.png',\n",
       " 'dataset/mnist_png/training/2/53377.png',\n",
       " 'dataset/mnist_png/training/2/9712.png',\n",
       " 'dataset/mnist_png/training/2/31681.png',\n",
       " 'dataset/mnist_png/training/2/23026.png',\n",
       " 'dataset/mnist_png/training/2/22878.png',\n",
       " 'dataset/mnist_png/training/2/13086.png',\n",
       " 'dataset/mnist_png/training/2/10673.png',\n",
       " 'dataset/mnist_png/training/2/46551.png',\n",
       " 'dataset/mnist_png/training/2/43116.png',\n",
       " 'dataset/mnist_png/training/2/49070.png',\n",
       " 'dataset/mnist_png/training/2/30634.png',\n",
       " 'dataset/mnist_png/training/2/50315.png',\n",
       " 'dataset/mnist_png/training/2/6114.png',\n",
       " 'dataset/mnist_png/training/2/41997.png',\n",
       " 'dataset/mnist_png/training/2/21598.png',\n",
       " 'dataset/mnist_png/training/2/3200.png',\n",
       " 'dataset/mnist_png/training/2/16089.png',\n",
       " 'dataset/mnist_png/training/2/6846.png',\n",
       " 'dataset/mnist_png/training/2/30569.png',\n",
       " 'dataset/mnist_png/training/2/7005.png',\n",
       " 'dataset/mnist_png/training/2/21303.png',\n",
       " 'dataset/mnist_png/training/2/32035.png',\n",
       " 'dataset/mnist_png/training/2/27252.png',\n",
       " 'dataset/mnist_png/training/2/3880.png',\n",
       " 'dataset/mnist_png/training/2/39862.png',\n",
       " 'dataset/mnist_png/training/2/24728.png',\n",
       " 'dataset/mnist_png/training/2/42373.png',\n",
       " 'dataset/mnist_png/training/2/25570.png',\n",
       " 'dataset/mnist_png/training/2/8983.png',\n",
       " 'dataset/mnist_png/training/2/22133.png',\n",
       " 'dataset/mnist_png/training/2/47270.png',\n",
       " 'dataset/mnist_png/training/2/20240.png',\n",
       " 'dataset/mnist_png/training/2/26956.png',\n",
       " 'dataset/mnist_png/training/2/49041.png',\n",
       " 'dataset/mnist_png/training/2/22226.png',\n",
       " 'dataset/mnist_png/training/2/19053.png',\n",
       " 'dataset/mnist_png/training/2/42603.png',\n",
       " 'dataset/mnist_png/training/2/31709.png',\n",
       " 'dataset/mnist_png/training/2/25038.png',\n",
       " 'dataset/mnist_png/training/2/39719.png',\n",
       " 'dataset/mnist_png/training/2/35235.png',\n",
       " 'dataset/mnist_png/training/2/4701.png',\n",
       " 'dataset/mnist_png/training/2/29247.png',\n",
       " 'dataset/mnist_png/training/2/6360.png',\n",
       " 'dataset/mnist_png/training/2/30975.png',\n",
       " 'dataset/mnist_png/training/2/17173.png',\n",
       " 'dataset/mnist_png/training/2/48811.png',\n",
       " 'dataset/mnist_png/training/2/32709.png',\n",
       " 'dataset/mnist_png/training/2/12582.png',\n",
       " 'dataset/mnist_png/training/2/37863.png',\n",
       " 'dataset/mnist_png/training/2/54090.png',\n",
       " 'dataset/mnist_png/training/2/2684.png',\n",
       " 'dataset/mnist_png/training/2/44525.png',\n",
       " 'dataset/mnist_png/training/2/49340.png',\n",
       " 'dataset/mnist_png/training/2/35779.png',\n",
       " 'dataset/mnist_png/training/2/52634.png',\n",
       " 'dataset/mnist_png/training/2/30905.png',\n",
       " 'dataset/mnist_png/training/2/59499.png',\n",
       " 'dataset/mnist_png/training/2/38826.png',\n",
       " 'dataset/mnist_png/training/2/3659.png',\n",
       " 'dataset/mnist_png/training/2/58611.png',\n",
       " 'dataset/mnist_png/training/2/11841.png',\n",
       " 'dataset/mnist_png/training/2/16033.png',\n",
       " 'dataset/mnist_png/training/2/27331.png',\n",
       " 'dataset/mnist_png/training/2/37053.png',\n",
       " 'dataset/mnist_png/training/2/39429.png',\n",
       " 'dataset/mnist_png/training/2/34907.png',\n",
       " 'dataset/mnist_png/training/2/27233.png',\n",
       " 'dataset/mnist_png/training/2/50368.png',\n",
       " 'dataset/mnist_png/training/2/23080.png',\n",
       " 'dataset/mnist_png/training/2/5421.png',\n",
       " 'dataset/mnist_png/training/2/1175.png',\n",
       " 'dataset/mnist_png/training/2/30317.png',\n",
       " 'dataset/mnist_png/training/2/52630.png',\n",
       " 'dataset/mnist_png/training/2/48070.png',\n",
       " 'dataset/mnist_png/training/2/48545.png',\n",
       " 'dataset/mnist_png/training/2/59011.png',\n",
       " 'dataset/mnist_png/training/2/41284.png',\n",
       " 'dataset/mnist_png/training/2/38637.png',\n",
       " 'dataset/mnist_png/training/2/10476.png',\n",
       " 'dataset/mnist_png/training/2/40967.png',\n",
       " 'dataset/mnist_png/training/2/34636.png',\n",
       " 'dataset/mnist_png/training/2/21742.png',\n",
       " 'dataset/mnist_png/training/2/25220.png',\n",
       " 'dataset/mnist_png/training/2/34056.png',\n",
       " 'dataset/mnist_png/training/2/12808.png',\n",
       " 'dataset/mnist_png/training/2/28091.png',\n",
       " 'dataset/mnist_png/training/2/40497.png',\n",
       " 'dataset/mnist_png/training/2/30752.png',\n",
       " 'dataset/mnist_png/training/2/22641.png',\n",
       " 'dataset/mnist_png/training/2/22278.png',\n",
       " 'dataset/mnist_png/training/2/27503.png',\n",
       " 'dataset/mnist_png/training/2/24215.png',\n",
       " 'dataset/mnist_png/training/2/54573.png',\n",
       " 'dataset/mnist_png/training/2/8552.png',\n",
       " 'dataset/mnist_png/training/2/46129.png',\n",
       " 'dataset/mnist_png/training/2/18946.png',\n",
       " 'dataset/mnist_png/training/2/43681.png',\n",
       " 'dataset/mnist_png/training/2/43877.png',\n",
       " 'dataset/mnist_png/training/2/12091.png',\n",
       " 'dataset/mnist_png/training/2/2105.png',\n",
       " 'dataset/mnist_png/training/2/42568.png',\n",
       " 'dataset/mnist_png/training/2/39794.png',\n",
       " 'dataset/mnist_png/training/2/27311.png',\n",
       " 'dataset/mnist_png/training/2/23330.png',\n",
       " 'dataset/mnist_png/training/2/24674.png',\n",
       " 'dataset/mnist_png/training/2/9689.png',\n",
       " 'dataset/mnist_png/training/2/28052.png',\n",
       " 'dataset/mnist_png/training/2/24055.png',\n",
       " 'dataset/mnist_png/training/2/43317.png',\n",
       " 'dataset/mnist_png/training/2/16408.png',\n",
       " 'dataset/mnist_png/training/2/28126.png',\n",
       " 'dataset/mnist_png/training/2/14468.png',\n",
       " 'dataset/mnist_png/training/2/56553.png',\n",
       " 'dataset/mnist_png/training/2/12447.png',\n",
       " 'dataset/mnist_png/training/2/45414.png',\n",
       " 'dataset/mnist_png/training/2/57930.png',\n",
       " 'dataset/mnist_png/training/2/53237.png',\n",
       " 'dataset/mnist_png/training/2/37743.png',\n",
       " 'dataset/mnist_png/training/2/33695.png',\n",
       " 'dataset/mnist_png/training/2/16146.png',\n",
       " 'dataset/mnist_png/training/2/53029.png',\n",
       " 'dataset/mnist_png/training/2/54325.png',\n",
       " 'dataset/mnist_png/training/2/190.png',\n",
       " 'dataset/mnist_png/training/2/1987.png',\n",
       " 'dataset/mnist_png/training/2/4355.png',\n",
       " 'dataset/mnist_png/training/2/38720.png',\n",
       " 'dataset/mnist_png/training/2/801.png',\n",
       " 'dataset/mnist_png/training/2/41169.png',\n",
       " 'dataset/mnist_png/training/2/39002.png',\n",
       " 'dataset/mnist_png/training/2/47254.png',\n",
       " 'dataset/mnist_png/training/2/45268.png',\n",
       " 'dataset/mnist_png/training/2/5481.png',\n",
       " 'dataset/mnist_png/training/2/23995.png',\n",
       " 'dataset/mnist_png/training/2/32170.png',\n",
       " 'dataset/mnist_png/training/2/57669.png',\n",
       " 'dataset/mnist_png/training/2/3179.png',\n",
       " 'dataset/mnist_png/training/2/18661.png',\n",
       " 'dataset/mnist_png/training/2/4414.png',\n",
       " 'dataset/mnist_png/training/2/55170.png',\n",
       " 'dataset/mnist_png/training/2/3381.png',\n",
       " 'dataset/mnist_png/training/2/56762.png',\n",
       " 'dataset/mnist_png/training/2/9715.png',\n",
       " 'dataset/mnist_png/training/2/27935.png',\n",
       " 'dataset/mnist_png/training/2/31807.png',\n",
       " 'dataset/mnist_png/training/2/31133.png',\n",
       " 'dataset/mnist_png/training/2/38635.png',\n",
       " 'dataset/mnist_png/training/2/33727.png',\n",
       " 'dataset/mnist_png/training/2/43077.png',\n",
       " 'dataset/mnist_png/training/2/24015.png',\n",
       " 'dataset/mnist_png/training/2/11519.png',\n",
       " 'dataset/mnist_png/training/2/27768.png',\n",
       " 'dataset/mnist_png/training/2/53819.png',\n",
       " 'dataset/mnist_png/training/2/25029.png',\n",
       " 'dataset/mnist_png/training/2/14603.png',\n",
       " 'dataset/mnist_png/training/2/59326.png',\n",
       " 'dataset/mnist_png/training/2/36016.png',\n",
       " 'dataset/mnist_png/training/2/3589.png',\n",
       " 'dataset/mnist_png/training/2/36100.png',\n",
       " 'dataset/mnist_png/training/2/12916.png',\n",
       " 'dataset/mnist_png/training/2/12426.png',\n",
       " 'dataset/mnist_png/training/2/50052.png',\n",
       " 'dataset/mnist_png/training/2/55982.png',\n",
       " 'dataset/mnist_png/training/2/27181.png',\n",
       " 'dataset/mnist_png/training/2/29466.png',\n",
       " 'dataset/mnist_png/training/2/9923.png',\n",
       " 'dataset/mnist_png/training/2/4322.png',\n",
       " 'dataset/mnist_png/training/2/32991.png',\n",
       " 'dataset/mnist_png/training/2/25627.png',\n",
       " 'dataset/mnist_png/training/2/57859.png',\n",
       " 'dataset/mnist_png/training/2/57752.png',\n",
       " 'dataset/mnist_png/training/2/34789.png',\n",
       " 'dataset/mnist_png/training/2/27915.png',\n",
       " 'dataset/mnist_png/training/2/17912.png',\n",
       " 'dataset/mnist_png/training/2/42633.png',\n",
       " 'dataset/mnist_png/training/2/51614.png',\n",
       " 'dataset/mnist_png/training/2/5357.png',\n",
       " 'dataset/mnist_png/training/2/18318.png',\n",
       " 'dataset/mnist_png/training/2/10582.png',\n",
       " 'dataset/mnist_png/training/2/39545.png',\n",
       " 'dataset/mnist_png/training/2/19833.png',\n",
       " 'dataset/mnist_png/training/2/8582.png',\n",
       " 'dataset/mnist_png/training/2/16754.png',\n",
       " 'dataset/mnist_png/training/2/7823.png',\n",
       " 'dataset/mnist_png/training/2/48536.png',\n",
       " 'dataset/mnist_png/training/2/2887.png',\n",
       " 'dataset/mnist_png/training/2/8831.png',\n",
       " 'dataset/mnist_png/training/2/35378.png',\n",
       " 'dataset/mnist_png/training/2/13771.png',\n",
       " 'dataset/mnist_png/training/2/16683.png',\n",
       " 'dataset/mnist_png/training/2/42115.png',\n",
       " 'dataset/mnist_png/training/2/46345.png',\n",
       " 'dataset/mnist_png/training/2/41541.png',\n",
       " 'dataset/mnist_png/training/2/16025.png',\n",
       " 'dataset/mnist_png/training/2/31933.png',\n",
       " 'dataset/mnist_png/training/2/50897.png',\n",
       " 'dataset/mnist_png/training/2/49873.png',\n",
       " 'dataset/mnist_png/training/2/52782.png',\n",
       " 'dataset/mnist_png/training/2/39097.png',\n",
       " 'dataset/mnist_png/training/2/37545.png',\n",
       " 'dataset/mnist_png/training/2/56168.png',\n",
       " 'dataset/mnist_png/training/2/56876.png',\n",
       " 'dataset/mnist_png/training/2/40096.png',\n",
       " 'dataset/mnist_png/training/2/25507.png',\n",
       " 'dataset/mnist_png/training/2/9989.png',\n",
       " 'dataset/mnist_png/training/2/57890.png',\n",
       " 'dataset/mnist_png/training/2/1894.png',\n",
       " 'dataset/mnist_png/training/2/27162.png',\n",
       " 'dataset/mnist_png/training/2/49857.png',\n",
       " 'dataset/mnist_png/training/2/26875.png',\n",
       " 'dataset/mnist_png/training/2/28278.png',\n",
       " 'dataset/mnist_png/training/2/30762.png',\n",
       " 'dataset/mnist_png/training/2/29624.png',\n",
       " 'dataset/mnist_png/training/2/50640.png',\n",
       " 'dataset/mnist_png/training/2/6839.png',\n",
       " 'dataset/mnist_png/training/2/25564.png',\n",
       " 'dataset/mnist_png/training/2/59655.png',\n",
       " 'dataset/mnist_png/training/2/7960.png',\n",
       " 'dataset/mnist_png/training/2/50167.png',\n",
       " 'dataset/mnist_png/training/2/24010.png',\n",
       " 'dataset/mnist_png/training/2/26632.png',\n",
       " 'dataset/mnist_png/training/2/2322.png',\n",
       " 'dataset/mnist_png/training/2/55507.png',\n",
       " 'dataset/mnist_png/training/2/15731.png',\n",
       " 'dataset/mnist_png/training/2/41966.png',\n",
       " 'dataset/mnist_png/training/2/23087.png',\n",
       " 'dataset/mnist_png/training/2/57183.png',\n",
       " 'dataset/mnist_png/training/2/34326.png',\n",
       " 'dataset/mnist_png/training/2/43826.png',\n",
       " 'dataset/mnist_png/training/2/26635.png',\n",
       " 'dataset/mnist_png/training/2/35023.png',\n",
       " 'dataset/mnist_png/training/2/24881.png',\n",
       " 'dataset/mnist_png/training/2/22100.png',\n",
       " 'dataset/mnist_png/training/2/47230.png',\n",
       " 'dataset/mnist_png/training/2/34724.png',\n",
       " 'dataset/mnist_png/training/2/32695.png',\n",
       " 'dataset/mnist_png/training/2/30054.png',\n",
       " 'dataset/mnist_png/training/2/47142.png',\n",
       " 'dataset/mnist_png/training/2/3224.png',\n",
       " 'dataset/mnist_png/training/2/30102.png',\n",
       " 'dataset/mnist_png/training/2/22187.png',\n",
       " 'dataset/mnist_png/training/2/23777.png',\n",
       " 'dataset/mnist_png/training/2/10194.png',\n",
       " 'dataset/mnist_png/training/2/43546.png',\n",
       " 'dataset/mnist_png/training/2/17884.png',\n",
       " 'dataset/mnist_png/training/2/28801.png',\n",
       " 'dataset/mnist_png/training/2/22769.png',\n",
       " 'dataset/mnist_png/training/2/49164.png',\n",
       " 'dataset/mnist_png/training/2/51575.png',\n",
       " 'dataset/mnist_png/training/2/24485.png',\n",
       " 'dataset/mnist_png/training/2/4856.png',\n",
       " 'dataset/mnist_png/training/2/23403.png',\n",
       " 'dataset/mnist_png/training/2/27472.png',\n",
       " 'dataset/mnist_png/training/2/52006.png',\n",
       " 'dataset/mnist_png/training/2/18135.png',\n",
       " 'dataset/mnist_png/training/2/42596.png',\n",
       " 'dataset/mnist_png/training/2/21544.png',\n",
       " 'dataset/mnist_png/training/2/16925.png',\n",
       " 'dataset/mnist_png/training/2/35298.png',\n",
       " 'dataset/mnist_png/training/2/42019.png',\n",
       " 'dataset/mnist_png/training/2/17339.png',\n",
       " 'dataset/mnist_png/training/2/47448.png',\n",
       " 'dataset/mnist_png/training/2/41881.png',\n",
       " 'dataset/mnist_png/training/2/53972.png',\n",
       " 'dataset/mnist_png/training/2/11384.png',\n",
       " 'dataset/mnist_png/training/2/33281.png',\n",
       " 'dataset/mnist_png/training/2/9203.png',\n",
       " 'dataset/mnist_png/training/2/18526.png',\n",
       " 'dataset/mnist_png/training/2/16294.png',\n",
       " 'dataset/mnist_png/training/2/38078.png',\n",
       " 'dataset/mnist_png/training/2/13059.png',\n",
       " 'dataset/mnist_png/training/2/23319.png',\n",
       " 'dataset/mnist_png/training/2/31177.png',\n",
       " 'dataset/mnist_png/training/2/34848.png',\n",
       " 'dataset/mnist_png/training/2/46288.png',\n",
       " 'dataset/mnist_png/training/2/44549.png',\n",
       " 'dataset/mnist_png/training/2/58103.png',\n",
       " 'dataset/mnist_png/training/2/49573.png',\n",
       " 'dataset/mnist_png/training/2/48246.png',\n",
       " 'dataset/mnist_png/training/2/55749.png',\n",
       " 'dataset/mnist_png/training/2/5480.png',\n",
       " 'dataset/mnist_png/training/2/28985.png',\n",
       " 'dataset/mnist_png/training/2/14508.png',\n",
       " 'dataset/mnist_png/training/2/21151.png',\n",
       " 'dataset/mnist_png/training/2/26794.png',\n",
       " 'dataset/mnist_png/training/2/2337.png',\n",
       " 'dataset/mnist_png/training/2/2626.png',\n",
       " 'dataset/mnist_png/training/2/53343.png',\n",
       " 'dataset/mnist_png/training/2/52975.png',\n",
       " 'dataset/mnist_png/training/2/36001.png',\n",
       " 'dataset/mnist_png/training/2/55040.png',\n",
       " 'dataset/mnist_png/training/2/35970.png',\n",
       " 'dataset/mnist_png/training/2/53504.png',\n",
       " 'dataset/mnist_png/training/2/48401.png',\n",
       " 'dataset/mnist_png/training/2/11748.png',\n",
       " 'dataset/mnist_png/training/2/22044.png',\n",
       " 'dataset/mnist_png/training/2/20595.png',\n",
       " 'dataset/mnist_png/training/2/42692.png',\n",
       " 'dataset/mnist_png/training/2/58287.png',\n",
       " 'dataset/mnist_png/training/2/9231.png',\n",
       " 'dataset/mnist_png/training/2/33297.png',\n",
       " 'dataset/mnist_png/training/2/20446.png',\n",
       " 'dataset/mnist_png/training/2/34964.png',\n",
       " 'dataset/mnist_png/training/2/44784.png',\n",
       " 'dataset/mnist_png/training/2/57588.png',\n",
       " 'dataset/mnist_png/training/2/36266.png',\n",
       " 'dataset/mnist_png/training/2/29716.png',\n",
       " 'dataset/mnist_png/training/2/19569.png',\n",
       " 'dataset/mnist_png/training/2/12263.png',\n",
       " 'dataset/mnist_png/training/2/48332.png',\n",
       " 'dataset/mnist_png/training/2/18693.png',\n",
       " 'dataset/mnist_png/training/2/22900.png',\n",
       " 'dataset/mnist_png/training/2/46011.png',\n",
       " 'dataset/mnist_png/training/2/57307.png',\n",
       " 'dataset/mnist_png/training/2/5843.png',\n",
       " 'dataset/mnist_png/training/2/8886.png',\n",
       " 'dataset/mnist_png/training/2/49285.png',\n",
       " 'dataset/mnist_png/training/2/15736.png',\n",
       " 'dataset/mnist_png/training/2/12161.png',\n",
       " 'dataset/mnist_png/training/2/54854.png',\n",
       " 'dataset/mnist_png/training/2/20440.png',\n",
       " 'dataset/mnist_png/training/2/15650.png',\n",
       " 'dataset/mnist_png/training/2/16497.png',\n",
       " 'dataset/mnist_png/training/2/58114.png',\n",
       " 'dataset/mnist_png/training/2/42563.png',\n",
       " 'dataset/mnist_png/training/2/58910.png',\n",
       " 'dataset/mnist_png/training/2/25136.png',\n",
       " 'dataset/mnist_png/training/2/30477.png',\n",
       " 'dataset/mnist_png/training/2/55528.png',\n",
       " 'dataset/mnist_png/training/2/4278.png',\n",
       " 'dataset/mnist_png/training/2/34936.png',\n",
       " 'dataset/mnist_png/training/2/51171.png',\n",
       " 'dataset/mnist_png/training/2/375.png',\n",
       " 'dataset/mnist_png/training/2/21504.png',\n",
       " 'dataset/mnist_png/training/2/18084.png',\n",
       " 'dataset/mnist_png/training/2/13503.png',\n",
       " 'dataset/mnist_png/training/2/52319.png',\n",
       " 'dataset/mnist_png/training/2/28140.png',\n",
       " 'dataset/mnist_png/training/2/29770.png',\n",
       " 'dataset/mnist_png/training/2/48912.png',\n",
       " 'dataset/mnist_png/training/2/16142.png',\n",
       " 'dataset/mnist_png/training/2/20305.png',\n",
       " 'dataset/mnist_png/training/2/52942.png',\n",
       " 'dataset/mnist_png/training/2/35572.png',\n",
       " 'dataset/mnist_png/training/2/35137.png',\n",
       " 'dataset/mnist_png/training/2/26447.png',\n",
       " 'dataset/mnist_png/training/2/26770.png',\n",
       " 'dataset/mnist_png/training/2/8752.png',\n",
       " 'dataset/mnist_png/training/2/5841.png',\n",
       " 'dataset/mnist_png/training/2/49189.png',\n",
       " 'dataset/mnist_png/training/2/28404.png',\n",
       " 'dataset/mnist_png/training/2/33096.png',\n",
       " 'dataset/mnist_png/training/2/23138.png',\n",
       " 'dataset/mnist_png/training/2/58441.png',\n",
       " 'dataset/mnist_png/training/2/16664.png',\n",
       " 'dataset/mnist_png/training/2/38438.png',\n",
       " 'dataset/mnist_png/training/2/6079.png',\n",
       " 'dataset/mnist_png/training/2/53434.png',\n",
       " 'dataset/mnist_png/training/2/39561.png',\n",
       " 'dataset/mnist_png/training/2/51256.png',\n",
       " 'dataset/mnist_png/training/2/8470.png',\n",
       " 'dataset/mnist_png/training/2/3813.png',\n",
       " 'dataset/mnist_png/training/2/37491.png',\n",
       " 'dataset/mnist_png/training/2/31773.png',\n",
       " 'dataset/mnist_png/training/2/48877.png',\n",
       " 'dataset/mnist_png/training/2/48129.png',\n",
       " 'dataset/mnist_png/training/2/6547.png',\n",
       " 'dataset/mnist_png/training/2/31372.png',\n",
       " 'dataset/mnist_png/training/2/34718.png',\n",
       " 'dataset/mnist_png/training/2/6492.png',\n",
       " 'dataset/mnist_png/training/2/35035.png',\n",
       " 'dataset/mnist_png/training/2/15272.png',\n",
       " 'dataset/mnist_png/training/2/32435.png',\n",
       " 'dataset/mnist_png/training/2/28454.png',\n",
       " 'dataset/mnist_png/training/2/23520.png',\n",
       " 'dataset/mnist_png/training/2/2939.png',\n",
       " 'dataset/mnist_png/training/2/25487.png',\n",
       " 'dataset/mnist_png/training/2/18514.png',\n",
       " 'dataset/mnist_png/training/2/44377.png',\n",
       " 'dataset/mnist_png/training/2/39006.png',\n",
       " 'dataset/mnist_png/training/2/20502.png',\n",
       " 'dataset/mnist_png/training/2/10988.png',\n",
       " 'dataset/mnist_png/training/2/3308.png',\n",
       " 'dataset/mnist_png/training/2/54297.png',\n",
       " 'dataset/mnist_png/training/2/29449.png',\n",
       " 'dataset/mnist_png/training/2/14847.png',\n",
       " 'dataset/mnist_png/training/2/8473.png',\n",
       " 'dataset/mnist_png/training/2/21537.png',\n",
       " 'dataset/mnist_png/training/2/2402.png',\n",
       " 'dataset/mnist_png/training/2/14007.png',\n",
       " 'dataset/mnist_png/training/2/44401.png',\n",
       " 'dataset/mnist_png/training/2/53076.png',\n",
       " 'dataset/mnist_png/training/2/44019.png',\n",
       " 'dataset/mnist_png/training/2/31240.png',\n",
       " 'dataset/mnist_png/training/2/6080.png',\n",
       " 'dataset/mnist_png/training/2/45932.png',\n",
       " 'dataset/mnist_png/training/2/55032.png',\n",
       " 'dataset/mnist_png/training/2/3902.png',\n",
       " 'dataset/mnist_png/training/2/47393.png',\n",
       " 'dataset/mnist_png/training/2/43314.png',\n",
       " 'dataset/mnist_png/training/2/43292.png',\n",
       " 'dataset/mnist_png/training/2/24381.png',\n",
       " 'dataset/mnist_png/training/2/54299.png',\n",
       " 'dataset/mnist_png/training/2/44591.png',\n",
       " 'dataset/mnist_png/training/2/49916.png',\n",
       " 'dataset/mnist_png/training/2/33526.png',\n",
       " 'dataset/mnist_png/training/2/30349.png',\n",
       " 'dataset/mnist_png/training/2/15278.png',\n",
       " 'dataset/mnist_png/training/2/37484.png',\n",
       " 'dataset/mnist_png/training/2/49515.png',\n",
       " 'dataset/mnist_png/training/2/54758.png',\n",
       " 'dataset/mnist_png/training/2/16166.png',\n",
       " 'dataset/mnist_png/training/2/18930.png',\n",
       " 'dataset/mnist_png/training/2/10567.png',\n",
       " 'dataset/mnist_png/training/2/50221.png',\n",
       " 'dataset/mnist_png/training/2/34385.png',\n",
       " 'dataset/mnist_png/training/2/21493.png',\n",
       " 'dataset/mnist_png/training/2/51642.png',\n",
       " 'dataset/mnist_png/training/2/37967.png',\n",
       " 'dataset/mnist_png/training/2/49363.png',\n",
       " 'dataset/mnist_png/training/2/13624.png',\n",
       " 'dataset/mnist_png/training/2/58512.png',\n",
       " 'dataset/mnist_png/training/2/56088.png',\n",
       " 'dataset/mnist_png/training/2/25718.png',\n",
       " 'dataset/mnist_png/training/2/6012.png',\n",
       " 'dataset/mnist_png/training/2/34614.png',\n",
       " 'dataset/mnist_png/training/2/2518.png',\n",
       " 'dataset/mnist_png/training/2/56465.png',\n",
       " 'dataset/mnist_png/training/2/657.png',\n",
       " 'dataset/mnist_png/training/2/27385.png',\n",
       " 'dataset/mnist_png/training/2/28780.png',\n",
       " 'dataset/mnist_png/training/2/20930.png',\n",
       " 'dataset/mnist_png/training/2/43439.png',\n",
       " 'dataset/mnist_png/training/2/9862.png',\n",
       " 'dataset/mnist_png/training/2/41216.png',\n",
       " 'dataset/mnist_png/training/2/47900.png',\n",
       " 'dataset/mnist_png/training/2/34521.png',\n",
       " 'dataset/mnist_png/training/2/51698.png',\n",
       " 'dataset/mnist_png/training/2/37172.png',\n",
       " 'dataset/mnist_png/training/2/18845.png',\n",
       " 'dataset/mnist_png/training/2/35161.png',\n",
       " 'dataset/mnist_png/training/2/25138.png',\n",
       " 'dataset/mnist_png/training/2/53088.png',\n",
       " 'dataset/mnist_png/training/2/54541.png',\n",
       " 'dataset/mnist_png/training/2/50496.png',\n",
       " 'dataset/mnist_png/training/2/45412.png',\n",
       " 'dataset/mnist_png/training/2/42934.png',\n",
       " 'dataset/mnist_png/training/2/52660.png',\n",
       " 'dataset/mnist_png/training/2/21207.png',\n",
       " 'dataset/mnist_png/training/2/57112.png',\n",
       " 'dataset/mnist_png/training/2/55662.png',\n",
       " 'dataset/mnist_png/training/2/8433.png',\n",
       " 'dataset/mnist_png/training/2/17635.png',\n",
       " 'dataset/mnist_png/training/2/50913.png',\n",
       " 'dataset/mnist_png/training/2/10327.png',\n",
       " 'dataset/mnist_png/training/2/18117.png',\n",
       " 'dataset/mnist_png/training/2/48356.png',\n",
       " 'dataset/mnist_png/training/2/57153.png',\n",
       " 'dataset/mnist_png/training/2/10082.png',\n",
       " 'dataset/mnist_png/training/2/56922.png',\n",
       " 'dataset/mnist_png/training/2/23481.png',\n",
       " 'dataset/mnist_png/training/2/10978.png',\n",
       " 'dataset/mnist_png/training/2/58651.png',\n",
       " 'dataset/mnist_png/training/2/53264.png',\n",
       " 'dataset/mnist_png/training/2/22688.png',\n",
       " 'dataset/mnist_png/training/2/32450.png',\n",
       " 'dataset/mnist_png/training/2/25672.png',\n",
       " 'dataset/mnist_png/training/2/21042.png',\n",
       " 'dataset/mnist_png/training/2/30970.png',\n",
       " 'dataset/mnist_png/training/2/3105.png',\n",
       " 'dataset/mnist_png/training/2/1301.png',\n",
       " 'dataset/mnist_png/training/2/20375.png',\n",
       " 'dataset/mnist_png/training/2/39146.png',\n",
       " 'dataset/mnist_png/training/2/59621.png',\n",
       " 'dataset/mnist_png/training/2/13022.png',\n",
       " 'dataset/mnist_png/training/2/51648.png',\n",
       " 'dataset/mnist_png/training/2/82.png',\n",
       " 'dataset/mnist_png/training/2/30669.png',\n",
       " 'dataset/mnist_png/training/2/22778.png',\n",
       " 'dataset/mnist_png/training/2/36423.png',\n",
       " 'dataset/mnist_png/training/2/37307.png',\n",
       " 'dataset/mnist_png/training/2/15039.png',\n",
       " 'dataset/mnist_png/training/2/29851.png',\n",
       " 'dataset/mnist_png/training/2/9722.png',\n",
       " 'dataset/mnist_png/training/2/2234.png',\n",
       " 'dataset/mnist_png/training/2/38124.png',\n",
       " 'dataset/mnist_png/training/2/39079.png',\n",
       " 'dataset/mnist_png/training/2/6494.png',\n",
       " 'dataset/mnist_png/training/2/59456.png',\n",
       " 'dataset/mnist_png/training/2/42280.png',\n",
       " 'dataset/mnist_png/training/2/8443.png',\n",
       " 'dataset/mnist_png/training/2/40107.png',\n",
       " 'dataset/mnist_png/training/2/54924.png',\n",
       " 'dataset/mnist_png/training/2/1874.png',\n",
       " 'dataset/mnist_png/training/2/3156.png',\n",
       " 'dataset/mnist_png/training/2/18850.png',\n",
       " 'dataset/mnist_png/training/2/7939.png',\n",
       " 'dataset/mnist_png/training/2/40782.png',\n",
       " 'dataset/mnist_png/training/2/49735.png',\n",
       " 'dataset/mnist_png/training/2/37632.png',\n",
       " 'dataset/mnist_png/training/2/53884.png',\n",
       " 'dataset/mnist_png/training/2/55655.png',\n",
       " 'dataset/mnist_png/training/2/36600.png',\n",
       " 'dataset/mnist_png/training/2/12372.png',\n",
       " 'dataset/mnist_png/training/2/50065.png',\n",
       " 'dataset/mnist_png/training/2/37941.png',\n",
       " 'dataset/mnist_png/training/2/47603.png',\n",
       " 'dataset/mnist_png/training/2/46056.png',\n",
       " 'dataset/mnist_png/training/2/21813.png',\n",
       " 'dataset/mnist_png/training/2/15573.png',\n",
       " 'dataset/mnist_png/training/2/34425.png',\n",
       " 'dataset/mnist_png/training/2/40617.png',\n",
       " 'dataset/mnist_png/training/2/39059.png',\n",
       " 'dataset/mnist_png/training/2/58044.png',\n",
       " 'dataset/mnist_png/training/2/58060.png',\n",
       " 'dataset/mnist_png/training/2/37103.png',\n",
       " 'dataset/mnist_png/training/2/47842.png',\n",
       " 'dataset/mnist_png/training/2/54134.png',\n",
       " 'dataset/mnist_png/training/2/31002.png',\n",
       " 'dataset/mnist_png/training/2/57654.png',\n",
       " 'dataset/mnist_png/training/2/54866.png',\n",
       " 'dataset/mnist_png/training/2/40632.png',\n",
       " 'dataset/mnist_png/training/2/31905.png',\n",
       " 'dataset/mnist_png/training/2/16989.png',\n",
       " 'dataset/mnist_png/training/2/23171.png',\n",
       " 'dataset/mnist_png/training/2/10574.png',\n",
       " 'dataset/mnist_png/training/2/5345.png',\n",
       " 'dataset/mnist_png/training/2/40718.png',\n",
       " 'dataset/mnist_png/training/2/49475.png',\n",
       " 'dataset/mnist_png/training/2/1124.png',\n",
       " 'dataset/mnist_png/training/2/5151.png',\n",
       " 'dataset/mnist_png/training/2/27852.png',\n",
       " 'dataset/mnist_png/training/2/2457.png',\n",
       " 'dataset/mnist_png/training/2/22635.png',\n",
       " 'dataset/mnist_png/training/2/14230.png',\n",
       " 'dataset/mnist_png/training/2/26577.png',\n",
       " 'dataset/mnist_png/training/2/40847.png',\n",
       " 'dataset/mnist_png/training/2/19132.png',\n",
       " 'dataset/mnist_png/training/2/54457.png',\n",
       " 'dataset/mnist_png/training/2/21255.png',\n",
       " 'dataset/mnist_png/training/2/4080.png',\n",
       " 'dataset/mnist_png/training/2/21802.png',\n",
       " 'dataset/mnist_png/training/2/12156.png',\n",
       " 'dataset/mnist_png/training/2/40870.png',\n",
       " 'dataset/mnist_png/training/2/11251.png',\n",
       " 'dataset/mnist_png/training/2/1896.png',\n",
       " 'dataset/mnist_png/training/2/2976.png',\n",
       " 'dataset/mnist_png/training/2/2979.png',\n",
       " 'dataset/mnist_png/training/2/59130.png',\n",
       " 'dataset/mnist_png/training/2/52331.png',\n",
       " 'dataset/mnist_png/training/2/59920.png',\n",
       " 'dataset/mnist_png/training/2/59597.png',\n",
       " 'dataset/mnist_png/training/2/3965.png',\n",
       " 'dataset/mnist_png/training/2/20382.png',\n",
       " 'dataset/mnist_png/training/2/10766.png',\n",
       " 'dataset/mnist_png/training/2/13693.png',\n",
       " 'dataset/mnist_png/training/2/30663.png',\n",
       " 'dataset/mnist_png/training/2/34627.png',\n",
       " 'dataset/mnist_png/training/2/33951.png',\n",
       " 'dataset/mnist_png/training/2/44950.png',\n",
       " 'dataset/mnist_png/training/2/47610.png',\n",
       " 'dataset/mnist_png/training/2/44565.png',\n",
       " 'dataset/mnist_png/training/2/59281.png',\n",
       " 'dataset/mnist_png/training/2/17757.png',\n",
       " 'dataset/mnist_png/training/2/55985.png',\n",
       " 'dataset/mnist_png/training/2/30791.png',\n",
       " 'dataset/mnist_png/training/2/5890.png',\n",
       " 'dataset/mnist_png/training/2/25827.png',\n",
       " 'dataset/mnist_png/training/2/2184.png',\n",
       " 'dataset/mnist_png/training/2/16024.png',\n",
       " 'dataset/mnist_png/training/2/58533.png',\n",
       " 'dataset/mnist_png/training/2/38261.png',\n",
       " 'dataset/mnist_png/training/2/45346.png',\n",
       " 'dataset/mnist_png/training/2/26330.png',\n",
       " 'dataset/mnist_png/training/2/3924.png',\n",
       " 'dataset/mnist_png/training/2/48446.png',\n",
       " 'dataset/mnist_png/training/2/7801.png',\n",
       " 'dataset/mnist_png/training/2/10117.png',\n",
       " 'dataset/mnist_png/training/2/28095.png',\n",
       " 'dataset/mnist_png/training/2/52723.png',\n",
       " 'dataset/mnist_png/training/2/54454.png',\n",
       " 'dataset/mnist_png/training/2/37403.png',\n",
       " 'dataset/mnist_png/training/2/46710.png',\n",
       " 'dataset/mnist_png/training/2/39914.png',\n",
       " 'dataset/mnist_png/training/2/30840.png',\n",
       " 'dataset/mnist_png/training/2/9242.png',\n",
       " 'dataset/mnist_png/training/2/16108.png',\n",
       " 'dataset/mnist_png/training/2/34250.png',\n",
       " 'dataset/mnist_png/training/2/44347.png',\n",
       " 'dataset/mnist_png/training/2/45375.png',\n",
       " 'dataset/mnist_png/training/2/32792.png',\n",
       " 'dataset/mnist_png/training/2/21444.png',\n",
       " 'dataset/mnist_png/training/2/14653.png',\n",
       " 'dataset/mnist_png/training/2/16.png',\n",
       " 'dataset/mnist_png/training/2/59537.png',\n",
       " 'dataset/mnist_png/training/2/29501.png',\n",
       " 'dataset/mnist_png/training/2/20414.png',\n",
       " 'dataset/mnist_png/training/2/40376.png',\n",
       " 'dataset/mnist_png/training/2/33540.png',\n",
       " 'dataset/mnist_png/training/2/5965.png',\n",
       " 'dataset/mnist_png/training/2/43885.png',\n",
       " 'dataset/mnist_png/training/2/2022.png',\n",
       " 'dataset/mnist_png/training/2/8878.png',\n",
       " 'dataset/mnist_png/training/2/46217.png',\n",
       " 'dataset/mnist_png/training/2/48034.png',\n",
       " 'dataset/mnist_png/training/2/49702.png',\n",
       " 'dataset/mnist_png/training/2/56795.png',\n",
       " 'dataset/mnist_png/training/2/28453.png',\n",
       " 'dataset/mnist_png/training/2/18764.png',\n",
       " 'dataset/mnist_png/training/2/48118.png',\n",
       " 'dataset/mnist_png/training/2/45498.png',\n",
       " 'dataset/mnist_png/training/2/20448.png',\n",
       " 'dataset/mnist_png/training/2/30055.png',\n",
       " 'dataset/mnist_png/training/2/32780.png',\n",
       " 'dataset/mnist_png/training/2/27928.png',\n",
       " 'dataset/mnist_png/training/2/52841.png',\n",
       " 'dataset/mnist_png/training/2/9489.png',\n",
       " 'dataset/mnist_png/training/2/21597.png',\n",
       " 'dataset/mnist_png/training/2/37812.png',\n",
       " 'dataset/mnist_png/training/2/16781.png',\n",
       " 'dataset/mnist_png/training/2/33160.png',\n",
       " 'dataset/mnist_png/training/2/49781.png',\n",
       " 'dataset/mnist_png/training/2/2875.png',\n",
       " 'dataset/mnist_png/training/2/30064.png',\n",
       " 'dataset/mnist_png/training/2/28324.png',\n",
       " 'dataset/mnist_png/training/2/36170.png',\n",
       " 'dataset/mnist_png/training/2/23216.png',\n",
       " 'dataset/mnist_png/training/2/42969.png',\n",
       " 'dataset/mnist_png/training/2/16744.png',\n",
       " 'dataset/mnist_png/training/2/5985.png',\n",
       " 'dataset/mnist_png/training/2/13495.png',\n",
       " 'dataset/mnist_png/training/2/53266.png',\n",
       " 'dataset/mnist_png/training/2/33547.png',\n",
       " 'dataset/mnist_png/training/2/23718.png',\n",
       " 'dataset/mnist_png/training/2/46620.png',\n",
       " 'dataset/mnist_png/training/2/35509.png',\n",
       " 'dataset/mnist_png/training/2/15270.png',\n",
       " 'dataset/mnist_png/training/2/28640.png',\n",
       " 'dataset/mnist_png/training/2/35644.png',\n",
       " 'dataset/mnist_png/training/2/57289.png',\n",
       " 'dataset/mnist_png/training/2/4509.png',\n",
       " 'dataset/mnist_png/training/2/48277.png',\n",
       " 'dataset/mnist_png/training/2/52812.png',\n",
       " 'dataset/mnist_png/training/2/35111.png',\n",
       " 'dataset/mnist_png/training/2/25105.png',\n",
       " 'dataset/mnist_png/training/2/38509.png',\n",
       " 'dataset/mnist_png/training/2/16209.png',\n",
       " 'dataset/mnist_png/training/2/9575.png',\n",
       " 'dataset/mnist_png/training/2/34856.png',\n",
       " 'dataset/mnist_png/training/2/26626.png',\n",
       " 'dataset/mnist_png/training/2/27673.png',\n",
       " ...]"
      ]
     },
     "execution_count": 38,
     "metadata": {},
     "output_type": "execute_result"
    }
   ],
   "source": [
    "data_paths"
   ]
  },
  {
   "cell_type": "code",
   "execution_count": 40,
   "id": "795d81e5",
   "metadata": {},
   "outputs": [
    {
     "name": "stderr",
     "output_type": "stream",
     "text": [
      "/tmp/ipykernel_21992/307869694.py:1: TqdmDeprecationWarning: This function will be removed in tqdm==5.0.0\n",
      "Please use `tqdm.notebook.tqdm` instead of `tqdm.tqdm_notebook`\n",
      "  for path in tqdm_notebook(data_paths):\n"
     ]
    },
    {
     "data": {
      "application/vnd.jupyter.widget-view+json": {
       "model_id": "8b311a12faa94d29954fd2852ee6c5bd",
       "version_major": 2,
       "version_minor": 0
      },
      "text/plain": [
       "  0%|          | 0/60000 [00:00<?, ?it/s]"
      ]
     },
     "metadata": {},
     "output_type": "display_data"
    }
   ],
   "source": [
    "for path in tqdm_notebook(data_paths):\n",
    "    img_pil = Image.open(path)\n",
    "    image = np.array(img_pil)\n",
    "    h, w = image.shape\n",
    "    \n",
    "    heights.append(h)\n",
    "    widths.append(w)"
   ]
  },
  {
   "cell_type": "code",
   "execution_count": 44,
   "id": "4634513b",
   "metadata": {},
   "outputs": [
    {
     "data": {
      "text/plain": [
       "<matplotlib.lines.Line2D at 0x7f9d20308790>"
      ]
     },
     "execution_count": 44,
     "metadata": {},
     "output_type": "execute_result"
    },
    {
     "data": {
      "image/png": "[encoded data removed]",
      "text/plain": [
       "<Figure size 1440x720 with 2 Axes>"
      ]
     },
     "metadata": {
      "needs_background": "light"
     },
     "output_type": "display_data"
    }
   ],
   "source": [
    "plt.figure(figsize=(20, 10))\n",
    "\n",
    "plt.subplot(121)\n",
    "plt.hist(heights)\n",
    "plt.title('Heights')\n",
    "plt.axvline(np.mean(heights), color='r', linestyle='dashed', linewidth=2)\n",
    "\n",
    "plt.subplot(122)\n",
    "plt.hist(widths)\n",
    "plt.title('Widths')\n",
    "plt.axvline(np.mean(widths), color='r', linestyle='dashed', linewidth=2)\n"
   ]
  },
  {
   "cell_type": "markdown",
   "id": "3215ca71",
   "metadata": {},
   "source": [
    "## Data Generator"
   ]
  },
  {
   "cell_type": "code",
   "execution_count": 57,
   "id": "3c1903e9",
   "metadata": {},
   "outputs": [],
   "source": [
    "data_paths = glob('dataset/mnist_png/training/0/*.png')"
   ]
  },
  {
   "cell_type": "code",
   "execution_count": 61,
   "id": "36e0b425",
   "metadata": {},
   "outputs": [],
   "source": [
    "path = data_paths[0]\n",
    "gfile = tf.io.read_file(path)\n",
    "image = tf.io.decode_image(gfile)"
   ]
  },
  {
   "cell_type": "code",
   "execution_count": 62,
   "id": "c61dd77c",
   "metadata": {},
   "outputs": [
    {
     "data": {
      "text/plain": [
       "TensorShape([28, 28, 1])"
      ]
     },
     "execution_count": 62,
     "metadata": {},
     "output_type": "execute_result"
    }
   ],
   "source": [
    "image.shape"
   ]
  },
  {
   "cell_type": "code",
   "execution_count": 64,
   "id": "17ab2459",
   "metadata": {},
   "outputs": [
    {
     "data": {
      "text/plain": [
       "<matplotlib.image.AxesImage at 0x7f9cd877efa0>"
      ]
     },
     "execution_count": 64,
     "metadata": {},
     "output_type": "execute_result"
    },
    {
     "data": {
      "image/png": "[encoded data removed]",
      "text/plain": [
       "<Figure size 432x288 with 1 Axes>"
      ]
     },
     "metadata": {
      "needs_background": "light"
     },
     "output_type": "display_data"
    }
   ],
   "source": [
    "plt.imshow(image[:, :, 0], 'gray')"
   ]
  },
  {
   "cell_type": "code",
   "execution_count": 63,
   "id": "ec2ae7e1",
   "metadata": {},
   "outputs": [
    {
     "data": {
      "text/plain": [
       "TensorShape([1, 28, 28, 1])"
      ]
     },
     "execution_count": 63,
     "metadata": {},
     "output_type": "execute_result"
    }
   ],
   "source": [
    "inputs = image[tf.newaxis, ...]\n",
    "inputs.shape"
   ]
  },
  {
   "cell_type": "code",
   "execution_count": 45,
   "id": "6bee7925",
   "metadata": {},
   "outputs": [],
   "source": [
    "from tensorflow.keras.preprocessing.image import ImageDataGenerator"
   ]
  },
  {
   "cell_type": "code",
   "execution_count": 47,
   "id": "455045fb",
   "metadata": {},
   "outputs": [],
   "source": [
    "datagen = ImageDataGenerator(\n",
    "    rotation_range = 20,\n",
    "    width_shift_range = 0.2,\n",
    "    height_shift_range = 0.2,\n",
    "    horizontal_flip=True\n",
    "    )"
   ]
  },
  {
   "cell_type": "code",
   "execution_count": 68,
   "id": "91136939",
   "metadata": {},
   "outputs": [],
   "source": [
    "output = next(iter(datagen.flow(inputs)))"
   ]
  },
  {
   "cell_type": "code",
   "execution_count": 69,
   "id": "0167fa0a",
   "metadata": {},
   "outputs": [
    {
     "data": {
      "text/plain": [
       "(1, 28, 28, 1)"
      ]
     },
     "execution_count": 69,
     "metadata": {},
     "output_type": "execute_result"
    }
   ],
   "source": [
    "output.shape"
   ]
  },
  {
   "cell_type": "code",
   "execution_count": 75,
   "id": "2be45013",
   "metadata": {
    "scrolled": true
   },
   "outputs": [
    {
     "data": {
      "text/plain": [
       "<matplotlib.image.AxesImage at 0x7f9cd842ecd0>"
      ]
     },
     "execution_count": 75,
     "metadata": {},
     "output_type": "execute_result"
    },
    {
     "data": {
      "image/png": "[encoded data removed]",
      "text/plain": [
       "<Figure size 720x360 with 2 Axes>"
      ]
     },
     "metadata": {
      "needs_background": "light"
     },
     "output_type": "display_data"
    }
   ],
   "source": [
    "plt.figure(figsize=(10, 5))\n",
    "\n",
    "plt.subplot(121)\n",
    "plt.title('original')\n",
    "plt.imshow(np.squeeze(image), 'gray')\n",
    "\n",
    "plt.subplot(122)\n",
    "plt.title('transformed')\n",
    "plt.imshow(np.squeeze(output), 'gray')"
   ]
  },
  {
   "cell_type": "markdown",
   "id": "8fee9f41",
   "metadata": {},
   "source": [
    "## using flow_from_directory"
   ]
  },
  {
   "cell_type": "code",
   "execution_count": 80,
   "id": "72d5f654",
   "metadata": {},
   "outputs": [],
   "source": [
    "import os\n",
    "from glob import glob\n",
    "\n",
    "import numpy as np\n",
    "\n",
    "import tensorflow as tf\n",
    "import tensorflow.keras.layers as layers\n",
    "from PIL import Image\n",
    "\n",
    "import matplotlib.pyplot as plt\n",
    "%matplotlib inline"
   ]
  },
  {
   "cell_type": "code",
   "execution_count": 76,
   "id": "1f5be491",
   "metadata": {},
   "outputs": [],
   "source": [
    "train_dir = 'dataset/mnist_png/training'\n",
    "test_dir = 'dataset/mnist_png/testing'"
   ]
  },
  {
   "cell_type": "code",
   "execution_count": 77,
   "id": "ccdbc5d3",
   "metadata": {},
   "outputs": [],
   "source": [
    "train_datagen = ImageDataGenerator(\n",
    "    rescale=1./255.,\n",
    "    zoom_range=0.2\n",
    ")\n",
    "\n",
    "test_datagen = ImageDataGenerator(\n",
    "    rescale=1./255.\n",
    ")"
   ]
  },
  {
   "cell_type": "code",
   "execution_count": 86,
   "id": "88a67931",
   "metadata": {},
   "outputs": [
    {
     "name": "stdout",
     "output_type": "stream",
     "text": [
      "Found 60000 images belonging to 10 classes.\n",
      "Found 10000 images belonging to 10 classes.\n"
     ]
    }
   ],
   "source": [
    "input_shape = (28, 28, 1)\n",
    "batch_size = 32\n",
    "\n",
    "train_generator = train_datagen.flow_from_directory(train_dir,\n",
    "                                                   target_size=input_shape[:2],\n",
    "                                                   batch_size=batch_size,\n",
    "                                                   color_mode='grayscale',\n",
    "                                                   class_mode='categorical')\n",
    "\n",
    "validation_generator = test_datagen.flow_from_directory(test_dir,\n",
    "                                                   target_size=input_shape[:2],\n",
    "                                                   batch_size=batch_size,\n",
    "                                                   color_mode='grayscale',\n",
    "                                                   class_mode='categorical')"
   ]
  },
  {
   "cell_type": "code",
   "execution_count": 81,
   "id": "8c4b84cf",
   "metadata": {},
   "outputs": [
    {
     "name": "stdout",
     "output_type": "stream",
     "text": [
      "Model: \"Basic_CNN\"\n",
      "_________________________________________________________________\n",
      "Layer (type)                 Output Shape              Param #   \n",
      "=================================================================\n",
      "input_1 (InputLayer)         [(None, 28, 28, 1)]       0         \n",
      "_________________________________________________________________\n",
      "conv2d (Conv2D)              (None, 28, 28, 32)        320       \n",
      "_________________________________________________________________\n",
      "conv2d_1 (Conv2D)            (None, 28, 28, 32)        9248      \n",
      "_________________________________________________________________\n",
      "max_pooling2d (MaxPooling2D) (None, 14, 14, 32)        0         \n",
      "_________________________________________________________________\n",
      "dropout (Dropout)            (None, 14, 14, 32)        0         \n",
      "_________________________________________________________________\n",
      "conv2d_2 (Conv2D)            (None, 14, 14, 64)        18496     \n",
      "_________________________________________________________________\n",
      "conv2d_3 (Conv2D)            (None, 14, 14, 64)        36928     \n",
      "_________________________________________________________________\n",
      "max_pooling2d_1 (MaxPooling2 (None, 7, 7, 64)          0         \n",
      "_________________________________________________________________\n",
      "dropout_1 (Dropout)          (None, 7, 7, 64)          0         \n",
      "_________________________________________________________________\n",
      "flatten (Flatten)            (None, 3136)              0         \n",
      "_________________________________________________________________\n",
      "dense (Dense)                (None, 512)               1606144   \n",
      "_________________________________________________________________\n",
      "dropout_2 (Dropout)          (None, 512)               0         \n",
      "_________________________________________________________________\n",
      "dense_1 (Dense)              (None, 10)                5130      \n",
      "=================================================================\n",
      "Total params: 1,676,266\n",
      "Trainable params: 1,676,266\n",
      "Non-trainable params: 0\n",
      "_________________________________________________________________\n"
     ]
    }
   ],
   "source": [
    "inputs = layers.Input((28, 28, 1))\n",
    "\n",
    "net = layers.Conv2D(32, (3, 3), padding='SAME', activation='relu')(inputs)\n",
    "net = layers.Conv2D(32, (3, 3), padding='SAME', activation='relu')(net)\n",
    "net = layers.MaxPooling2D((2,2))(net)\n",
    "net = layers.Dropout(0.2)(net)\n",
    "\n",
    "net = layers.Conv2D(64, (3, 3), padding='SAME', activation='relu')(net)\n",
    "net = layers.Conv2D(64, (3, 3), padding='SAME', activation='relu')(net)\n",
    "net = layers.MaxPooling2D((2,2))(net)\n",
    "net = layers.Dropout(0.2)(net)\n",
    "\n",
    "net = layers.Flatten()(net)\n",
    "net = layers.Dense(512, activation='relu')(net)\n",
    "net = layers.Dropout(0.2)(net)\n",
    "net = layers.Dense(10, activation='softmax')(net)\n",
    "\n",
    "model = tf.keras.Model(inputs=inputs,\n",
    "                      outputs=net,\n",
    "                      name='Basic_CNN')\n",
    "\n",
    "model.summary()"
   ]
  },
  {
   "cell_type": "code",
   "execution_count": 89,
   "id": "b4ff99ef",
   "metadata": {},
   "outputs": [],
   "source": [
    "loss = 'categorical_crossentropy'\n",
    "optimizer = 'adam'\n",
    "metrics = ['accuracy']"
   ]
  },
  {
   "cell_type": "code",
   "execution_count": 90,
   "id": "47f67ee6",
   "metadata": {},
   "outputs": [],
   "source": [
    "model.compile(optimizer=optimizer,\n",
    "             loss=loss,\n",
    "             metrics=metrics)"
   ]
  },
  {
   "cell_type": "code",
   "execution_count": 92,
   "id": "97b0b826",
   "metadata": {},
   "outputs": [
    {
     "name": "stdout",
     "output_type": "stream",
     "text": [
      "Epoch 1/3\n",
      "1875/1875 [==============================] - 21s 11ms/step - loss: 0.0202 - accuracy: 0.9937 - val_loss: 0.0198 - val_accuracy: 0.9942\n",
      "Epoch 2/3\n",
      "1875/1875 [==============================] - 21s 11ms/step - loss: 0.0192 - accuracy: 0.9942 - val_loss: 0.0234 - val_accuracy: 0.9932\n",
      "Epoch 3/3\n",
      "1875/1875 [==============================] - 21s 11ms/step - loss: 0.0179 - accuracy: 0.9944 - val_loss: 0.0279 - val_accuracy: 0.9933\n"
     ]
    }
   ],
   "source": [
    "num_classes = 10\n",
    "epochs = 3\n",
    "\n",
    "hist = model.fit_generator(train_generator,\n",
    "                          steps_per_epoch=len(train_generator),\n",
    "                          epochs=epochs,\n",
    "                          validation_data=validation_generator,\n",
    "                          validation_steps=len(validation_generator))"
   ]
  },
  {
   "cell_type": "markdown",
   "id": "c8bd23a8",
   "metadata": {},
   "source": [
    "## using flow_from_dataframe"
   ]
  },
  {
   "cell_type": "code",
   "execution_count": 98,
   "id": "c72eef9c",
   "metadata": {},
   "outputs": [],
   "source": [
    "train_paths = glob('dataset/cifar/train/*.png')\n",
    "test_paths = glob('dataset/cifar/test/*.png')"
   ]
  },
  {
   "cell_type": "code",
   "execution_count": 99,
   "id": "35006b4e",
   "metadata": {},
   "outputs": [
    {
     "data": {
      "text/plain": [
       "(50000, 10000)"
      ]
     },
     "execution_count": 99,
     "metadata": {},
     "output_type": "execute_result"
    }
   ],
   "source": [
    "len(train_paths), len(test_paths)"
   ]
  },
  {
   "cell_type": "code",
   "execution_count": 100,
   "id": "41ef8ecb",
   "metadata": {},
   "outputs": [
    {
     "data": {
      "text/plain": [
       "'dataset/cifar/train/39769_automobile.png'"
      ]
     },
     "execution_count": 100,
     "metadata": {},
     "output_type": "execute_result"
    }
   ],
   "source": [
    "path = train_paths[0]\n",
    "path"
   ]
  },
  {
   "cell_type": "code",
   "execution_count": 103,
   "id": "d3329ba4",
   "metadata": {},
   "outputs": [
    {
     "data": {
      "text/plain": [
       "'39769_automobile.png'"
      ]
     },
     "execution_count": 103,
     "metadata": {},
     "output_type": "execute_result"
    }
   ],
   "source": [
    "filename = os.path.basename(path)\n",
    "filename"
   ]
  },
  {
   "cell_type": "code",
   "execution_count": 107,
   "id": "09c7bcd1",
   "metadata": {},
   "outputs": [],
   "source": [
    "def get_class_name(path):\n",
    "    fname = os.path.basename(path)\n",
    "    cls_name = fname.replace('.png','').split('_')[-1]\n",
    "    return cls_name"
   ]
  },
  {
   "cell_type": "code",
   "execution_count": 109,
   "id": "ae5a6c64",
   "metadata": {},
   "outputs": [
    {
     "data": {
      "text/plain": [
       "('dataset/cifar/train/39769_automobile.png', 'automobile')"
      ]
     },
     "execution_count": 109,
     "metadata": {},
     "output_type": "execute_result"
    }
   ],
   "source": [
    "cls_name = get_class_name(path)\n",
    "path, cls_name"
   ]
  },
  {
   "cell_type": "code",
   "execution_count": 111,
   "id": "16479d32",
   "metadata": {},
   "outputs": [],
   "source": [
    "class_names = []\n",
    "\n",
    "for path in train_paths:\n",
    "    cls_name = get_class_name(path)\n",
    "    class_names.append(cls_name)"
   ]
  },
  {
   "cell_type": "code",
   "execution_count": 121,
   "id": "3b7fe34c",
   "metadata": {},
   "outputs": [],
   "source": [
    "test_names = [get_class_name(path) for path in test_paths]"
   ]
  },
  {
   "cell_type": "code",
   "execution_count": 113,
   "id": "0f79c5e5",
   "metadata": {},
   "outputs": [
    {
     "data": {
      "text/plain": [
       "array(['airplane', 'automobile', 'bird', 'cat', 'deer', 'dog', 'frog',\n",
       "       'horse', 'ship', 'truck'], dtype='<U10')"
      ]
     },
     "execution_count": 113,
     "metadata": {},
     "output_type": "execute_result"
    }
   ],
   "source": [
    "np.unique(class_names)"
   ]
  },
  {
   "cell_type": "code",
   "execution_count": 114,
   "id": "0e5fabfa",
   "metadata": {},
   "outputs": [
    {
     "data": {
      "text/plain": [
       "(array(['airplane', 'automobile', 'bird', 'cat', 'deer', 'dog', 'frog',\n",
       "        'horse', 'ship', 'truck'], dtype='<U10'),\n",
       " array([5000, 5000, 5000, 5000, 5000, 5000, 5000, 5000, 5000, 5000]))"
      ]
     },
     "execution_count": 114,
     "metadata": {},
     "output_type": "execute_result"
    }
   ],
   "source": [
    "np.unique(class_names, return_counts=True)"
   ]
  },
  {
   "cell_type": "markdown",
   "id": "caf03ce2",
   "metadata": {},
   "source": [
    "## DataFrame create"
   ]
  },
  {
   "cell_type": "code",
   "execution_count": 115,
   "id": "e773abd6",
   "metadata": {},
   "outputs": [],
   "source": [
    "import pandas as pd"
   ]
  },
  {
   "cell_type": "code",
   "execution_count": 117,
   "id": "ad562acc",
   "metadata": {},
   "outputs": [],
   "source": [
    "data = {'name': train_paths, 'class': class_names}"
   ]
  },
  {
   "cell_type": "code",
   "execution_count": 125,
   "id": "5eca0845",
   "metadata": {},
   "outputs": [],
   "source": [
    "train_df = pd.DataFrame(data)"
   ]
  },
  {
   "cell_type": "code",
   "execution_count": 126,
   "id": "e05105d2",
   "metadata": {},
   "outputs": [
    {
     "data": {
      "text/html": [
       "<div>\n",
       "<style scoped>\n",
       "    .dataframe tbody tr th:only-of-type {\n",
       "        vertical-align: middle;\n",
       "    }\n",
       "\n",
       "    .dataframe tbody tr th {\n",
       "        vertical-align: top;\n",
       "    }\n",
       "\n",
       "    .dataframe thead th {\n",
       "        text-align: right;\n",
       "    }\n",
       "</style>\n",
       "<table border=\"1\" class=\"dataframe\">\n",
       "  <thead>\n",
       "    <tr style=\"text-align: right;\">\n",
       "      <th></th>\n",
       "      <th>name</th>\n",
       "      <th>class</th>\n",
       "    </tr>\n",
       "  </thead>\n",
       "  <tbody>\n",
       "    <tr>\n",
       "      <th>0</th>\n",
       "      <td>dataset/cifar/train/39769_automobile.png</td>\n",
       "      <td>automobile</td>\n",
       "    </tr>\n",
       "    <tr>\n",
       "      <th>1</th>\n",
       "      <td>dataset/cifar/train/44545_airplane.png</td>\n",
       "      <td>airplane</td>\n",
       "    </tr>\n",
       "    <tr>\n",
       "      <th>2</th>\n",
       "      <td>dataset/cifar/train/2936_bird.png</td>\n",
       "      <td>bird</td>\n",
       "    </tr>\n",
       "    <tr>\n",
       "      <th>3</th>\n",
       "      <td>dataset/cifar/train/7063_cat.png</td>\n",
       "      <td>cat</td>\n",
       "    </tr>\n",
       "    <tr>\n",
       "      <th>4</th>\n",
       "      <td>dataset/cifar/train/38360_cat.png</td>\n",
       "      <td>cat</td>\n",
       "    </tr>\n",
       "  </tbody>\n",
       "</table>\n",
       "</div>"
      ],
      "text/plain": [
       "                                       name       class\n",
       "0  dataset/cifar/train/39769_automobile.png  automobile\n",
       "1    dataset/cifar/train/44545_airplane.png    airplane\n",
       "2         dataset/cifar/train/2936_bird.png        bird\n",
       "3          dataset/cifar/train/7063_cat.png         cat\n",
       "4         dataset/cifar/train/38360_cat.png         cat"
      ]
     },
     "execution_count": 126,
     "metadata": {},
     "output_type": "execute_result"
    }
   ],
   "source": [
    "train_df.head()"
   ]
  },
  {
   "cell_type": "code",
   "execution_count": 122,
   "id": "21dfe124",
   "metadata": {},
   "outputs": [
    {
     "data": {
      "text/html": [
       "<div>\n",
       "<style scoped>\n",
       "    .dataframe tbody tr th:only-of-type {\n",
       "        vertical-align: middle;\n",
       "    }\n",
       "\n",
       "    .dataframe tbody tr th {\n",
       "        vertical-align: top;\n",
       "    }\n",
       "\n",
       "    .dataframe thead th {\n",
       "        text-align: right;\n",
       "    }\n",
       "</style>\n",
       "<table border=\"1\" class=\"dataframe\">\n",
       "  <thead>\n",
       "    <tr style=\"text-align: right;\">\n",
       "      <th></th>\n",
       "      <th>name</th>\n",
       "      <th>class</th>\n",
       "    </tr>\n",
       "  </thead>\n",
       "  <tbody>\n",
       "    <tr>\n",
       "      <th>0</th>\n",
       "      <td>dataset/cifar/test/2799_ship.png</td>\n",
       "      <td>ship</td>\n",
       "    </tr>\n",
       "    <tr>\n",
       "      <th>1</th>\n",
       "      <td>dataset/cifar/test/2435_frog.png</td>\n",
       "      <td>frog</td>\n",
       "    </tr>\n",
       "    <tr>\n",
       "      <th>2</th>\n",
       "      <td>dataset/cifar/test/1910_deer.png</td>\n",
       "      <td>deer</td>\n",
       "    </tr>\n",
       "    <tr>\n",
       "      <th>3</th>\n",
       "      <td>dataset/cifar/test/6584_dog.png</td>\n",
       "      <td>dog</td>\n",
       "    </tr>\n",
       "    <tr>\n",
       "      <th>4</th>\n",
       "      <td>dataset/cifar/test/3984_frog.png</td>\n",
       "      <td>frog</td>\n",
       "    </tr>\n",
       "  </tbody>\n",
       "</table>\n",
       "</div>"
      ],
      "text/plain": [
       "                               name class\n",
       "0  dataset/cifar/test/2799_ship.png  ship\n",
       "1  dataset/cifar/test/2435_frog.png  frog\n",
       "2  dataset/cifar/test/1910_deer.png  deer\n",
       "3   dataset/cifar/test/6584_dog.png   dog\n",
       "4  dataset/cifar/test/3984_frog.png  frog"
      ]
     },
     "execution_count": 122,
     "metadata": {},
     "output_type": "execute_result"
    }
   ],
   "source": [
    "test_data = {'name': test_paths, 'class': test_names}\n",
    "test_df = pd.DataFrame(test_data)\n",
    "test_df.head()"
   ]
  },
  {
   "cell_type": "markdown",
   "id": "9958bad5",
   "metadata": {},
   "source": [
    "## DataFrame save"
   ]
  },
  {
   "cell_type": "code",
   "execution_count": 123,
   "id": "3a743639",
   "metadata": {},
   "outputs": [],
   "source": [
    "train_csv_path = 'train_dataset.csv'\n",
    "test_csv_path = 'test_dataset.csv'"
   ]
  },
  {
   "cell_type": "code",
   "execution_count": 127,
   "id": "62ef7db4",
   "metadata": {},
   "outputs": [],
   "source": [
    "train_df.to_csv(train_csv_path, index=False)"
   ]
  },
  {
   "cell_type": "code",
   "execution_count": 128,
   "id": "0dbe7f76",
   "metadata": {},
   "outputs": [],
   "source": [
    "test_df.to_csv(test_csv_path, index=False)"
   ]
  },
  {
   "cell_type": "markdown",
   "id": "865e16d4",
   "metadata": {},
   "source": [
    "## using flow_from_dataframe"
   ]
  },
  {
   "cell_type": "code",
   "execution_count": 130,
   "id": "a82e78d7",
   "metadata": {},
   "outputs": [],
   "source": [
    "train_df = pd.read_csv('train_dataset.csv')\n",
    "test_df = pd.read_csv('test_dataset.csv')"
   ]
  },
  {
   "cell_type": "code",
   "execution_count": 131,
   "id": "2a0d4577",
   "metadata": {},
   "outputs": [],
   "source": [
    "train_datagen = ImageDataGenerator(\n",
    "    rescale=1./255.,\n",
    "    zoom_range=0.2\n",
    ")\n",
    "\n",
    "test_datagen = ImageDataGenerator(\n",
    "    rescale=1./255.\n",
    ")"
   ]
  },
  {
   "cell_type": "code",
   "execution_count": 133,
   "id": "5bafd817",
   "metadata": {},
   "outputs": [
    {
     "name": "stdout",
     "output_type": "stream",
     "text": [
      "Found 50000 validated image filenames belonging to 10 classes.\n",
      "Found 10000 validated image filenames belonging to 10 classes.\n"
     ]
    }
   ],
   "source": [
    "input_shape = (28, 28, 1)\n",
    "batch_size = 32\n",
    "\n",
    "train_generator = train_datagen.flow_from_dataframe(train_df,\n",
    "                                                    x_col='name',\n",
    "                                                    y_col='class',\n",
    "                                                   target_size=input_shape[:2],\n",
    "                                                   batch_size=batch_size,\n",
    "                                                   color_mode='grayscale',\n",
    "                                                   class_mode='categorical')\n",
    "\n",
    "validation_generator = test_datagen.flow_from_dataframe(test_df,\n",
    "                                                    x_col='name',\n",
    "                                                    y_col='class',\n",
    "                                                   target_size=input_shape[:2],\n",
    "                                                   batch_size=batch_size,\n",
    "                                                   color_mode='grayscale',\n",
    "                                                   class_mode='categorical')"
   ]
  },
  {
   "cell_type": "code",
   "execution_count": 134,
   "id": "00b8064d",
   "metadata": {},
   "outputs": [],
   "source": [
    "inputs = layers.Input((28, 28, 1))\n",
    "\n",
    "net = layers.Conv2D(32, (3, 3), padding='SAME', activation='relu')(inputs)\n",
    "net = layers.Conv2D(32, (3, 3), padding='SAME', activation='relu')(net)\n",
    "net = layers.MaxPooling2D((2,2))(net)\n",
    "net = layers.Dropout(0.2)(net)\n",
    "\n",
    "net = layers.Conv2D(64, (3, 3), padding='SAME', activation='relu')(net)\n",
    "net = layers.Conv2D(64, (3, 3), padding='SAME', activation='relu')(net)\n",
    "net = layers.MaxPooling2D((2,2))(net)\n",
    "net = layers.Dropout(0.2)(net)\n",
    "\n",
    "net = layers.Flatten()(net)\n",
    "net = layers.Dense(512, activation='relu')(net)\n",
    "net = layers.Dropout(0.2)(net)\n",
    "net = layers.Dense(10, activation='softmax')(net)\n",
    "\n",
    "model = tf.keras.Model(inputs=inputs,\n",
    "                      outputs=net,\n",
    "                      name='Basic_CNN')"
   ]
  },
  {
   "cell_type": "code",
   "execution_count": 135,
   "id": "de7f4758",
   "metadata": {},
   "outputs": [],
   "source": [
    "model.compile(optimizer=optimizer,\n",
    "             loss=loss,\n",
    "             metrics=metrics)"
   ]
  },
  {
   "cell_type": "code",
   "execution_count": 136,
   "id": "b5dc7fa8",
   "metadata": {},
   "outputs": [
    {
     "name": "stdout",
     "output_type": "stream",
     "text": [
      "Epoch 1/3\n",
      "1563/1563 [==============================] - 20s 13ms/step - loss: 1.6474 - accuracy: 0.4084 - val_loss: 1.4290 - val_accuracy: 0.4948\n",
      "Epoch 2/3\n",
      "1563/1563 [==============================] - 19s 12ms/step - loss: 1.2580 - accuracy: 0.5569 - val_loss: 1.0677 - val_accuracy: 0.6266\n",
      "Epoch 3/3\n",
      "1563/1563 [==============================] - 19s 12ms/step - loss: 1.0906 - accuracy: 0.6203 - val_loss: 1.0314 - val_accuracy: 0.6400\n"
     ]
    }
   ],
   "source": [
    "num_classes = 10\n",
    "epochs = 3\n",
    "\n",
    "hist = model.fit_generator(train_generator,\n",
    "                          steps_per_epoch=len(train_generator),\n",
    "                          epochs=epochs,\n",
    "                          validation_data=validation_generator,\n",
    "                          validation_steps=len(validation_generator))"
   ]
  },
  {
   "cell_type": "code",
   "execution_count": null,
   "id": "4ed77ed5",
   "metadata": {},
   "outputs": [],
   "source": []
  }
 ],
 "metadata": {
  "kernelspec": {
   "display_name": "Python 3 (ipykernel)",
   "language": "python",
   "name": "python3"
  },
  "language_info": {
   "codemirror_mode": {
    "name": "ipython",
    "version": 3
   },
   "file_extension": ".py",
   "mimetype": "text/x-python",
   "name": "python",
   "nbconvert_exporter": "python",
   "pygments_lexer": "ipython3",
   "version": "3.8.10"
  }
 },
 "nbformat": 4,
 "nbformat_minor": 5
}
